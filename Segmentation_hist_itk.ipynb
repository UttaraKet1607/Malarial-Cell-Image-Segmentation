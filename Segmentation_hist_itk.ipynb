{
  "nbformat": 4,
  "nbformat_minor": 0,
  "metadata": {
    "colab": {
      "name": "Segmentation.ipynb",
      "provenance": [],
      "collapsed_sections": [],
      "authorship_tag": "ABX9TyPPrFCHOL56EJsSrKO+2t0s",
      "include_colab_link": true
    },
    "kernelspec": {
      "name": "python3",
      "display_name": "Python 3"
    },
    "language_info": {
      "name": "python"
    },
    "widgets": {
      "application/vnd.jupyter.widget-state+json": {
        "9ecae517c6284d01bfa319b6c7fa418d": {
          "model_module": "@jupyter-widgets/controls",
          "model_name": "VBoxModel",
          "model_module_version": "1.5.0",
          "state": {
            "_view_name": "VBoxView",
            "_dom_classes": [
              "widget-interact"
            ],
            "_model_name": "VBoxModel",
            "_view_module": "@jupyter-widgets/controls",
            "_model_module_version": "1.5.0",
            "_view_count": null,
            "_view_module_version": "1.5.0",
            "box_style": "",
            "layout": "IPY_MODEL_e7b374caa3fd47fd851dd8ee4b707208",
            "_model_module": "@jupyter-widgets/controls",
            "children": [
              "IPY_MODEL_10f1c8d67bc04bb5a2f3adcbfd7d754f",
              "IPY_MODEL_71f6a332339c41f39be3845e806592e3",
              "IPY_MODEL_38b9f3956e3d4fb689d7195990814095"
            ]
          }
        },
        "e7b374caa3fd47fd851dd8ee4b707208": {
          "model_module": "@jupyter-widgets/base",
          "model_name": "LayoutModel",
          "model_module_version": "1.2.0",
          "state": {
            "_view_name": "LayoutView",
            "grid_template_rows": null,
            "right": null,
            "justify_content": null,
            "_view_module": "@jupyter-widgets/base",
            "overflow": null,
            "_model_module_version": "1.2.0",
            "_view_count": null,
            "flex_flow": null,
            "width": null,
            "min_width": null,
            "border": null,
            "align_items": null,
            "bottom": null,
            "_model_module": "@jupyter-widgets/base",
            "top": null,
            "grid_column": null,
            "overflow_y": null,
            "overflow_x": null,
            "grid_auto_flow": null,
            "grid_area": null,
            "grid_template_columns": null,
            "flex": null,
            "_model_name": "LayoutModel",
            "justify_items": null,
            "grid_row": null,
            "max_height": null,
            "align_content": null,
            "visibility": null,
            "align_self": null,
            "height": null,
            "min_height": null,
            "padding": null,
            "grid_auto_rows": null,
            "grid_gap": null,
            "max_width": null,
            "order": null,
            "_view_module_version": "1.2.0",
            "grid_template_areas": null,
            "object_position": null,
            "object_fit": null,
            "grid_auto_columns": null,
            "margin": null,
            "display": null,
            "left": null
          }
        },
        "10f1c8d67bc04bb5a2f3adcbfd7d754f": {
          "model_module": "@jupyter-widgets/controls",
          "model_name": "ToggleButtonsModel",
          "model_module_version": "1.5.0",
          "state": {
            "_options_labels": [
              "zero-inv + otsu",
              "watershed",
              "k-means",
              "adaptive thresh"
            ],
            "_view_name": "ToggleButtonsView",
            "style": "IPY_MODEL_b11e23b77fbd419da8ad574594ee0ede",
            "_dom_classes": [],
            "description": "Select Class:",
            "_model_name": "ToggleButtonsModel",
            "tooltips": [],
            "index": 1,
            "button_style": "info",
            "_view_module": "@jupyter-widgets/controls",
            "_model_module_version": "1.5.0",
            "_view_count": null,
            "disabled": false,
            "_view_module_version": "1.5.0",
            "icons": [],
            "description_tooltip": null,
            "_model_module": "@jupyter-widgets/controls",
            "layout": "IPY_MODEL_f8b474ca66ad42caa71430464556378a"
          }
        },
        "71f6a332339c41f39be3845e806592e3": {
          "model_module": "@jupyter-widgets/controls",
          "model_name": "IntSliderModel",
          "model_module_version": "1.5.0",
          "state": {
            "_view_name": "IntSliderView",
            "style": "IPY_MODEL_afa7d76b6575499688a7a2af9b3371c6",
            "_dom_classes": [],
            "description": "Select Image Number",
            "step": 1,
            "_model_name": "IntSliderModel",
            "orientation": "horizontal",
            "max": 13779,
            "_view_module": "@jupyter-widgets/controls",
            "_model_module_version": "1.5.0",
            "value": 5334,
            "_view_count": null,
            "disabled": false,
            "_view_module_version": "1.5.0",
            "min": 0,
            "continuous_update": false,
            "readout_format": "d",
            "description_tooltip": null,
            "readout": true,
            "_model_module": "@jupyter-widgets/controls",
            "layout": "IPY_MODEL_3b7a10431ac444dea7f22264e8e640f1"
          }
        },
        "38b9f3956e3d4fb689d7195990814095": {
          "model_module": "@jupyter-widgets/output",
          "model_name": "OutputModel",
          "model_module_version": "1.0.0",
          "state": {
            "_view_name": "OutputView",
            "msg_id": "",
            "_dom_classes": [],
            "_model_name": "OutputModel",
            "outputs": [
              {
                "output_type": "display_data",
                "data": {
                  "image/png": "iVBORw0KGgoAAAANSUhEUgAAAsgAAADICAYAAAD1NBdfAAAABHNCSVQICAgIfAhkiAAAAAlwSFlzAAALEgAACxIB0t1+/AAAADh0RVh0U29mdHdhcmUAbWF0cGxvdGxpYiB2ZXJzaW9uMy4yLjIsIGh0dHA6Ly9tYXRwbG90bGliLm9yZy+WH4yJAAAgAElEQVR4nOy9d5wsR3nu/327Z2bDSZJQRskCiSRkgowwwiD/wFzAvhccEMkCZDAGXxyuwSRzLzLBCJMx2IBtoskGGxFljA1YZASySMZgIQzK0tHJuzvTXe/vj6rqqampnt1zzu7ZcOo5nzkz011dVd1b0/X0U0+9JapKRkZGRkZGRkZGRoZFsdoVyMjIyMjIyMjIyFhLyAQ5IyMjIyMjIyMjI0AmyBkZGRkZGRkZGRkBMkHOyMjIyMjIyMjICJAJckZGRkZGRkZGRkaATJAzMjIyMjIyMjIyAmSCnJGRkZFx2EFE3i4iL1nB/PeIyOkrlX9GRsbKIhPkjIyMjIz9hog8RkS+IiJ7ReQm9/l3RURWu24rDRFREbljtO1iEfk7/11VN6vq1Yvkc76I/HSl6pmRkXHgyAQ5IyMjI2O/ICLPBF4HvAI4HjgOeBpwHtBrOaY8ZBXMAPI1z8g4GGSCnJGRkZGxZIjINuBFwO+q6t+r6m61+KaqPl5VF1y6t4vIX4nIJ0RkL/CLIvLLIvJNEdklIj8RkYuDfD8uIr8XlXWViPyqWLzGKdW7RORbInKWSzMjIq8SkR+LyE4RuVxEZty+D4rIDW7750XkbhPO61dE5EoR2SEiXxSRsw/yOjUqs4g8XES+KyK7ReRaEXmWiGwCPgmc6OwYe0TkRBGZEpHXish17vVaEZkK8n22iFzv9j0lKmd/r/lp7viL3L7bRORpIvJz7trvEJE3HMx1yMhYr8gEOSMjIyNjf/DzwBTwkSWkfRzwUmALcDmwF3gCcATwy8DTReSRLu07gN/0B4rIzwK3Bz4OPAR4AHAmsA24ALjVJX0lcG/gfsBRwLMB4/Z9EjgDOBb4BvDuVCVF5J7AW4HfAW4HvBm4NCSmB4m/BX5HVbcAZwH/oqp7gYcB1zk7xmZVvQ74E+C+wD2AnwXuA7zA1fOhwB8BDwbuCJyfKGt/rrnHudjr9Gjgta4ODwbuBlwgIg9chmuQkbGukAlyRkZGRsb+4GjgFlWt/AanuO4QkTkReUCQ9iOq+gVVNao6r6qfVdVvue9XAe8FPPm6FDhTRM5w3y8E3q+qfWCAJXx3BkRVv6eq14tIAfwW8Aeqeq2q1qr6Ra9iq+pbncK9AFwM/KxTwGM8FXizqn7F5fEOYAFLVNvwDXfOO0RkB/DcCWkHwF1FZKuq3qaq35iQ9vHAi1T1JlW9GfhTdy3APhi8TVW/o6r73DnF2J9r7vFil/afsIT6va78a4F/A+45ob4ZGRsSmSBnZGRkZOwPbgWOFpGO36Cq91PVI9y+sF/5SXigiJwrIv8qIjeLyE6sb/lol8c88H7gNx3xfSzwLrfvX4A3AG8EbhKRt4jIVnfsNPBfcSVFpBSRS0Tkv0RkF3CN23V04pxOBZ4ZEd6TgRMnXId7qeoR/gVcMiHtrwMPB34sIp8TkZ+fkPZE4MfB9x8H9TiR0Ws6cn1T2yZd8wA3Bp/nEt83T6hvRsaGRCbIGRkZGRn7gy9h1dVHLCGtRt/fg1WKT1bVbcCbgDDqxTuwCuqDgH2q+qUmI9XXq+q9gbtirRZ/DNwCzAN3SJT9OFfHB2NtGae57akoGz8BXhoSXlWdVdX3LuEcF4Wqfk1VH4G1evwj8AG/K5H8Oixh9zjFbQO4Hjgp2Hdyqrjo+2LXPCMjI4FMkDMyMjIylgxV3YEd9v9LEfkNEdkiIoWI3APYtMjhW4DtqjovIvfBktgw7y9h/cOvwqnHAG7S2Lki0sVaAOYBo6oG6x1+tZvgVorIzzvv8BYskb8VmAX+bEK9/hp4mitDRGSTm9y2ZckXpgUi0hORx4vINlUdALsYeqRvBG4X2T7eC7xARI4RkaOB/wf48HEfAC4SkbuIyCzwf5dQhYnXPCMjI41MkB1E5E0ispSbzX6lXSQfP4O407L/OyJy/sGWk5GxESAiTxKRy1e7Hhmgqn+OnSz2bCzJuxE7se05wBcnHPq7wItEZDeW+H0gkeadwN0ZkkKArVgSexvWcnArNsQcwLOAbwFfA7YDL8f2be90aa8Fvgt8ecL5fB34bayN4zbgh8CTJpzH/uJC4Bpn9XgaViVHVf8DS4ivdtaOE4GXAF8HrnLn9Q23DVX9JPB64F9dHf05LUwoeynXPCNjSZBEDPCDyOuzIvKU5chrJSCqqRGejEMBETkN+BHQDSe8ZGRkjENEngQ8RVXvv9p1yVg5iMgTgKfmv/PiEJG7AN8GpnIfkgF2wRrgjqr6m4ulPcD8FThDVX+4DHl9Fvg7Vf2bg67YCiAryORg6hkZAG0jGRkZhwrONvC7wFtWuy5rFWLjQk+JyJFYtfyjmRxnLBdyPzDEhiXIzqP1WTds9R0R+V/BvlQw9beLyEuCNIsFY3+J+3y+iPxURJ4pNoj99SJyUZBPa5D2JZzDNSLyYPf5YrFB7/9ObLD5b4nImSLyPFfuT0TkIcGxF4nI91zaq0Xkd6K8J53flIi8UkT+W0RudJaSmf39G2SsPkTkXq797Xbt5/2JtvscEbkBeJuIHCkiHxM74/029/kkl/5RInJFlP8fiUgyHq6zRFztyv6RiDw+2PfbQfv8rojcy21/rtioA377r044tzuLyKdFZLuIfF9ELliGS5axShCR/wHcjLVrvGeVq7OW8TvATdjIHTXw9NWtTsZywfXbHw2+/0BEPhh8/4mI3ENEXuc+7xKRK0TkF9z+hwLPBx4tduGZf3fbt4nI37o+/1oReYk4YdDdp78gdiGeW4GLReSOYqOt7BSRW0Tk/VFVH+zqtkNE3igyXF5eRH7L3dtvE5HLROTUYN8vich/uHzfwFqfLKqqG+4FdLH+rOdjlz39/4DdwJ3c/rcDO7HLohbYMEFvB17i9j8UuAEbJH0W64VT7LAFUdrzgQq7slQXG8pnH3BksP/urpyzsTf/R7p9p7l8Oy3ncQ3wYPf5YuzElP8BdLD+uh9hA7p3sf65HwXH/jJ2ZrdgY17uw4YlWsr5vQY76/ko7ASPjwIvW+2/a37t9++gh/Vg/oFrI78G9BNt9+XYhR9msIsk/LprF1uADwL/6NJPYT2edwnK+Cbw64myN2EnI/nf3AnA3dznR2F9oT/n2ucdgVODfSe638ujsROyTnD7ngRcHuT/E+Ai93u4JzaiwV1X+7rnV37lV34dyAs4Hdjh7n8+3N9Pg323uX2/6e7VHeCZrj+fdukuxtoWwnz/ATtHYBM2kspXsQvX+PtqBfyey28G64v/E4b86P5BXgp8DLvwzCnYh9qHun2PwHKvu7i8XgB80e07GsvDfsP1R//HlfuU1b7uba+NqiDfFxu38RJV7auNofkxbFxNj5Fg6tHxSwnGHmKADew+UNVPAHuAOwHo0oK0LxX/pqqXqR1O+yBwjDvHAfA+4DQROcKV+3FV/S+1+BzwT8AvLHZ+7knwqcD/UdXtqrobO/v7MQdY54zVw32xN6nXu7b5YeyNMYQBXqiqC6o6p6q3quqHVHWf+9u/FNde1S628H7camdil+09DfvbSsEAZ4nIjKper6rfcdufAvy52tBXqqo/VNUfuzI+qKrXud/L+4EfYFcSi/ErwDWq+jZVrVT1m8CHsAQ7IyMjY91BVa/Gksh7YFeOvAy4TkTujL0P/5u7N/6du1dXqvoqrHhxp1SeInIcVrj7Q1Xdq6o3YUWwsE+/TlX/wuU3h+U0pwInql1AJp4cfYmq7lDV/8ZOGL2H2/40rJj2PcdT/gy4h1ORHw58R+3y9APsio03HMz1WmlsVIJ8IvATtSGAPH6MXbbUIxVgfeT4JaYFuFVHPWD7cIHVZWlB2peKOHj7LapaB98Jyn2YiHzZDT/vwDZOX+6k8zsGqx5eIcOA+Z9y2zPWF04ErlX3+O4Qt+WbwwdEEZkVkTeLyI/Fzrj/PHCEDH367wAe5x6kLgQ+4IjzCNQuo/tobHu/XkQ+7m7yYGO3ji3s4Mp/gohcGbS9s2hf2OFcGV3Y4fHA8ZMuyEaCiJzs7i3fFWsj+wO3/ShnPfmBez/SbRcReb2I/FBErvK2FrfviS79D0Tkiat1ThkZGXwOO7r3APf5s1hy/ED3HRF5lrMx7HT3vm2084pTsYrt9cG98s1YJdkj7heejR3d+6q7t/xWtD8ktg3fcWW9Lihnu8vn9kS8w/VLi3GrVcVGNWNfB5wsIkVAkk8B/jNIMyl8x1KCsS8V78GGDnqY2jiUr+XACfKSIDYG6IeAJ2CV8oGI/CNDv8+k87sFS7bvpnaZ0Yz1i+uB24uIBCQ5Jqfx7+CZWCXiXFW9QWxs22/i2o6qfllE+tjRiMcxIaaqql4GXCbWv/4SbJiuX8DeFMcWdnAqw19jF4n4kqrWInIlaZ/aT4DPqeovTboAGxwV8ExV/YbYeL1XiMinsUOmn1HVS0TkudglkJ8DPAw4w73OBf4K+5BxFPBC4Bxse7hCRC5V1dvaCj766KP1tNNOW7kzy1hzuOKKK25R1SyUrDw+B/xP4GewCqx/+P954A3Ob/xs7H3yO6pqROQ2hvfJ+J7+E2wYwKO1fTLnyDGqegPWtomI3B/4ZxH5vC4eucIvuPPueIfYJeRPDr4LB8etVhwblSB/BftU82wReRXWa/w/sZ7HpeADwFtF5F1Y5flgYh6ngrT/00HktxT0sEMuNwOViDwMeAg2HBBMOD/3Y/tr4DUi8gxVvUlEbg+c5QhPxvrBl7CTeJ4hIn+F9aXfB6tItGEL9gFpR0CcYrwT+9A3SAy9Ac2w3n2Bf3b57WG4OMLfYBd2uBwb4/UO2CG9Tdgb9c0uj4uwCnIKHwMuEZELsfYisMN8e1T1exPOb8NAVa/HPgShqrtF5HtYpeYRWAUKrOL/WSxBfgTwTvew9GUROUJETnBpP62q2wEcyX4o1g6WxGmnncbXv/71FTirjLUKEfnx4qkylgGfA14N3KiqP3Ujee/C8rVvYuchVdj7ZMc9BG8Njr8R+CUvEKrq9SLyT8CrxK7fsAdLvk9y9ssxiMijsCLFT7G+Z2V4/56ENwEvFpErVfU7YhfAeYiqfhD4OJbg/xp2jtP/Zo2P+G1Ii4Wq9rGE+GFYRfQvgSeoDcq+lOMPJBh7Gw55kHbnHf19V9ZtWFJ+abB/sfN7jt/ufpz/TIu/KWPtwv0Ofg14MlaF+E0ssZzUjl+LnaRxC7ZdfCqR5l1Y4vp3iX0eBXYhieuww2wPxM22dzfLl2JHV3Zjl949SlW/i11B7UvYm/zdgS+0nNtu7EPfY1wZNzCcbHjYQWxM9XtixYHjHHkGe12Oc59vz+iQ5k/dtrbtcRlPFZGvi8jXb7755mWtf0ZGhoWq/ieWxP6b+74LuBr4grNUXoa9L/8nVuCaZ/T366Ne3Coi33Cfn4AVzr6L5QR/j5043YafA74iInuw3OEPnD96sbr/A/Y+/D7HHb6N5WGo6i3YOSKXYBf6OYOW+/taQV4oZAmQDR6MfaOfX8YQIvIV4E2q+raDyGMGG2bqXqr6g2WrXMYBQUQ2Y1Wnl6rqh0Vkh6oeEey/TVWPFJGPYSfXXO62fwb7MHw+dga8D//3f4E5VX1lW5nnnHOOZgX58IKIXKGq56x2PTIyDhU2pIK8HJANHox9o59fhoWIPFBEjheRjpt8dTZpVXh/8HTga5kcrz5EpIudb/BuF6UE4EZnncC93+S2X8uo5+8kt61te0ZGRsZhixUjyCLyULHB+3/oPDLrDRs9GPtGP78VwTps13cC/h1rsXgm8BvB8Pt+Q0SuwcZVfuay1C7jgOEmufwt8D1VfXWw61LAR6J4IvCRYPsTXDSL+wI7XVu4DHiI2EVijsRaV/ZrvsHOuQHnXfIvfODra3pSesZhiHV4z85YI1iRSXpiQ0K9EfglrJ/ta25W9HdXoryVgKo+dLXrsJLY6Oe3EliP7VpV38IyLturqqctV14ZB43zsKH2vuWifYBdHOkS4AMi8mSsR9GvMPgJbLjHH2InMV8EoKrbReTFwNdcuhf5CXtLhapy7Y459sznQaiMtYP1eM/OWDtYqSgW9wF+6E3dIvI+7Azq3Cgz1jNyu85YM3Be4ralWh+USK/YmeOpvN4KvPVA6yKuGnlGS8YaQ75nZxwwVoogp2ZFnxsmEJGnYldsA7j3CtVjRXHCCWfQ7fSGnUIz4THss5TU1lEM9yjadDajCLseGctQgB07bmTX7luWUvW1gvUWV3PRdg0bo23f6U53otfrJfcdzMRe6wqYnE+YxuOGG25gPUVOUNX2n/tGhDvbPOk7Y43hsOAiGQeNJBdZtTjI4dCviKzpu2q3O8XJp9zVfglq+qQn/DlHHHEcGGn2FSKAYNQmVdOsX45I0PmLjHUmQ2KgI991dE11RMS+ioBKC1z+hffzta9/dIQ4K8qPrr6SNYoNGVdzPbXtqakp7n73u49tf/3rX8/xxx8/0kaLomhds75pkxEB9t9j0tuWV1EUiAhFMTo94j3veQ8f/vCHx/LJkRTWBhLPNBkZ6wLr6X6dsWJIcpGVIsgbalb0kUcez7P++N1gHOE1CgimVrQ2hD8p9f8by1OFgFMrVmUWSXQoQyLhSUn4niTTiuuZLBs/734XcN79LqAoLVHRUqmqBf7w9+9FxrJgQ7VrgBNOOIGPfvSjqCp1XWOMjQVf1zV1XSePSbXFkOAWRYExptnuSa3fDmCMGXvw83nH5BjgsY99LI973OOa/AEGgwGnn376wV+EjING82if6UXG2sKGu2dnHDqsVBSLrwFniMjPiEgPG8z/0kWOWbtQoAZTW+KLEaihUKGgQKRwtgj30nG1LFS+BBC1rwJxL0DVbhO7TdSWLQiFFM1LgtJQbdKUUlAgaK2ICkVdoINDcoUOF2ysdu1QVRVVVTVk1ZNYT0bj9huqxqHiGxPbcH+sNIfEOCyjbdSkLEtgSKzBEuSMtYHm75ZdyBlrCxvynp1xaLAiCrKqViLyDGyooBJ4q6p+ZyXKWm6c/4uP58Tbn4mooGrAwPTMFrRSp/4WiPoOHFDX4ePpsVgfcQuhCLd5NEqbgqoZDku3uJEBt+ijNmV5RVkQUKtsUwgd6fCYR19sSX4BRSEUBVAMVb13v+ti6jrPPl8M67ldA1x00UXc7W53AyzRNMawZcuWhnR6ghuTV0+YY0U4TBtaKVLfPfEOt4dkOPXbiAm131bXNUVR0O12ednLXtakK8uSsiybY4qi4FnPelYm0ocAWUHOWItY7/fsjNXFinmQVfUT2LBC6wp3vtP9OOusBzo7BKizSpjaWPIpQ1Jgak129HGH7j97ogGMKWnxMHPstUxNXAo7o9Fhb8EYBaMURcn97/soS4IKKMuCogQKkALKssN73/3iTJCXiPXargEe+MAH8qAHPWiszYVWCk+W67oea8sw2g7bbBKp34CIjBDtOL+4/cfvIRH35L4sSx7zmMc0xLssS4qiaN673S7Pec5zMkE+BPB/0syPM9Ya1vM9O2N1sWqT9NYqGo+xFqhRRNVZh9WJsKOEICYITlR2eaS9mqnjQlIRk5LU8cHWJr90evu5cMRCRa34bCxBFtI+04yNh9BXHKvCfltosQi3hYi3xRPuYNw378vxVokwnbdXpAh0nDb1EBqr1GGajEODCWNdGRkZGesShy1B7vVmePkrP09dGTCK1lYRnp7aRFGXtqM1xk2oG5odtOEOdqLdmLpV162K2zicKcOlMW7yn+qwkw+HvUeODL2aYC0hTvYOCccwHRRSWhuGcb5oI0glvPyln0NL2LnrBl70p488uAubseqYnZ3lqquuanzFVVVR1zWbNm1qSGSoEA/b3zhBDdudn8S3mF0o/BzmLSJNncK2HVsv4nx8GZ5gF0XREP34oTK0Vxhj+MY3vkFRFNx444088IEPPMgrm7EYssUiIyNjo+CwJcgITE1tRjuWHKuLUIGxRGBkmFfdAXbLGFlNDTOnMJpmfH7kpGFqvz81JC24kG/ifNO2miPp/JC0DXih1FUNLuzc9NQWpFcwP793Yv0z1g82b97cKMbekuDJcvhAF7evpbTj2EccKsqx/zjMOzw+tmoAI4Q5TBdGxojrKSLUdd14j/25+mM3b95Mt9tlz549B3YhM5aEocUiM+SMjIyNgcOOIG/adARSFPR6M5hBHRBj59vVoTVCROx+tOkAUkO34ZB0iNRkphhpa4TfN74tNdFp3DNKE1/OTiAcJS3GKEaNjZpRCCIF9PuY2rB581GMnN7IF2X3rv1agTbjEOLII4+kKApmZ2cZDAYNWQwJcth+vAobRqkIVeXQshAi5UOG8bbctj3e7xG24TD6hd8ew1s7YqU6jsLhFfPb3e52Sf+zx3paiGStIivIGRkZGwWHHUF+3v/7EEdtOwFjQOsaY3Ch20wTnQKwpBFoIhsnJs757SmE1obQKwlFsG9UCRseW47sHx+2ZsQrmlLjQqIjkvAIelXchaTTSjlq6/G84uVfoCjFxlLuFkjHvsqypNIFnnzBGe0XN2NV8ZnPfIYTTjihIYR+JCQmx16p9QQ55YOfpCLH7ddvC4m2J7YxQg+yMWaECIcKcnhsynPs0/rJeSFCYu7P/bjjjuOqq66i0+lQliXdbpdOp0On06Hb7VJVVevKgRmLI9u9MzIyNhoOO4JMjfUbVy4qRe3Dq3k7xTBkGkyeMOQRkmG3xe1XvLhs0yTsEYmJd2nlLVSj/b6QqIBfBMgfF5II+x6T9WGuJaWN9SwVphakLChRCqMULnrHyoXNzlgOeDtFv98fmfQG43/3+LNPk5pct3+/gcn++9Dy479PmlAXk3BPeDudzkgZMYEO4W0YoR0jfMCMCXbG/kMmTBbOyMjIWI84LAjy6affg5NOvguq0OnM2BXwjLolOhS70IePQtEw47HOuR3DaBH2mFDZHVeeJw1Zw3g4uPjYcTXb+Sma9KPhtxq/ae2VHuer9rYRHUbqoBYQBWPj29W1oXTZa5G2kmSsHs455xzOOussVJXp6enGY+zh20loR0hh8ZGQRHvS8YgSPm2bDzm0S7R5kcPjYuIb1iceQWl72AytGjBUzv21avz5GQeMlC0sIyMjYz3jsCDI97jng3nQg38LNTaesaktOcYoBYXz6hZ4eqyqmBZinFJ1R8nxKIGNF1+ICUXagzw+zN2mMqfIgao4RXmcUJeFW4lPxkm6V6JRUFGkUkuWpbKcucy931rDwx/+cJ72tKc16nEYxm3SZDqPtol08bYw5nFo32nLyyNcchpGFx7x+afaeZuyHP92vE3D550i5qGfOiTLIVlvW1Y7Y2kYTmHOyMjI2Bg4LAiyqRWtsHfvemijEBevWBBLiL2SSkgWisBfZ4mltzcMO2ozFgs2JLmh2rZoXQNfZuwJnTRk3XiNnUIc11EkWAzb2z0EO1FPhhP5RIFCXCxnt0pKjV1YJPsM1xxCr7F/j8OntZHQmIB6Eh0e4/NLte0wv/hBLUW8fdv2FodwYt1Sle1YyfZlps4n3hemCR8k2ibZZiwd4zazjIyMjPWNDUuQjz3uVJ705D/H1MoRW45Da+O8uzQOA0uIdcJNPb7pa/NdZEgGQgUrVsxCxKpx2KGnOuml2TtGJ+R570QR2YXVVTpwVtjroO1WkCaZWzwlq2xrA6effjp/+Zd/SV3XHHvssSOh21IEss0+sZhfNGxXMUkOQ6mFeYXtv61tx+R2UvuO94e++lhtjs/Le5XD32iYLzASBi/jwDFUkDNDzsjI2BjYsAS5153h1FPOwlSgtXFLL7tQbo4MFi6KQ6yyDYmDOlI9SlRDZS1UeVOEoc1DnOqwUyrxUknMsP5pe0eTBhr7yIgyHRB+DYizotRa2QeJOpOItYCZmRnOPvvskTjHocc2peiGBDZE3B7DiWt+u1d+vSXB5x+34bhsj1CZjn9DS0GcNiw7bNuxdSNcgtoj9i0vtQ4Zk5FHlzIyMjYaNhxBbjpnN8HMxjnGLq08XD2DJhGjneT4cPR4GX6/JwyxrzKsS5stIhy6DtOGXk1oj7Ec52WJwrCjalWDobGTCMOQWp1uMEnJ7cN5mOuqtmpzZ3Rlvuw4PLQISW9VVSPxjWMFN7UCY8qDHCNWdz3xjkdFYrIbt7ewbYfxiL2qGy/8EZ5fW51D9TjlqY4fAqqqaghymD4sx8eLDv3LcR0ylo582TIyMjYKNhxBfuObvm0V0EoxtbH+WQ1JHd5kjEYT1Yad4jAkm1dkJw1XxxOY4jyX4kGOO+dJHXRMJMKy4zLiyABNWrthmJdx+aqvM6iREdJRmIK/+ItvUXSE73//K7zuNb/VWseM5cd1113XENZQOR5/qGtXjGNbT4qUhu01XK469g6nLENxXmGZoT0jRuyFDs+jrW3H++LfoFeOPQEO9/vr6OtTliX//d//TafT4fLLL+dRj3rUIn+NjBDN32yV65GRkZGxXNhwBFlrA1o41dhaKDChzzhNUtsmmYRKWErtjcnvUsiwzzMmKLFvM1bOmnOMSMHQKzp+PmG9w8/Dy+G8mI402/1usp64yAB0rAd5YJXkoiiRLBUdcnhiGSvHiz1MtXniPeGNVeN4RCSOpx3+JmKEi5B4VTa0NYTE1KdPWTImnUPbw2RMmMPjwt9TqLL7c1lYWKDb7eZwbweLfF/IyMjYIDhggiwiJwPvBI7D8q23qOrrRORi4LcBv27r81X1Ewdb0Rhbtt6O444/zd6P/U1ZwdTuuzKqHAficExdxzvc4b7UULU/JtWRh37OlLI2yWMcq2ixWpci36Ofh6HdUuWmSI29TIJGHlGw16lAMFJSUwOCqQ2DAfR6m7nDHe9t+XUjuAtX/+CbGLO+J/Otdts+5phjuMMd7gCMq8EpW8FSljr3acPP3W63NfRbrBbH9obQJhQfG7a3uC2GbTK0EbXFaQ6JbnxcTO5TD4Iiw0VC4rz9OYZxkfv9PrOzs5x77rlj5/6Vr3wlT1SdADcAlZFxSLqIcuMAACAASURBVLHa9+uMjYuDUZAr4Jmq+g0R2QJcISKfdvteo6qvPPjqtePuZz+AJ/32y21c48qgtTZeY1W15Ni9Szi3OkUSRxSoyZ7keCg3STqjjj5OE3bebcPTnqTEx09Spi1ZUicKDwlJUZTNNg2eFtoIBT6Fu4yCG65210Zrwykn3ZU//uN3Ix3QEsqu9Xn+3lPuydy+3a11XCdY1bb94Ac/mDe96U1UVdV4ZMMJeIspxiFidTU8NmUNir+H+U6K0BKXF7ftmFTHHvs2u0ZcVw+fR4r4xmjzGIdh53z9qqri7ne/O5deemmzLHWv10NEOP7449m5c+fEsg5n2BGo1a5FxmGIVb1fZ2xcHDBBVtXrgevd590i8j3g9stVscXLxy4TXatdPrqyqrEaQRtBzdkORAJLwDDmbwgb3cLnPa5KxcO8KdVqtH7tJLhNAW5LE3+PfcXDMrw9QxFxPmIvrutQXW6zYoyof/YoZ71wSpoUqBhUCkTsAisYRQpxi49sjKnsq922YTT8mJ+QB0OiGCqrbRM6U6Q4VEAnqbtxfqkHuNT31Ocw/9j6ENs1Up7p+JziiYk+XRgpo220pu13VJZlaxSMjKXB3jcyQ844tFgL9+uMjYll8SCLyGnAPYGvAOcBzxCRJwBfxz7Z3ZY45qnAU5eS/wUXPp/Zmc1AYSfXGTjmmJMxtdpFQGrFVC6mce0kT+M6XyzBk2Ipym+aVMTp4w6/TXVzBoYxAtPWgcf5p7YvNV5rPLwdlumJcrjEborII37xkeGERe9RUXWTIAEphFIVNmAUuJVu2y9/+cvZunVrc/2NMZxyyinUdU1VVc17SNj83y1+CEs9wIVIEV8YXYY6JK4xaUzZjWKbQsoqMamt+/p7K8RiaX1+cVsNV9Tz16rT6YzVO0XYw3r4dGFd6rpek95kEXkr8CvATap6ltt2MS3DyiLyPODJ2KnLv6+ql7ntDwVeB5TA36jqJQdUH7KCnLG6WOn7dcbhhYMmyCKyGfgQ8IequktE/gp4MZZNvRh4FTAW7kBV3wK8xeUx8bZ67v1+hW3bjrF+2BrqytoqTGWXjTaVUtdBbGPjSYDPdriEdEySrbJaNGnblOIUKQ6uwch7qNIOLQ3tx49eT1A1zTHD/nucNMQqXpu6N0rgBRifIDis9+i5iEs/UgW3lLUnyEUhmFopy42lth2Ktn3BBRdw3HHHATRkOPUKLQKeALr8R9p1amnn4HySq+J5wh0SxtAKEbaLsN3Etgef/ySim1JmJynM4XH+fOKHWF/X8CHDbw/PMbZktJFjb7UIw9OtUbwdeAPWfxlibFhZRO4KPAa4G3Ai8M8icqbb/Ubgl4CfAl8TkUtV9bv7WxnJHuSMVcShuF9nHF44KIIsIl1sg3y3qn4YQFVvDPb/NfCxg6ohvvMS1NhJYlqpC+OmmMpQV9oQY1eHITFQxYwQ4phMNqUQk+TUogLxEG08eclvt3UYKq++r/fpwggCsdoWEvshSbbbh+JuO9FODS3HeXsyM4ms+2NU/dC1v07Y1fVEraBshHrQmsW6xKFs2/5vEBPkwWAwFoM4bNsxIU6F9POfw7bsv6vqiM89JomQjjIRWhnifFNtOyzPI1ZzU/nE9UqR59B6EqYJfcV+u88vROr3F17Huq7p9/v0er2Jv5PVgKp+3ilmS8EjgPep6gLwIxH5IXAft++Hqno1gIi8z6Xdf4KMZAU5Y1VwqO7XGYcXxpfCWiLE9ip/C3xPVV8dbD8hSParwLcPvHpNroAf1lfq2g4915Whro1VMg2NV9Yj7pBHOzjBnv7kKBUpspkKsRWrcn7b8PhR7+/YGbbsjOtgLQ9gH3QV+1RgkvmHZMEThrBeqVd4jmMLUfgi3WdTg9b2vapqTK0bQkI6lG3bX3Mf23gwGDAYDBp7RRgSLSSKYbtLLZUcqsUxcfbKaKguJ//eDBeSGf/9jLfZtkgUqbQ+fUrNDX9Lqd9UeD06nQ6dTmek/YZLv4d5hyp7fL4hgfffw79JVVVj9V/DeIaIXCUibxWRI9222wM/CdL81G1r277/2FgDSBnrBIeWi2QcTjgYBfk84ELgWyJypdv2fOCxInIPLFW6Bvidg6oh8KzfvR8gzG7axitf/UW0tkqyMdZioarUWlNIQVF0sBYC64lsU1O9GppSUMMONjXxKcw37MBH1a74LKwa7FXcWGkZJ+/jXunxuo4qwyJDRbhtiD1E2ySkVJn2Zb3coWXFPmCInay3ceSjQ9a2Tz/9dACOOOIIvve9742RM0/iyrJsVqDzft9YTfV/p5h4hm02JMgp60CYNmwH8QS4MG2YJpVPXNeUmts2khHXPTVJMVbVw7pMUpBTJDxU40OLyVpTjydgScPKBwIJvJqnnHJKMk2epJexCjhk9+uMwwsHE8XictKawbLHGWyGUWu7UIWoWhXTWMXSD+0pVl22Yc18hzruFbaHD/29bcOvfl8baYhVr9G01tccDzPbNL4jhlGyrNH7MG9IT5KKFbYYKTJjyzaoWiJvScA4ARKR0Hli82nCyHlV2aUdr/a6xaFs257s+vdY2QwfUAaDwYhXOLYA+c8xaWwjw+H2FJGOv3uEFgqPmGSOPli1E0xffkz+/b5JvzdVHQl/59PEi+yE5D6+TvFoUOxxDm1U6wEThpWvBU4Okp7ktjFhe5x349U855xzxv6gG+kekLF+cCjv1xmHF9bdSnp2+WM7rG9qS46HmiZY9bjCiLdcFMM0Ou4Fjjv2EKnOta2jT6lp1goxrmAPibnfZkY6+DAPj7jj93UOO+/w3MLj/LkMO37sdWnqN269UFUXAWRInnx5xhgKKSgLqNVAXSPdYuRhJGP/EZKy0HscktVQPY7/Xh5tbTtMV5blyGp3vvwwD49YPQ7baqywxnn584nzjMsKHwj8/rYVJOO8QqIfttP4vFPEPczDE3QfwcPX3V+r9QAROUFt2CsYHVa+FHiPiLwaO0nvDOCr2B//GSLyM1hi/BjgcQdWdubHGRkZGwfrjiDXtXFxfl3np9Kon+lwaumONdXRxkSj7XPqu982KY942DskrykSsRhi5diT3RTZHk3jyYGXh8frq6re6DHyaD563n6ClaJVnfKVZOwHfDi3uC2LDBeNiVeFa7My+M+hkjqpPYfpU+pw+Dm1r61O4ba2th0T7/B84nNbzO4wKU08mhLfA+I6hgr1WoSIvBc4HzhaRH4KvBA4PzWsrKrfEZEPYCffVcD/VtXa5fMM4DJsmLe3qup3Dqg+yMS/TUZGRsZ6wrojyGqsNQC1NgbrAhiNxiBFgSh20hhQyPiNO+7kU0pcalg6TNNGRIcd7+j3kHzEhCaVR1yfVFmp+o3D1zM83+H2ttk1qo5CB8cN92mTs12YRUEM5/3CBdT1AguDOb74+Q9NrGvGEF6tjNtU6IP13z1xS9kGfF6pdhPm7Y+HUS/6Ugho6iEzVorjV5g+PI9U/uE18e+h0j06ajI+iW8xpH63becdntOFF15Iv99nfn6ed73rXYuWs9JQ1ccmNv/thPQvBV6a2P4JlmE4WmQ4ipWRkZGx3rHOCLLa8GK1e3f+4zGFyTTmAHuU6qJ37raOddIknTZSaz+P5zWpE0+R4Xh7XN44YU2rcOOkef+It53PmPZhCm7VPbWe8Ef++jMpOwW79t6SCfJ+IpyYFyvJKWU0flDbH3jSOTJikGgvsRrcplz7UZDFlOnF8mlDSOjjcr1FI9yeat+p0Z02f3FYL0/+X/CCF9Dtdtm+ffuaIMhrDdF0hYyMjIx1jXVGkK1a2ZAyvE82mslP2o87ks8Eha2NLMTf445/PM04YW1T1FrPNyBFk4apgyOS9U0R7aUT8qG5UHXIlVUVRLCh1cU+mFSKFhos952xVKSiQIRoawuph6v4exy+zZPvlPIbH9dm24hJbziJNI6fHLe52Mqx1N/CUtKlykudW5g2JsSp6+AXD1nDC4esKuy1W+1aZGRkZCwP1h1B9ipFUQjGgOiwM4zDXxljQJ3KVEz2L4ZEoY30TiKbqQgTSx32jTvxuB5tx6cISEolS32O6zfpQcDv93Upw9BxzQcbCcMq/ONxeTOWjlg59pP2YNRiURRFEwM4bitx+2xr27FSHR7riW7YtkNCHJPusP5xu/PHhJ7eNnKeIrIhoU89KEz6Xbe1bV9+qH775anDdGF6r/BnjMPNbljtamRkZGQsC9ZP/CLAKpntytCwM/cdm/2cUqpSnWbc8bZ1/mO1ChS0FNEIO9gUQUkR8vjcfP6LKWhx/dvKD9O3kfBwWHo0jbWvjJx36c7dOVuKydXMSCD+O4V/c7/Yi0e4UlzsXU61lTBdGF85REyEfX4+qkMcFzgeEfHHxmX6vOO6hb+ZeKnrFFKqc2zXiH9bqUV9wvOalKe/7j4E3WL1O1CIyJhfI7VtzSN7kDMyMjYQ1rCCnJq4VlCoH8aTRr5UVSjc9mbY30a3cAbadAktxNF3jKMwkFhKVdW4ztOnsV5g4+IFhwQ3VV64+lg8fB0eW5blkiNdxB1/OGzcXDtoPpdlgWo9Ul5KCbesVzAEZAo7CdImLBAUMdIs+50xjhTRCh+swgetWOGMldjUg5X/26Vi+pZlSa/XGzk2jLscIowBHOfj849HUEKlOl6G3e8L/cRh224j2uFDWqfTGVn9Ljw2dU273e6Y+p5q2+F5hqtOhkTeYwUiW9wt/CIiJXDv5S5kpZGfiTMyMjYS1ixBftwTXsgvPOCx1JVS14ZSO1DViBn6jAEX1UIbybKZMJYg2CFSynDYWY7bI0pLuPEkBZe2bNKHWdqloId5x+XEQ94wvjBCeEw8lNwWBcArhL6M9hBywyk18bB8XK+R44KHEu8DN8Zdj0i5y0jjFa94BU960pOaJYyLomhCvAEj7SEmqR5tyzrHtgEYtrlQBfZpPSFMLcrhlVO/P4wLnoIvI1yaOj4Xny58D4l6rOzGoxiDwaCJVxzWu61O4TVN/ebi36ava/z7D6/ZcrVtEXkedsWvGRHZ5TcDfdyCHOsJK6GuZ2RkZKwW1ixBNrVS13bSF7VitEIoUFGM0IzlqVOOC/WLgUAzo2yM5E5Gash41GLQZDmS3pcRdpyTVt8KSUDb/rDeIUEO9y9GCuL8YoV6tIxxr3FcD5VwwZXhcQCidnxVRa16nBcNaYX3FHvSGC4KEiK2SsQL16QebDziB6rQzhDm37Ykc2gpCOsYpvGfQ1LuX3GbDesUn2u4PSw3pfSOjyrJSD3j8uKJj3HbjvMJ04XbvSK+nB5kVX0Z8DIReZmqPm9ZMl1lLPVem5GRkbHWsaYI8vTMZk4+9S6ogW3bjnUTvkArxdSGjiQ8we7faKeXtgo0xyRUt5gY+851jCQmlqgOfY6LLUsblzVJ/UodNyn/WF0OVWS/v41M2Xdg0iQbK8yP1Mc/NDSEwmCd7bmfHMGWLVs4++yzUVWOO+446rqmqqrmlVq+OWwn8ZD/+AjH8Jg4NFy4LbRJhO03Ls+nje0MYV3CzyH5TK1sN6nd+7xTkS/i82tWcnSqu59U5x82UuQ6Li9F3OP31DVeqWWnVfV5InJ74FSCe7Kqfn7ZC1tBiOSffcbGxAnHn8HszDb7RWka+tz8Lq678T9XrV4ZK4s1RZBPPOkM/uhP3k3dN1CDWVCoFKoCKoPBLZPs7ceCC/SmzeQwoPEhh7frWCGLO9KYHISYpNSmVK624xdTV2LFeLF0qTJT+0LVLN4//J4O0RSqjOlJONZvXfjr5zrJrCSN4q53vSuf/OQn6ff71HXdvKdiH3u0EcsQi6msoaIbY9JD16S2Hddp0u8jHpFItcEwn3h59VR9QkU33B4T3EntPixv0rUN6x0/UCwXROQS7BLP3wW8wVmB9UWQSd0fMjLWN0495WwefcGfcvtj7oQax0nc9Kbrb/4h7/vHi7nmp1eudjUzVgBriiCDXbYYF1O36teYOYPUQKXDm2/hO1ZHgQVUXPxj8fsUFUEbdTPt1ww7Uo9wuHd02epQaWUkffg5JuNxupTqlxrSDbEU5SpW5GI1Lyw7zi8kym7LomWJ2L8TKGgx8lCSCfIoQtXWGMPCwgJzc3Oo6ohnN54g5uE/x9EU2v6ecdlhHrElISSmqYeqcEQiNdoSHxeWEZ9Dysfs22pY37b8w4l53u/sEdo84nNf6khNfH1SWIG2/avAnVR1YbkzPpQQkRzmLWPD4Zx7/y+OP+5Mqn4NlYEKG14WOOaI0zj37EdmgrxBcdAEWUSuAXZjlY9KVc8RkaOA9wOnAdcAF6jqbYvlpYolXFpgaqU/P6C/p48MQCo3gQdByqGfUgU7pO/V5MKRiBJL2MRPIPNlpG/gbfYD3+mmSHRRjKquKSLi80ipX9F1HHmPP6fIeluHHw+xxwtCxOWmCHscAdB2fuOKpRWN/cV1RKRZyGX9YjnbtYcnwsYY9u3bx+7du6mqqolpDDTh3EIiHLYNvz8mzDHB9OlT7Ta0DMTHhOWE2N+23UbuU2V5b69Pk5qYGKu9IUlOte0U0V9M8U6FpAvzCO8Fy4yrgS6wvgkyWUHOWD2sxD0boB4YBnMD6kGFma9hYNt6iYAo1cKyR7XJWCNYLgX5F1X1luD7c4HPqOolIvJc9/05S8lISkFrMJW1WegAzFxNPV9RSEkpQtkVTGGggKIrFKWAi8GrCrWpwfgFQgqKsnQkzqqdzT1cRr2TIULlKaUI220+vFuarKaJZzsJHrsWLUPrbf7KUKUMtw9RYHlHelU9H7HAnnNTC6vGq1PkA6VzuH+oNxdS2qu8MYJYLFu7BkvqqqpiMBigqlRVxdzcHPPz8w0p6/V6zedutzuyGIgniT6CQ2yfSLXVkNzB6INWvB1GfbZtqnC4zSNWp32ebe02rHcqukSs/IZEPKx32L69HzkmxXVd0+12mzYbH+t/M/64NoLf6XRaH6QPEvuAK0XkMwQkWVV/f7kLWkmE94GMjFXCst6zATCglVLPG+r5GgaKVGBKsSFO69zqNypWymLxCOB89/kdwGdZQqMUEUoKaoVSC0oKunSojEFNAaJIWVh/sjEUHacoe2JYFKCKD39s1LihEK/EKRKGgyNNiuPvbWqt3T8+aS+FlGLcRjLizynikKpvOBweE3xVEClQTROcsE7D453hu6WOI9vDT7L04ex1hgNq1zD82/jPkI5X7SebeVLsCW2slIZ2DL8tTBPaFkJ11X8OSWHKTuDzCNtpW3tNWRriNKnrEB4TPuSFx6WId9i+Y+U5fCAIbUbhcfFIjM8rZUeaVI9lxKXutc6Rl5rOWHM44Hu2hx9PLU2JDmpMX8HxCuLlEjI2FJaDICvwT2ID/75ZVd8CHKeq17v9NwDHxQeJyFOBpwIcebsTePGrLqOULoUWDPoDqCxJpiixpMut6FUUUFqiW3QL76IYdmBqCZrzAwDGrlnhOrbC2WVh3GOZwrhqHG7zi4GMDx2Hx7eR6zbinSIC/nuKcEw6PrUvRQLGy/THBsPh7tvYOak0Dxz+2K1bj+GVr/kqRQcu//wH+fAHXzFWlzWOA2rXMNq2TzrpJK688sqGrC0sLDQh03ycYf8Kv3e73dYRh5RtIiad3rbhX232mqXAHx9Gsljs9zJp8Y6QyIaI1ewwv5BAx3mmHiD9bzom76kHzLi8sJxwZMaf07HHHsv3v/99Op0O73rXu7j44osnXb5FoarvOKgM1gj8aFpGxirhoLlICgVCqYIUJVBgSnUj1E0Oy3oSGWsHy0GQ76+q14rIscCnReQ/wp2qqhKumjHc/hZcMPzT7nB3nd20Fa2Eub0L1AMDlUEHhgLo9bqUCGoEH62i0+1QdARDBbiOVOykvMK9h9aHoWImjTDqeO2IUpdSwNqJb5q8ROcZHTNKXsMOPyQBKRKUGkJP7QvPKSS8qjXeXmGHke0zREwiQkV8RF1zJsORsv2qfNiHEuO9FQKzs1spukK3Nz12/dYBDqhdu31N2773ve+t27ZtwxjDrl276Pf7zQIhIsLU1JQ/pmkfvV6vWQEuJpki4yvPxeQVaD7HK9wthtj7HJPHeGQidVzKl+wRho2LSWjqtxBc05EH2nB7bL8ILRLhtYp/HyHayLfPM67Dtm3b6Ha7TE8ffNsWkR+RYJaqevpBZ34IkT3IGauMg+YiIoV2Ot1m3wPOvZD73uM30Nrqbt1eB9MXKKzQplpjtFrh08pYLRw0QVbVa937TSLyD8B9gBtF5ARVvV5ETgBuWiyfalBjFhSdNxSV0J+rWdg7hwxgujdtO0ZH7mpqitIRXMuInXXC2SjEeoN8+LdGCw07SBv6wssercSzbWLRkCAPt6VUrjaCHZcVXM8x8hyT6lTYrphYxPUerZPi7xN2k8GYYb7WjpGoY+o0xFtY/FfLurU5l+Spr3ksV7sGGAwGLCwsMD8/jzGGubk5du7cSV3XzMzMjFkAvJIM4+qw/xvF3mNPTEOSGuYZq8hesfZp4vzbCGT4O2l7IIzrF9cxJJqptu3zD8tOkfY4rxgxeY4V+ZjEx/mEZabOs+13fQA4J/g8DTwKOGq5Mj9UWOKAREbGimA57tmn/szd+JMXfgSzVxksVNR7a+q5inqhRvqGQgo6vS6KUmO4+tp/55Nf+otDcHYZq4GDinovIptEZIv/DDwE+DbWT/dEl+yJwEcmZqQgdUFZlfSqLrJXkD3APqj2VsiCMF3OMDs7w+ymGWY2TdPplkgJRaewk/QEpAw7dtd5GecXCjpjF/RiWHzQqZdlSafTodPpjEyE8i8bRaAYU9park+j+KUW65hEctuU6FTnHqaJX3Eeniyl8lM1qNbuNT4UHYZwasiGs794JdmPsooJXuuMJS9bu3bwRA1owrv1+3327t3LYDBgamqKrVu3sm3bNrZs2UKv1xtph21tKBU7OUVwfdvudrtMTU0xNTXVlBG+wjafyiMkmOHvYbEHNv89tCqEeaaIapiHhz82btvhtQjbdkykwxUM2xCfZ/wbD8taLoKsqrcGr2tV9bXALy9L5ocY6+ynnrFBsJz3bCmFoid0igKpQfcZqt0D+nMVUhcU0mG2N8Pm2VnOPPUcHnn+s1bqtDJWGQerIB8H/IPrPDrAe1T1UyLyNeADIvJk4MfABYvmNG+odlVUO2sWts8z2D2wanJdYAYG2Qp0BekJU51pjNZUpk+throhfkKhglHjLBaewI2Kn6p2YQtEKGS47FvcGbYPu1oyabePkojwPSxvUofqO/YYKQKRyjtOGxKyMF0b6bFpDSIlquP+0pSy1iiCNrab295cHasiG4Nq/DiyLrBs7VpVmZ+fZ9euXezevZtbb72V3bt3N15kTzJ7vR6dTofp6WmMMQwGg4aI+agV4d+1TQ31USg8qfZpYvXVpw3bTaykpkhvm1Ibk9w2ohrXJy6v7cEv/BzGPvbbmoffKBxibL+IP6vqyITGsNzQxuLf/bbwb3KwEJF7BV8LrKK85mLULwYb3jEz5IxVwfLds+cNZpehv7NPf/sC/d0DqoWKjpawYCi2dGDKWjlnN89wwvGncuztTuOmW69ZyfPLWAUc1E1YVa8Gfjax/VbgQUvOyEB/xzz7rt/H/I1z1DuUak+N6Ru63S69rR0GBmotKGYLprZMUXQKMK4zVCjxcWQLqBWDNstQI1AEk/Jw3mGFJHeznZ6/0Qu4yXhh5wppi0S4va1jblOB2wn5aL5hPdvSxoQH0otJxMQmrs8kjKa3dgpvQVbAqFIgnHTynXnQQ54AAl/78sfZtfPWifmuNpatXWMJ1Y4dO7j22mu56aab2LVrF3v27GEwGNDr9ZqQb95usWXLFjqdTkMCfUQLYGSCXIqs+r9vHAc7Jn3p0YPRttrmPY6JbXhsGCe4jciHi46EiEmzr0t4bLwtJNcpS0pqxCS+XqmV+1JpU9cR4KyzzuLpT386AB/60Ie46aYluW5ivCr4XOHitR5IRqsJkawgZ6wOluuerQaqnX3mb55j3w37qG8zVLtqdKDQ6VJvAalBtKTcUiKdkjNPvw/3OuuhfOpzb1rOU8pYA1gTKoUaZeGWeeau20t1Q5/qlor+roG92c5MUQ8MVdVFK6FT9yhKqKeg6hgbkUKhoEDDcFfGToLyUS28FaAoCrQITLZKE/qtqY8qVlG1i4HEnbHquOc37NhTiBWoOH2KtLRtj9Xc8D1VbkyU4/RhnpNI8WTC7PzhtSMcpVsVUeHMO/0cd77budBR/usH31zzBHk5YYzhlltu4brrruOmm25i+/bt7Ny5E4DZ2VnqumYwGDA/P8+2bdsoioJerzdCKL1iKSINeU61gZAgh5aDEGE7CMPEhW0jJJj707bD40d/L2lyHdc7LG+pD2nxg8KkOntVPfWwGtchRqhch8T6vPPO4/zzz6csS7761a8eEEFW1V/c74PWIOxjckbGOkatzN+yjz3X7qG6oU99S021u0YqkOkB8ws9pqsaVaHLDAUl2sVaOTM2HNYEQTa1Ye/Nu+lvn4ddBrNrAd3Vp1N0kBoW6nn684IMusx2tlBOF1BY77F0ShChrgxFWVJrbQNdCM16boKbxCd2+N+rx6HyOeyYvTqVXio37LgndeIxwfVIrdIV5jfJihHmHROJMP8UMfBEKFXXNsIen59X48PjxomQUxNrgxSd5i9wuKKua66//nq2b9/O7t272blzJzt27KDX6zWe2N27d3PEEUdQliUzMzMA9Ho9er0eAFVVjRDjuE2GJNgTwJTanCLV4fdU205NmosJbliPcGW/uG37Y+Ny4+1tpDW0mYTKsSevqYfL+AEhVozbfmupth3GkO52uxNHcPYHIrINeCHwALfpc8CLVHXnQWd+COHFg4yM9QpTGfbetIfqpgXM9pr6tj71vgGiUPQ79Kt5tCqYYhYV6HWnUS3QKjf8jYg1QZCplcHuBdhXo7srzK4F2DvASM1gfgH6Qn9ugSmZYXpzrJ0aNgAAIABJREFUF7OpQ9GbwlRKp9tp1GApBGodkl/XZlWtkonYMGSlXSSyCZUc93H2+6jiG3f4w7Ttk/QWG0oeU9MEcNaQSUpW+Dkebk8R7/i4GEsh+vahYjjhcbhP7MIsLsKYMdaOYkwNndKlLxp56am/92oWBnMoyoue/YjWOm0U+PBuc3Nz7Nmzp/k8Pz/Pvn37mJmZYceOHVRVxdatW9m0aVOzgp5/h2G4spR1JrUt3N424uDbdkwaUypu2A5SkwNhlEzHbTv1gDbpdwOMLMEd1y8kv22WiFQ5ocWjbVSl7UHR138wGDS2lzDvt7/97czPz3PhhRcmz2sC3oqdUORtFRcCbwN+bX8zWm1kD3LGuoZaLmL21ei+Ct1bwd4+ahSdrTAKfSOoVsxMQb1JkKIDmpeb3ohYEwRZRDADg/ZrulJiENQYqnoAtdCdnqLUkrKGol9h5hbQnjIwoKIU3RKjbrJYaVfTK9yqThosA+lj9PoJNrZsu89rn+JIasOgW1RXSHfCYSebIqujpIEmFJ1RY1f/M4aiKMdJO57ML16X/UVK6QvPa0gkRhVke7B/AIli5ProIaqIJ/3A8SfcAUo9rDrSfr9Pv98fWbTDk6ypqalGGe33++zbt49Op0O/30fELjftCWyn0xkJ3xZOVvN/o7qumyWR26wGMIwI0eYJTi3lnFqCOs47Vpdj5TWcOBgjVqnD93h7vG2x38UkFXvScSNtOnrF6c8880yKomB2dnbR/CPcQVV/Pfj+pyJy5f5mstqQ7LHI2ADQgYF+hdRKYQymslGdqj01SEGPElNVSH+Azi1AV3ngPR7LDbf+iH//wb+sdvUzlhEHFeZt2SA0iyfUtY1xXHaFbrcEDAvz8xQKPTroQo30a+hXlIp9FQWdYGEEBRvZArHL3RRifccOvoMzxqSi8w8/BtEt/Hvqs89z5JRa1KjmXRSjJghdFapyvlwYUnesl1rSZaeUZdUgHjERARnNeYzQpCIO+LJHT1SRIia8btg/qoctd3lDZK11iEhDkAeDQUN6vcVi7969jTI5Pz/PwsIC/X6/uUY+/BoMJ+n5fOMQa6G6GxJpjzaCF6vGKRU5PqfwwSm0Pfh8vX0kDKs2ydKQyr/tATOO8ez3pcLNASO2j7A+3oOdUtlDK1RYTmwhST38HgDmROT+QfnnAXMHktFqQiTz44z1DRGhGgyoawWjFAKlG6SuTY3OV6CGHgoLNfQNDGpmpme56BEv4TUv+CrH3u601T6NjGXC2iDICsZ5CH0H0+kUdEtB1DCY71MYYFBh+n2oasQYekVBpywovOAbLAfbdKQJJcgAg7rGflJqVYxakhff4H0n2Rb3OO7Iw1c8NA3YUHRBXnGc5ZSCO7RfBJcspQoCNYoR0ELQQmwYPEtLR7b7BQUVMDIa3SAkAaPh4hLRCwL1zp6PfXnygY8eAs3KhYcb/Kp5w7bdodu1qzXNz89bdaKqWFhYaB4SPTGOCWe47LNH/DcZDAYjZadWiIRx33BMtv02jzAOsS83PC6Mixwunx1uC8te7GGzTT0OLQ9xOMMUqffXNHyo8Nc8RahDwh/W0bfpXq8XrVLZPrKzRDwdeKOIXCMi1wBvAJ622EEi8lYRuUlEvh1sO0pEPi0iP3DvR7rtIiKvF5EfishVEoSWE5EnuvQ/EJEnHuhJeGtYRsZ6hmn6NoOglKXQLcRGwpqvETVQ4bhIBbWhKIXOdJdOt8fzn/H3zExvWe3TyFgGrAmLBQIUBQY7ZKympleW1LVSqrMf1Daurqkq6v4A6Qv0S7Qv1LVQi+AGoun1uhgtMLVTiNUSYfDqrVXairIcEmJpTBZA1Ml6VTe696fUYf95lDQGk40KGXMppDr1yR2NNn5gf7zfPrykMkzpO/HmXBhJL0EeMcEP6+ivTlM1x9sLLOE2TfbSLN7igoeADC0lh5O9AoYT50ILhFcyw/d+v8/CwkLzmp+fH5lsBzRxkuu6ThJGIBmjN7RcpB7cQoTHta1WFz84TvILj7WjSL1Old9mpYCh1SO8Bm3qcayux0tcTzp3f36q48tXh8e3rT64VKjqlcDPishW933XEg99O5ZMvzPY9lzgM6p6iYg8131/DvAw4Az3Ohf4K+BcETkKO0HwHOwN4QoRuVRVb9vf88gKcsbGgFjpsHD3CQpUakBR8fyhRqsCMz+g2AtMgUEwCgOTl57eKFgbBBkbvsoUNUVHKLpd6n0ViqCFU2+mCmoZMLd3L0dt67Gwo49Wc/SqzZjpDtrrQKdEDJgaOkXhVFJDrYJI0SiZhVeDCmfJEGnU5JFaiZ2Ypo70Keo8taNYbPGGkU66Ng3hntShh+rtKFkfeWs+2R+yLzPwjboJco2i7cPRREPD8XBy+L0hAgyvg8+7SYNSOkJcFAI2uEgTJi88hcNNZfKKo7dWzM/PA0PLxNTUFKrKjh07OOKII7j11luZm5tjMBgwPT3drHrnibFfijqetDdU7WlWx4Nx0udfbQtqhGlTSmrYNj059HWL21Ocn69PGDLNb2sj7mFbDNPHkTpC5dmnDVXupTwkxKp4fM28Su63t0Xu2B+IyJ8Bf66qO9z3I4FnquoLJh2nqp8XkdOizY8Aznef3wF8FkuQHwG8U20FvywiR4hdevd84NOqut2V/WngocB79/tEMjLWPYSi0wEZgBsRVRGMWGucdEE6StWvkHkoTQ/tG9jrbZNdS6IPry5uw2JNEGQRmJ7tMl/2qUxFrywZ0MdgmN48Q2dGKKeFfYO9aGGo1Q01K9SDCi1BpUAoKArFDCo7Wc+ZCIpCnIIZDem6p0H/lGhV5LhuUceLO4xxQuzTxOUMVVnTqK4xwo7Vd7pxhzvSqTtpNvZChmlTdYuHr2OyEB+biqM7cg2bHVh1vBieYFGWliAHcaav+ua/smv39sQV2Jjwk7bKsqSqKrrdLnNzc6gqW7ZsYXp6munp6WZyXl3XTXi3hYWFkevsVebYiwzDKBexuhkTzRCh8hy3n9gO4ZFqN16ZXYoqG9YvtUhHKu+2th2S5VDpHnmoCx4kwmNTbTssO/WbDgl5t9sdeQgB+OQnP8ktt9zCrbfud5zvh6nq84PybhORhwMTCXILjlPV693nG7ArjAHcHvhJkO6nblvb9jGIyFOBpwKccsop4/sZmcKRkbHu4LnIoGNtanWpaKlorRQdobulQKbBlAvUhUGZQusC7VdQ2RFtbUajM9Y71gxB7k13MdMl87JA3yi1VEhH6W7q0ttUYHo1vbJLb0uXolswUANi/Y2VAa1qKEuolcrU7k5tCXAZKLbxUDHOcrG0errOFatCh5hksXBbbSyHqKjFVOS4jIaITIgt3EaQJqlbbcQ3tdxuWL9GnWOoKNoHCTNUj73dQ+Ejf/8XXPNfV7XWY6NBRJidnWVmZobt27c3S0iXZcmmTZvYtGlToy5v3bq1mbznlUp1nmJPgAeDwYj6GqrGYZnQ7uFNbWsj0mFeqYc/v69NlU2p1+H3UP2NSXaq/iGB9a8wmkd8LXy+KcKfatvhcaEyDIwp0vGKfS95yUu44oorxq7xElCKyJSqLri6zABTB5JRdA4qknjqP/D83gK8BeCcc84Zy1dEMi3IWN8QmJruoNMl/bKPoUKLCukZOlMdiukC6SjlVI9iU4kWinGEWNTNgyLT442CNUGQEaEzUzJ9xDS6e8DePTuRjqHsQL80UJZ0Z0q6M126m6aoS0MlhsJFgaixwyBdA1rXaGHV4dooUhZg7FB/qJ6Gqqbt9Nqqll7xzoAPW5xMFxMLxCnZLE5UUorwcFsYjH/ykG6b8pcqt1Y7Y3f4CDDMX5zFRFxIOmupsFaLAme1oGjC6HnvsbdiKHY5cFvU4XXrEBFmZmY48sgjmzjIItJMwDPGMDs7y9TUFJs2bWqUVa96VpX1s/nP4VLOnhwXRdGQxLa/c4rYxunDdheT3Tby60nmUmwGIRGetK0tj7a6L9a2QztIvD21EEpYh3BxkjhdXO+DwLuBz4jI29z3i7D2iAPBjSJygqpeL9ZC4Zf2uxY4OUh3ktt2LUNLht/+2QMpeGjxyshYnxCBcqakt61LtWeOwVwfqQ1SgszWyIxQdIVicwfZUmI6VmUuCgU1qClcyNnVPpOM5cAaIchQbu6iWyt0s6JblO6Wkl6vRIsamYViS4diWtBeSY2iRYEphUoNxghiXFgxF0dYgUKc0qs6NvSnRpuoClbx1BHbRGtVPTkg6cho0HScAlKAyKja1KaShWnC8vz2Qlx855C0+3IiXXnEGjKBtIC1R2hzTKCyF37VQYaWDpe+KduVjzpVbmR5brjiq5fxz5+x/f0N117dftE2KDZt2sSWLVuYmZlhdnaWTZs2MTU1NbJvamqq2eYRRl4Io1h4QpoibzFhTS3OkSK+kyw3IeK0oVc3tFq02SLabBXAmCIbH58ix20ROsL842sRWzQmPQCEvyE/+TG8Zh/5yEd485vfjIjw/e9/P1mPxaCqLxeRfwce7Da9WFUvO6DM4FLgicAl7v0jwfZniMj7sJP0djoSfRnwZ+KiXQAPAZ53QCVL5gUZ6xsqgmzuUmytKPYWaC0U+wo6HaHTFYoZpdzUQaYL6BWYQqAs0E4x7HvzQ+KGwZogyAaop0r60zDYAh2m6ErB1FSPznRJd7qEDmjX+lr7tWKMUnQ6lC5clpYFaoydHKYCpnBk0j7N+clpI95eN4xqhU07Q7WtI4Z0Jy2JdG5LI8R6QuuPDVdFa8vbbxspS8QRbTelULXxNFttOa0aL0XVmURqUmmbd3Xe6qbM4YODuGggO3bcyH/+x9cWrcNGhZ9oNzMzw7HHHktZlszOzjb+406n07x8SLJer9dM3ivLsiHHnqilwox5P6yP7uDbWUgIw+9x+wttCKlRk9hSEZbvSahfzCQm3Km2Hebhy/ff22wb4f4YIyNEERGO94XnEz9AxOcafo993tdffz1f+MIX0n/4/YCqfgr41P4cIyLvxaq/R4vIT7HRKC4BPiAiTwZ+zHB1vk8ADwd+COzDqtSo6nYReTHgf6AvUjdhb38RjqhlZKxHqABTJWwqKW83Qw9Dd2tFb6pLd7rk/2/v3eMsOcr6//dT3eecmdlrLpsQLnGDBP1qFCSbRNQvRkAMGEVEROT3E5QfQbl45ScXBXmJKBcV+Ua/SghLJHIVDAQJcodw+SYkJGTD1YQkmywJ2Wx2s7szO5dzup/vH1XVp06dPjOzu2cuZ6beeU3mnO7q6uremq5PP/XU82RjBskFGrh1T9ApQfIGkuVgrO6YxwMyMUKsCoEMIOMt8s0dNnEi+VxBrkqWCxMbJyizkunZGZoNg5aCUcg6JSZrYJoNu1hPbPzCTGxUCusVIE5IUnXY3oFvcMCxQQNwOJXshWl1DTXHx36Mg+qu6vB1z2PJroSpy1CH+x7XvZjzVA2vKbqQYFZV69/tjc3OF9lbuqvi63zQHBsbY8uWLZx++um0221UlTzP2bp1KyLC1NQUzWazsga3220ajUYlkIHqGC/M6jLgxVbanr4avTjViV7/fb5+EwrU2Jo6H4OstHXlBlHnhlEXW3k+F426awlfLurKh64W4TPA71spVPVZA3Y9oaasAi8aUM9ObLrr40JE5nmiJhKjQb5ljLJUmqqMjTXIwUbX2tCwLpvFHKWbVpUSpAAyg8kyMBlznc68a4QSo8MxC2QR+SHgfcGmhwOvBrYCzwfuc9tfqapXzVeXMcLmk8aYawnFiS1yNWinoOx0mFElU0NjbANqoChc2ClVVASTZ+Qmo1QoS8VnllYnGg2Cd65VtT6zGMiMG/DQIIHF4EEvFB/dhWj0/CGEfxKSZd4przo+ttgNcqOoa4Mf/MvS+ZpGA1FoJesqU6Esil4RH4iIUpUssNoNspxX24pu4hV8PabX+l1SOvcL57LhkpKMEsPt24ZTTjmFsbExTjrpJESEdrvN3NwcYO9zs9lERCrLr+9jPryb//cJQ655S3AoUr1w9gv93LXUirk6i6q3jg56QfPHxOf0bQ/LxJbY2NUjPEcYS9mXDeuua4sv791QwnP5Orx4jhfj1flAe1/v8N/N39/w3yAWzXWRMNYrweMukVg2hvm8FoHWeItcgI1Na9zpFNApMFoiCiUZUipQ2t8KYnKy3KbcKybbrHur0BrhmAWyqn4HeDSAiGTYxR5XYKfu3qyqf7voulys4bzVxGQZmQpaltafWIEgY1amaudBKiuR9cktOiWKUooVZ17AYWzYldDaFIpJv9jMXQfQ9f2cb/CrLFWBv67PJGXdN6ja4V04BunEWJDEoakGtACoEdh0I2x4ER9a/MJz+un6cJuvb5BY9sb47jX1+5HacG/G/gwQOKuZYfZtVwcTExNV9rww0UdRFNXiuzCFcvgi5lNP+7p836yLCexdHEIBG/Z9LwR9+uq4jw0Sx6EwDNsyKAxbnZXat9v7Ks/n7jHoe+hPHN4rf2/DNoZ9e9D11VnO66zu4X33onkU+/ZSEkxkJRLLxtCf1zlIM0OzDFEwpSJFYV0HyxItCg7et4eiVLcgT0GELG8iYviHy/4/pmcnh32ZiRVgWC4WTwC+q6q7j2XAmJub4bY7dtHMxjll23bUBevOfCKKsiQrrZVHyxIKpSwKiqKkLK0/cmURw1TCuBLJQZP62if91q75spD57+H26ljtFQfixXoVzYEei3LdlG/d997z2jrD6E2xZcuLB59KN04qER5TJ4ji66q+u2tUdzESlA+vyRhBaXPXXbeCEfbvv4cR5rj69vT0NDfccAOtVoszzjgDERtwfmxsrBJ6RVFU4du8YFbVKiRc2N/C0G6x24IvE1LXt2Pivh3WEWaJi0XvQm4GcR/vmX2JzlP3khhvD0Vxu92uLLxxHObYyh62MbwfodAOX1DC9ocvK6G1/Jvf/CbGGPbs2VN77YtBRG6m3tRkjbGqP37Mla8AobEhkVghjluL3H7bLrtmqcTmPFBFyhIpAS3pdDq88a3PGXrDE6uPYQnk36A389KLReS3gOuxGaH60pZKEHQe4A1/8wzOOOPR/Mkf/1tlmS2wUSkofTgpKAUQpQAK9/JWltodZqTr+FAtGpFeC1E4UPuHevjH5EVE3WKjeGCPqfZpKELdZ6qRr6oz/B1avupEj4hQViv/6s8big+fda1OSC3EfALaNsa5sfjmqM0Q6C3Khw8f4K9e+6uLPt8q5rj79gUXXMDZZ5/NFVdc0fPv5NNM+/5Y54YwX9SHcLu3ooZ9O4zS4P8dvaXVn9uXC1+iYveGuhfDumgVdceGYem8sB10DYNeGH29vo6yLKukK2H9sT9yXX8P+3V8Twdtj+vZv38/j3/842uv4yi5cBiVrBaSMT2xCjh+LfLGZyx5IxOjwXE70IlIE/hl4N/dpn8GfhA75XEP8Hd1x6nqJaq6Q1V3dOtyA6UtgKjNG10WBVqWFGVppzScldIYU4lOU/0niCrWKdkp6ECs+kHbtd23ZcGBvm4A79keW8WkKyTswG43qrvQWByH1C1G8sfNN4cZW/jqFlHVCfxBwjmubz5LYWWJF9dOM/qj5XD7dm8f8pZjL1Q7nU7Xjcj5tg7KZhe6KMQvcGFs5DqLb9i3wzTJ0XX3WajrstH59of9wtcbW3NDi21YPhTp4ctd3d9j2HZ/nf4+hHUt9CIYCu54W3h98b9ZmGZ6GKjqbv/jNp3pPu8FRjLd5FG8gycSQ2WYz+tEAoZjQX4ycIOq3gvgfwOIyNuA/1xsRfv27eF97/8rUDj7J57CmT+4A9RFQ/CeCv6ntGIsfh7PNzhWArkKfwWlln0D4SALb7x4KCYWCn37fRtqjonrrLNg+UsnEgvxNYafY8ERl+/xx55HBMfX1q3Hfxb/tZtyevQZWt++8847edWrXoWqcuGFF3Luuef6eoDeiBPzWTn9/jjphReMPl11KEZjYa6qfUIvFKrBNfacdz7q/i7q/h4G/a2FnxfTt2PLtN8fHufdL8Jj614OB7Utbrevc5gi2dX9fKwF60TsgP5Q4F+oiUax2kn6OLGCDO15nUjAcATyswimNMRlcXJfnwZ8fbEVHTq0j6uvtlU96EGP4BE/uAPxA7YqaGEFswIGxNgIFKGLRSgmxbnNdjNddKej7YDnpqOldwCNxYf/HH8fJJRFhNJbfYkt1TZqB/OIn9jqpqqVMTwsGzJIVPhycViwuin9OmKhFrcL7DVV14g6A/KaWN0/tL69d+9eLrvsMgAe8YhHcN555/WJ1lD8hpbYUDiGxP+mIlLFSA5dDsL+XOcDHH+Oj/F11wn3MFJEWH/YpjrhG//thC4bcV+OXwr8tvlEfew3HN+/2KIdW9Tjf4/wuCWIXPEi4FzgWtfOW0TklGGfZKmx922lW5FYxwzteZ1IwHEKZBHZAPw88IJg8xtF5NFYWXpHtG/RGGPIc4NPUayqdEorLEUEyTK0xAa0MG4wK92PAqIYMivUBCeCra9sWTo/YxeOzI/T4XTyIGtu3bZKAIiNIFHFSAzK9wqNwNJSamVVVvsVI4YSqkLis4FQL1TiqWJfLhYYIUVRIhjbaATV/hX/g66316rm7r27BhHb1nLEbUlL2bfzPKfRaPQIQe+q4N0HfDQKnyTEu2TEwq/OOhyKuFioxj7N8azBfDMQofitE7ODLN3hueuEt/8eW2vrhHx4nlDs97xMRlE8BqWDXuglNz5/XUzzITGrqnPB9eeMoDHWvyInEsvNUj6vE+uX4xLIqjoFnBRt+3+Pq0WOD334b7nqqn/ytaLA+Phm/vwVH6EsrAgutaT0i8Ocu0RRdFel+wx6YsQlrnADEN7SWe8mMWjQn49KtPq6qRcf3W1dlwQlsg7GQoOFRfqg9oTfewv4JnTF+aB64vYPPJ8xXav9Iu/bamUp+/brXvc6/v7v/75n26ZNm/jUpz7VY00OIyz46BYhXnCG/sp1Mwih4IxDGMazImEddcK5zjocn7P25XGAAI7bGr/8xeXrxOmg2ZO6F4C6ekJr/aB2DfLXHhKfF5FXAuMi8vPAC4GPLMWJlhLpTowlEsvKUj6vE+uXVZNJL2ZmZoqZmamebUXRAe2mj3YhLarICYIiopXFuSgKjAiZE65BbAvAiuc4OHHd4FhH3UBeV6aO+Y4b5CIx33ELCY756o7DYw26jh7R4+6bcdZ3EcAoSIkYg8mMdSNJ1DI5OcnkZG+czDBxiO+70O/i4vFRHELROV+q6NiSGorv2EobnzeuJ/4cWobj9oZ1x/2vLoqGJ3ZjqJslidsRu3OE/seD/o7qXhB8mTrB7a37Q+blwPOAm7FWrqtU9W3DPslSI5Lsx4lEYu2wagXyfIh4n4kSEYMPzCvOl8J6F2sVw9D6K5SUuIFXgNJmgcO5Y9QxSGDGgjQWkINEbp2Vq+7aYvG9WCtdLATqRE/3usC7R4gIYupX8fddh7rQJ4pdjCdiMxGKvbczM4dptzOmpw/Pe52JesIQbeFCtNhlJgx5Fh8fL0wbRCjEw/Jh/WG9IbH4rZuxCF+84pewo3VTqHsJDOsKrbtxhI84rnmd+I1dT2KLsTGGw4cPMzMzw6FDh46q7Yvg8U4QV6JYRJ6jqv867BMtJT5RUiKRSKwFRksgu4HbqLgQbjgnZKDEJQ1xKXjFQI9PIlAqKoqUTtQ5N4NSux4B87klLMZqHJedr875BHPo6jGoLYOO8cRT4F5IqKr3MxkoPOp8UY30vwRYsWFvoBjhla94YhLHx0gsesN/zzCtcmhxDX2XvSvGoPTIcT9caHZhkOXX75/vhTEuEx4XXmtdWwa1Iy4zyMUD6LNoxy8NsbU9FM11Vvksyzj77LOXQhwDvFpEng78CbAJuBSYBUZLICcLciKRWEOMlkDGRawo1Qa0KBQtrIVYOyUUYCRzA5wb3DHWygwuI45C5q1f1mdObcFuVGj3lNfqd6+FNhYEC1mM5/OhjOsIB/JBwuNoGORPKgRvBQwWTz1T5lD5clflndeKySS5VRwnXux6y663hPqMenF4sTqx7IWxtwzH1tVBrhMxC728eUJf5jh9dHxMbKUN64kTj9S1se7vre5FrnqhC0IYhu0MXxxioR/7Gfttww7tFvGzWHF8k/v+alV9zzzlVyVC8kFOrB8ajTG2n/4ofPxVVatNAG7bcwNlOf/C98TqZ+QEMqqoCgahwE0FF6UVy87KKUgVuk1wHhSuA5eUVTpUNeCdaI0xiPb6KKMlg2wisXXOU+fmsBhRXccgC9189cxXb8++GnNPLKIqIVy5ZNBze8TdYxsMZPELGhP1xNZSvzDPp54OBVzoshD72oYvMHHkhfhFbNDMQVyPPzb2BfZW7bD9da4W8efQOhseO+glsM4tIm7/fOXC+xWK5kGxzcP2xUlbloATsGHevouNgfwDIiI6av4K6e8/sU7IsgaP++ln84tP+gOkA2W7pOwUlO0SLZUPf+pNzMxOcuN3PrbSTU0cByMnkKUUtAOiQtYxFHMdynZZmYJLKV06XSeU1S0qw/olG3xRdX60xia10F7RWQ2kgnXjqBoQfBxgOQ6/h5as+axycZ3zuXrUUTdd7gVNV3Th/LS7Y1kleIK22hcLg+L3WeO6t8yr/+y/i2AMayU5yIqhqlWkirIsmZubo91u94i6VqtViTcvjusspb5MvN+fZ9DLnd9/NH27btYjrjNuWyzUF3t/wjpCkV/X9k6n0xcDOrwX4d97+BIR+x4vg0C+Bni9qu4UkXHgDcCXgJ9aypMuBaOl6BOJY6PZHOcpT3yJnb0usb/birbttPQvP+5PKLXDpg0ncfUN/7bSzU0cIyMlkBUoOyWdmQ6zMyXSBm2XSKmU6vwzWxnGiWIRK4BVldJPqZZUrhRWOPufEqU/NS5IZXH2rZhPsNa5Jsy3Pd4H9E1Th22qyxzmy4T1hlnEugLfRvMoy+70cjW1HS5qMpmzGEvPC4Gvw96DEu9Zbw/JAAAgAElEQVRfYe+z8+tOHBNeHE9PTzM7O0un06HdblduF8YYms1mVTYUvnEfCEWiMaZHKIZuGXX9MLa01rn6xJZYT9we6PblxfbtQS4aoRiuE7mD7kt4XJ7nPYI5bkeY9CR+6VhigfxEVb3TtWMa+H0RedxSnnApsC4WSSIn1gEKxVyBUFDMKDrTgbbiExhIDrnk/M9HPSsJ5BFmpAQyCkW7Q3umw5EDk+h0SdM0yMjIMpDMkOVCUXYgB8kyTGYFnKGrE0s/uKJoUYAqmWQ26gX1rgZVAxx1QneQD2WdO0ToAxmeoyxt9pNKu3ezhVQxlmMhU9ceLzasT2p921S1Cnznj7QvE+GCJiHLXKQQsTGlVamm1jNjEMlseLdkQT4uZmdnmZ6eZt++fczOzlaL7WzSHJtcxG83xlTWZOh3nYCuBdWHg4tFYdyHoN61wpet69thuDi/z9cRL4wL/aLjGY/w5S+0kMfn86K327e75wpf+gb9bfo2+Pbmed73NxTet6WMfywiP6yq3wZOFpGTo92TdcesZpKHRWI9oXM278Ls5BydI22yjlgtkoNpZJgmNqBAYmQZLYEMUCpZaTvn3OQM7WKGhmkwNtak0WqQjQllZlN1IEpRdqxfsh/A6VrZ1DhfA7XTIkYMBD6bPm1vbEHzxIK3TgiHAib21QzFQFheXKxnr48VL+qVyqQrLgue268uFIdId/pZyPDrBOJFUDhx7L5026qCFkrmkqv4em14vG65PM+p3ihM97yJY8cLv7m5OQ4ePFhZPcfHxxkbG2N8fLzHL7bT6VQiOnzZCrPthf3Ml/ML+sKU1rGrQ9y343jZsbtDLJB9+dhdwZcJf8dppsN6/P7wPP7lzG/392G+v8+wntgv2y/A89/9C0X8swT8MXAR8Hc1+xR4/FKcdKlIi/QS6woFLZTOdJv21AyzsyUtyWlMtGioYPI8CeQRZ+QEsjEGjNJqNCmzNrPTs6iWZECeG6S0/rBFWQIZRhQxwQAYWJG1cAvNcidAi8LGTZb+BTv2d+CXGxBbcuumrz11g/ggAU4sZn2b1GrTMq4rqq+2zqAsQZ1ahD6aZSWyYuGhqogBkxkXZc86YKkYm7clccz4JBRjY2M0Gg0OHTpU/Xv61NRgLbF5nleiF+gTlpWF37naeKtoXTzjuhTKsbXZl/X1hTMgcf+NXRPCv406n+P5XiLr2um/xz7GddcVttWn7/bWZ/89vOYsy2g0Gj0vBPG5h4WqXuR+/9xQK14hRGJ3tERi7eLX5TQloyig6Cht2pgjVliVLaEs2ivdzMRxMFICWQSaEw1KzdB2gXRKTCmUs92V9DOzRxDNAKEhOSazES2KsrT2V2Ps4r1S7aI9Iy4usnHW09JZRetX/3tpuZB7Rd00dDjgxj6P3SlyG4outMTFVkAA0W5cYrHmW5cKBcoChIyiLGqtX1kk/r0w6AolgEAA+cwg9uoqFwtjxGXNM7iw0zU+y4nFICJMTExgjKHdbtPpdCjLktnZ2erfb2pqilarVU39e5Hc6XSqvuEty/7fNLTChtZlL1zjPhn67QI9fTT8DfQI8Vjk+uO8iI0twv7Y2DrsX8oGWZ39+UJxHLpaDJq9CaN/hOK+LmNfu93uWZy31DMjIjKGTS/9M9g/tC8A/6KqM0t64iGTLMiJdYOAGc/IOg10k6JFiZTT9tmGjZZVzNmoFnnWpFPMrXSLE8fASAlkBEzTYNQg5biNgawwOzkDUlJKgZZKLhmtVtNarIrSxk424lwRSpSSTHziaekf4I2gtVZY7YaIm8dyFu/zA3EodOMp5apsaV0+1AXmKIvebGdV5A2p82Hu9SgOB3ZvTZNouz+v98W0bTNVHfYYqYzXIkKpNvGKyQ0mz5CsG2s6ceyMjY31JQA5dOhQT8QKXw6ohHHoEhRab2NhGH4PBW+de0MsjHv7WdcaHIpNT1hf+OPr8sK40+n0tLnVavW4PYSuGnXWZP85y7KeJCq+vX5/s9ns+9sUkcrNJKzXk2UZzWZzWQQy8E7gMHCx+/6bwOXAM5b6xMNEJAnkxPpAgMZ4jpTQ1BZlUaJlSXmkjR2kQUXZtPFEXvQrb+UtH/ztlW5y4hgYLYEMlJmSNTKysQzTNOStjPacQbDbpWnIcrtgTLHWYK8djUKp9g1PRFzSCzBhEgAnEA3WhaEkFL9dFw3niQHqLGLYJBrOFwLvzdE3YHgXDld/NymJG9Dpnsbu7x3YVb0rcO/irEqQ040mUAkHd14/JRSK90pglWXV9hArOtwxosF9sDdWDOzbdxdHpg/af58iBUc/HrzPcbPZZGxsjJkZa0RsNps0m03yPO/OIgSi1wtkoMfyGVpjoetvGyYWqVvUBvTVGbvuhCLUi9nQ5SO2GPvtdXjBHYv6cH9oFc/zvHpBiC3hcb3+GmJ3lPBc/sWkysTprPF33XUXDzzwAEAVgm8JOEtVfyT4/lkR+eZSnWypkL6IP4nE2kUyg8mFbEzJxwzlXE67LKy+yAXJhayVsWHTZradcDr3HbhzpZucOEoWZfYTkZ0isldEvh5sO1FEPikit7jfJ7jtIiL/S0RuFZFdIvKY4TVXMK0cGQMzYWhsbpBvzmlsypFxAw0hbzXImw00A8kzNBPIrHBVo4jL+GaMkGUuQgNW3GZiE5CE8ZN7B11ByBAyjGTYTCPuRwVVsdvULnYDYzP50Y0kkZuMDEHUrnCV4MfGVCxdG6wbRaiwregouyoaesRu7RS5E+OxUu8TLFrgAzpK34K7SHTkgjQEyUAz+NCH38JrX/OrvPY1v8rs7JFj/LddflZPv7b3OxTGmzdvZtOmTWzatImxsbHKN3lsbAwR65McLtALRV3sqhAL6VAc14V/Cy22dS4L4fewbF2mv7qZFP/d49sUJy+JE4lAf7g3/zk+V0iYlTC8jvi3vwYfDk5E+Ju/+RvOP/98zj//fKampub5FzwubhCRn/RfROQ84PqlOtmSkSzIiSVmtTyzO0Wbb37ni5AJpmVobGyQT+TIeAZNg2lYcZy3mmw75Qf4lcf/0bBOnVhGFjsvfhlwQbTt5cCnVfVM4NPuO8CTgTPdz0XAPx9vI89/0rP5hQufz+Mv+C2b0riRkbdyGmMN8vEGjfEmpplRZgoNQTOsKDbOt9j4z1jzq/sJRUE12NI7wNpDuuHQvNjsKePESChIcPWExwn9/skhtVO5gcARZ6G2U5ldUREO/oTtU+0TOLHwqYSySJ/tp7o/3jCODfNWXWtmutbl0eQyVrBfA7zgBS/gj/7oj/i93/s9siyj1WoxNjbGxMQEExMTbNiwgVar1ROuzQu4WBDHYjjcD11LbtwH6v79QtEdCsa6MoPqCN0y6hYH+t/hNYTWcO+CEbt5xLGVQ6Fe5/pU1/bYJ9lvy/O8stLH1vcl5GzgyyJyh4jcAfwf4BwRuVlEdi1HA4ZB17krkVgyLmOFn9kAc3PTXP6eV3DDTR8ja2bkYw3yDQ0aGxtkTUPZUDQXVBTNoEweiCPJolwsVPVqEdkebX4qcL77/K/A54CXue3vVDvqXCMiW0XkNFW951gbOTc74yy0imkaKKyrhBnLaGrLPpiPKHPTs9ARWrlQKGhRVIvIbM4L5wfs6jVONDuJSPx4tzF/awStKvGwGQ6koTg1IpUrhQT76wbnitKKYLv4TSic5dhbzUJrYCh2xDkBVuf31sDovGGbwxBf3nLcbZd2XxhU0cyGwhMj3Lv3dj77uXchBm7/7siM4T2sdL8GOHLkiG8LzWazEoStVotNmzYBth9MTU0xOzvLxMREjwU4z+2fcO9MBz3W4boQbt5VIe7bdS9vcV8NRW+d+0T8khhaqf0iQaCKFuHbEQr6uG2+vnBBaxwrOT6nOPeK+SzS4Xm8KL7tttu49NJLybKM669fFkNuPOAfN05oHwYKoKOqO0TkROB9wHbgDuDXVfWA2Bv3FuApwBHguap6w9GfM1mQE0vLanhmeyYnD/DB/3gjnXabc3/iQhobmggwjV20VxqlyKx7V1ET/Sqx+jkeH+RTg472feBU9/khwF1BuT1uW0+nFJGLsG91C/Llz38QgIkNW3j6s16GimLUQFGipdCgQcd0KE2JiKHMS1SULM9dhjcX0xcqwei1hBeV1eC6SC+60FpSKzK8iI6Ei0ZJOLw1GML4rAVgXUBsOGdF1fQIE19Hjyjx54jbGpQLY+R6rB9qp+8Y/9JQWcLFvlRghAce+D6f/+y7F3GnRo7j6tdwdH378ssvB+CEE07gta99LWD9jcOFeq7OHvHoXSzq4gyHAjVcjBcvSBuUlRH6F5yGFtqwjjiGciiIQ8LFgV6g+zrDRah1vs7xeepmQUIf6FCI53lOu90NtRQL/VBY+3PffffdvOMd7xj0TzZ0VHX3ElX9c6q6L/juLW2vF5GXu+8vo9fSdh7W0nbeMZ0xCeTE8rNsWiTmgYP38p3v/B/OfcyFZGMZIk3UKHOzc1ZzZCS//BFmKIv0VFVF5Kh6gapeAlwCcDTHSi6Y0jiBq2AUkxsmmsL4pnGktINjpyzJ84Y9xv3Pj+0GJ0T9wNjjm6hVfOHYQtY3xewHWmosb6o92/1uL4xjv95qsLaFutvpWnZ9uZ42hO4ckciJy4VCJBQHse9odb0G55FdWmt7LpVAHmG3ikVzLP3aHXdMfdtHEgkFZp7nNJtNtmzZ0iOafdppd45a663/Dv3W0/h7nfuE3zfIdSEUrLHIjI/1dcY+yHUW4zrLce1MTrA/Fs9xaMX4OsLtXkjHIebWIEtqabOL9JKlLLFyLKcW8ez6+mf54jXv53GPeyYmF0zT0CpaULp8C6XVKInR43gE8r3+ISoipwF73fbvAQ8Lyj3UbTtuBO92AEhJJhl5bi3GTc2hcGvNOj7kVb9A7Q7W4O3FPqqZqquf/oU/MFhIGCeGjStf4gwpNYO6DYfWP+hXn6PpbH+OsA3z7avb7uuLp77993Da2tVUvVVYy7QTNgbIBMkNkq1ZEbHs/doTRqfwom1ubo7x8fHK0hr65taJVn98LGqBHiEauif44+O+HYrZcPHeoJjIobiMXS+8S0gdvh/GL3DhtYUh5eI+HN6z0Hocfo7bGh7nXSvCnzWAAp9wA/5bnQgYmqXt9NNP7zthcrFIrBAr9swGODJ9iKmZAzTGc7vQvlNCqZSdEi2hLKHZGrmAYQkWv0ivjiuB57jPzwE+HGz/LbH8JHBwWD4/dsLfhi3L8pwst/6wWcOgBgoKVEo6dMibGXnDL7TpLsixA6CzQIsfIA0ms/7IYuoH4KoNNRZcEanEsTGG3BiyHstYGEZrcOraaqpYu5MycbHQ+lUn4MMyddtDq3Fs9ev+GKePbchzk7kFX1lGZryf6JoQEXUse7/2+BcVH85NRKqkID7Ob1EUNJvNnoQhoaD2x4H99w4X2IUL9opFhOMLRaevy//U+Qn7Y0KBDv3+vnX9NP5bi8896JiwvL9//h6E/XxQXGh/PWFUEO/XPeL8jKo+Bus+8SIReVy401mLj9rSpqo7VHXHtm3b+vaLJA+LxIqwYs9sz0c+8k98+ctXUJQdyrLo+dnzvW9xyTv/cClOm1hiFjUSiMh7sFNzJ4vIHuAvgNcD7xeR5wG7gV93xa/CLva4Fbvg47eH11xl6vADoN6yCRTKWGsjR2YOUcy1rdW4sNsFgVKg1Mq0MT62uTs4iqliGIsYbHYOL0q9xaleyIbW1/C7Fx6+DgljB2NDwYXTwOGx3lIWCpyY2Loci99Bx/nt1spT9Lh8iHtbsP+vdoCWeIO3ZiWSZRyZPQilMNtespBXy8bq6df233H//v2+XYDtHxs2bODQoUPMzs4CVBn2/DGhpXbTpk2VCGw0Gj0xjEOXg/le/EJrsV8w6Mt6X96wr/l6Y+Ht2xVacr3I93UMEsfzuQvFIjq2iHf//npfIEOLeXwP/IvD5OQkWZZVCydHGVX9nvu9V0SuAM5liS1tNjxmksiJpWM1PbNDVEt2vv3l7Hz7yxcunBgZFhvF4lkDdj2hpqwCLzqeRg3iyNQh/vB55/Rtf9mfv4vLLv0z7v3+HQvW8dev+hQnbHlQZdntmmgVpEQR527RtfjGxOIittjaad3Bg0XsC1nnGxknb6gT5HWCON4WpgIW74xdcy0iXiJ7gYz1Nc78T0ZJwe+/6NwBd3b0WC39GuCBBx7gwQ9+cN/2j3/847zoRS/i1ltvXbCOL3zhC5x22mk9fSRk0CK3kFC0+jpi94q478UvbGEYtrq+HVuS4+x+YT11Ps2+Dp8Jb9ALZe+sSG87w9CMPqLH9u3bF7zHo4CIbACMqh52n58E/CVdS9vr6be0vVhE3otdnHdMlrZkQU4sNavpmZ1Y+6yJuUQxR+EP69fH+dVvzrJbEfgB+68L0RUjTnTHp5R+H2B/nN8f/o4/h+Vj/8mFprkBt7q/PqWur9cEPtmIWJcTl0jFJlcxqEkLcJabuogQg/BRLbywrHNxgP6FnZ5B1llftk54x33XC+pQ/Mb7Q0ty3L66vhmfL2xb6Nscn3vQ8d7tIox3vMYsn6cCV7jrzoF3q+p/ich1LLGlbW3dxtFAVTk03WHLRGOlm5JIrCnWhED+2o2fYXr68KLKqltn7ReZqVuPZnVxN1Qa4p0N+he19brvKeCtvVYk2+QZ3WO7VdYL+brEB7EYDusIrckxg8V2YB2O74lru4hQ+kWLmbtHmfDVGz/O9PRhSlIa6eXmqquu4tChQ4sqG4rSeGFa2B/qRHedxRfq+2adm0bsMuF/h+mjB4UnjOvwba/r+2H7B1nKYyt13Tm8OP7oRz/KwYMH15RAVtXbgEfVbL+fJbS0SfXMTCwnl1x9G3/zsW9z7SufwKmbx1a6OYnEmmFNCOT/+siliy9s6HF/GGRBy5wlqqyiX/gyAL1TxCGDLL91DJpuji13dVa6sI5B4qT/2Pp22Glq8Fn6bKZBcRkI4coP/yN3331L7bGJpeXNb37zosuGrhDzWYdjK2soRv2xsSvPIDeGuG/HfxexW0RdmVAYx9Ztvz08V9i2OL5yfL3xdYdiPcsy3vCGN/Dtb397cTc4MS/20Zgk8nLz7q/cCcD9k3NJICcSQ2RNCOSjQQXUuNiE+IV13UxylRB2G8QnyqjG2cEr8XvOM0BA+33h79CiV5f1rG7gjwVG+NkLnO422+643qhVVVnJBJMb+5OZOjfsxCoktr564aiqfdth8Itb7H8c1h+/vNUdG4rhMGRaHFO8zjfYl/PEiUP60qrXtGOQtdtfTxiNIzE8BkyQJZaY+w7bBbzT7TTDl0gMk3U3Qlxy6R+S500ajRZ/9MKdvYNrZGT1z/s6K1qdP+diCf0wB/lc9rt00GMpi610sfgJauw7d3yunn0CRgzXXvthvnD1+0GEfffdRWL1c9FFF9FsNhkbG+Nd73pX7ULPkFhIxoSuDAtZjsM6O51Oj0tFWL7OR9j/jmdTfD8Po3HUzZSE1xDvD7eLWP/jD3zgA7zzne9ERNi9e3ftdSSOjWQ/Xn6OzNm/j8nZzgIlE4nE0bDuBPKdd30DgGZznFJKKCELLMdqqJJ8eMFcN6DHA/2gwbn/WJvgIasSbcTTzeD9gcO6cFGgvTW41yrctXCrgpZl5S4hQrAIyVRljbFLzkWsz3RbCrI8s7GlM+GBB+7l1ltvOIY7nFgpdu3aBcDExATQb82NF8+FqazD8r6/hGXrBHSIqtLp2AE6thqHxGJ8PjeleBbGW4/jTIPxS2V4nf5asiyrYh3fc889XHvttfNeT+Lo8Ws5EivD5EwSyInEMFl3ArkHUUpRhAyrhN2SOz+oK4j0JsQIB/g4tmyd28UgV4twoI+FdCh+u9u7grpbNz3HlKVNVW0yLxC0EitWPHRjO1drCEVAFJMJxoA4H+00Xzr61LkxxO4LoTtFKDLjGMrhDEXYt+vcHWzUlG5kCb89Lud/D3IhqnvBzPO8OmejYVft183GxCI5ThCSGD52kV5SyCvF5Gx7pZuQSKwp1rdAzgI/zcKbkMPBUyiDsG2C9LhhxMkHFnK3CC1xflCPhbVrRPecNda2QRZqu/gQK3SD7IE+Xmw4VV6KtyQDRsjzjP377+aVf/akvjYkRo84kkXdwrhB6Zf98dB1r5gv3Fy8wK4uS9+g4xeyJsdlRbqZ8rIso91uk2VZX+i4eDHenj17OO+88xZ1nsSxsZ4tyPccnOanXv8Z/v0Fj2XH9hNXpA2HkwU5kRgqx5NqeqQRgaxhMA0byoxMUJc1zrom+FBt2v0R5+bgLK2+nK0vGOjptybHvsShRau+ffXWrjqhE372QsQYmz5bKat22+0uxrFRTAYmt9+Nc63oXm9ilGk2m1Uqai8SfV+Jo13U9afYPzmcNYn7cXhsmIADBluO66zRde3xhHX6dNBxGDt/rb4N/rdfkDffwtnE8SOyfgXyjXc+gCq85dPLG+1nrtP9G0g+yInEcFm3FuSyLLl99y7KQtkwsYVTTt6OlqVNU+3SU/voFb2uDMFCPefP61OshtY6Y7K+wR/6p4ND8TzIvzk+t/3cXVQn3uotYNw2RK0btQiZ8zc1LumHONcK+93Vk2FfFBIjT1mW3HjjjZRlydatWznjjDOqFNU+5TMsLiKK3x/6K3sRGs5o1LlhhOHZ/N9GXVIOXz50WQpFfLgtvEawPsjtdrtHFA8Sy4mlZv3GQW67SEh37V/eNOVH5rqieCoJ5ERiqKxbgdxuz/L61/0GAI85+0lc9IJ/gML65pZSOsHae0zs2hBb4WLr20LWKn+cH+zjQbxHuBgnqis3YmvR9iLZH2/bFLahtKI5M6izihtjreWSCSbDqm2j63g+YW0xMzPDBRdcAMAv/dIv8fa3vx2gEsdxdItBgjXsm/Hit0FRJ8I6w5BsPS+W0d9MKKjDbeFx3gIe7veC3LtchJEzvCgORXJiabHGhPUpkfdPzQFwcHp5/YCn5rruTMmCnEgMl3UrkHtwAlK86CwMaOmiWXjfuvqYr90q5veljEXEQla7UPh23T2sqLXHzhMfWawwRqywpnSW8Oo/qbL9GWOQzFCakomNW3jyU18ACt+95Ub++1tfWfQtTKxOvK9uuPDOC+RBmehg/tjC4ba6xamDBPdC7ht1x8b1hmWyLKPT6fT9TXlx7LPlAWzdupWXvvSlAFxzzTV88YtfXNwNTCya9Tj/1ClK/vj9N3HH/VOAFallaSMDLQeh1Tj5ICcSwyUJZODO3d/g3Ze/xsVIc9axUvn1Z/wZueRoqd3Feyr2o0jlWuHRUivxivGRImw4NeMsu72CRMG5cVhBHESXoIo10SMKYiteP24fipQEKbUVFcWIdaswmSFv5JjcnrfMYOPmrTzjN/8UVeWjH/rnJJDXALt27eKlL31pz2xFWZa89rWvJc/zagEndPtmKDjDxXrxgr3YjaLO3zguP8jv3odiC+uJXypjy3ZsSQ6tzY1GgzzPq3Nv27aN173udagqb3zjG5NAXgLWow/yW6++jStvurv63i6UvYdnedCW5cloFwrkZEFOJIZLEsjAvvv2cPXn3tu3/ZnPeqV1R+iAjVfsrFheuLpydlAQxOBcIPxg3RW/qiZYVBSIAEI3Ce0Lr1YnKkJrWogG57PuGAqlWpcRlDw3mDxzWfIE0/AL+QIXjsSa4o477uAd73hH3/a//uu/ptFo9Lx8xbMa3vcY6BO54efQOj3fIlLPIL/iuHzsw+9diHzUilAY53lOo9GoYh3777HoTywdss5syNNzBRd/pn9R3k17HuBBWx60LG3wSUKamUlxkBOJIbOg16mI7BSRvSLy9WDbm0Tk2yKyS0SuEJGtbvt2EZkWka+5n39ZysYvNXmekTdzTNMguUFysb8zEFFUSqyZVlEKRBUjgs3OrH0Lj6DrSxkvJIqniev8O2PxEP8YiaJjGIUc8kZO3sgwDUPWMGS5wWQZiKBOnHtr+Hpa6b+e+3aj0agiXXhrq48UEScGCQVqKJTjvu0ttvFPLHTrRHSdiI3/RsK+HaaMjq8jtBzHFvH11L9XgvUUB/ma2+9npl3yrHNPB+AHt21g81jOZ7+9d9na4K3Gp2xurXkL8np+XidWhsVYkC8D/hF4Z7Dtk8ArVLUjIm8AXgG8zO37rqo+eqitXCH+/5c+jsBODAo//6Tf4UlPep7161WsywWltdYGBmCt/lc/VRxOTYcMGrzjgb3W71OVslBKChAXDivLkdwAGZIpJssQ012IKKW9RBXh/vu+x1++8lcAmJudOY47NzJcxjrt22eddVbfthe+8IW88IUvrKzB3n/XW2uBvj5Y17cHuUr4/XV9Pn4x9GW9S1Gn0+lZ2BcKYl82FMZxQpS77rqLxz72sQBMT08f/Q1LLMh6c7G47/AsAM8+73T+c9fdvOLJ/4OdX7qdb33/8LK1wUexeNDmMe45uOaf2ZexTp/XiZVhQYGsqleLyPZo2yeCr9cAvzbcZq0OJicf6Ns215kha9h81FVykczY9M5ld4AX747hF8wBCJRaBuI4zMZn9fR8U85d4YBdTGhjvFVL74qyoFQbRq6RN8iaOXkzxycDNI3MtoHSntv5QAMYNRRlweThA0O6e6uf9dy39+/f37dtZmamEp0+HGGe5z3iNPzJsqwnAovPDjkogkUYozvcDr0iOiznz+VFujGGRqNBq9Wi1WpVZWN3kfj8nU6H+++/f3g3MNGHf4atF/yiuIeeMM7Nr/kFAK6+5T6uuOF7Axe/DpvJWfsye+rmMW7ZO7nk51tJ1vPzOrEyDMMH+XeA9wXfzxCRG4FDwJ+r6hfqDhKRi4CLhnD+ZaXdmWFq5qAVyC5Iu2CY2LgFLUq0hKJwC/aKrjAGMFlG2QlW/6MukYcvpJQ4cQ3Y4Ua6VpnAOq2qlFoiRuzCO7FxjXNjyJrWumYazlLtBLKKE9gIIt1KvSiemjy4RHdtZFlXfXt2duQtbKIAABJySURBVJZDhw5VFluwIvWEE06o4ih7oVrnOuTLh9vrXDXmo/rbiNw6vDXZC2NvLQ7Dt4WzKb4dXhQfOLB+XvxWinjR8lrn8IwN6bax1R1GH37yBg7Pdtg3Oce2Ta0lb8ORyMViuYT5KmVdPa8TS89xCWQR+TOgA7zLbboHOF1V7xeRs4EPiciPquqh+FhVvQS4xNUzMk/VT3xsJ5/42M6ebXne4H+/7RuoEbQskaxEStAiI1S3xhi7kA8bFcNGlTNV9motFS+KbWi5+sgCtobC+vupuOQfgmS5Fcm5IW8YNBPnZ2zFTOGy5IV+gqLCn77kZ2nPrfnpuaNiPfbtiy++mIsvvrhnW7PZZO/evRiXbMZbjUO3izDWcOgGUZfYw/fjOAteaP0No1SE8Yy9ddsvxIv9lusWBz7ykY9kZib17WVhHVqQJ5oZedbt5z56xd7DM8sikKdmO4jAtk0tilKZaZeMN9dfzO/1+LxOLD3HLJBF5LnAhcAT1I1MqjoLzLrPXxWR7wKPBK4//qaubkzDYLM6Gxu6za3f6yZlsFbhDLu4yYpb0zOiqFrXB6PeigbesdlGp4DSRdHIaADe59MgTnxLJkjmFhWayGoX/u1rdVLW17C2MKlv9+JTVvv0zqHbQyxKw2gWYQi5MOayF8CeOMxcWF+88M9HqIgX3oXfvStGeI7E0uMD8awXDs+02TTWO4Ru2+QF8iw/ugxtmJormGhkbB6z48Hh2fa6E8jpeZ1YKo5JIIvIBcCfAj+rqkeC7duA/apaiMjDgTOB24bS0lVMWZZ8/nPv6VmUp6X2RoZwi/zEm1mciVi1uwzQH+t1bOVmEXwXgZ/8qafRbI1hRCoXC2PEpoo2bppatHLDAGdRK9SVF27e9QX23bcHFSiLgoQl9e1eiqJg587ujEmYhc+L0bpp9Tp3ikELTf1nYwzPfOYzmZiYqI2GEbpxxG4gPmGIMYZPf/rT7N69u0ewJ5YekfWVavrwTIdNTph6TnFWY7+Ab6k5MtdhQyuvhPrkTIdTNi3LqVcF6XmdWEoWFMgi8h7gfOBkEdkD/AV2pWgL+KSz3Fyjqr8LPA74SxFpYyMC/66q9q8GWmOUZcHll75q2c539nlPYbyx0QkHQYxxK/e08i2eV4wIfP4z7+WG6z4RV72uSH17YYqi4CUvecmyne9pT3saW7durQ05FwtzT5jARETYuXMnV1555bK1OWGx7/zrRyJbgRxbkJdXIE/OFmxo5ZUf9FoO9Zae14nlZjFRLJ5Vs/ntA8p+EPjg8TYqMT8mt+mhEaEU77zhLMVlfZY9G5FOKkv2eopXOojUt1cfPh5zXfxiT7IKr07WWxSL+6fmOC3KmDfWyNi2qcUt9y5PqLcjsx02tDI2tLoW5LVKel4nlpuUSW8EecvfPY8sy5mY2MwfvPRtKNITf3nQKub//vZX+OB73wQC9959+/I1OJFYJE9/+tNpNpts2bKFD3zgA7UJRDyhn/GXv/xlXvUqO4tzyy392c0SS49fWLweUFX27D/CudtP6Nt37vYTue6O5Yma8v1DM5y8sbUuLMiJxHKTBPIIsvt2m0ho40b/cHa+zIHFLRQVpfs4NXWQ22792nI2NZE4Kr72Nds/TzrpJKB/EV5Pvy67McUPHDjAV77ylWVubSJkPYUXe+BIm8OzHR524kTfvnO2n8BHb76HPQeO8NAT+vcPC1Xljn1TnLP9xK4PchLIicTQWDDVdGJ0iH2OSxcMrm5/IjFKhP7H8+1PHBsicoGIfEdEbhWRlx9rPevFdeu2fTYpx+k1AvncM+zL3Vs/v7Rrwu49NMvUXMEZJ29IFuREYglYLRbkfcCU+z1KnMwKtnly8gDP/60fOtrDVrTNET+w0g1YBiaB76x0I46SFe8j999/P1u2bDmaQ1a8zQEj1a9FJAP+Cfh5YA9wnYhcqarfPKp6WJsuFkfmOuw7PMd375vk7oPTPOPsh/GhG+8mM8I520/sK//DD9rErzz6wVx+zW7e/ZU7+c1zT2fH9hP45Uc9eChW9rJUdu8/wp9/6GaMwHkPP5Et4w02j+X856572NjKecqPncZYY32FexsSSYssH6upzbXP7FUhkFV1m4hcr6o7VrotR0Nqc2IRfGfU7vco9pFRbPMq4lzgVlW9DUBE3gs8FTgqgYzAngPT/Oeuu22SowWK3/PANNs2tThxQ7OyfB6ZLdi2qYWi7Ds8x+bxBqBMtwtm2iX7p+bY0Mw4dfMYmRGauWGuU3LPwRk2tHKKsqSRGVp5RmaE3AjT7YJ7Dk6TG8NJG5scmJrjwJE2W8YbjDczBGt53TzeoJUbvrr7AFOzBXsPz3DShibX3r6few52k8382RXWxe1XH/MQTtjQ7LsuY4Q3PeNRzLRL/usb3+fya3Zz+TW7efkHb0YETt7Y4sceuoVzfuAEbts3xY89ZAtbxhu0C+XgtG3XkbkOew/PctKGJmONjNlOQTM3fON7h7hl7ySf/+/7APjzX/wf/PCDNgPwnJ/azsWfuZWv3L6fP37/TfzOT5/BOdtPYMxd49HwIw/ezCmbxhYuuMZIWmT5GIU2rwqBnEgkEokV4yHAXcH3PcB5caEwJe/pp5/eV8mJE1YsvvjdNy5FG5cNL7o3j+VMznZoZIbTT5wgN8KjT9/Kto0tHnHKRp7+mIcOrKORGf7p2Y/hW/cc4sxTN/K2q2/j6lv28dXdBxhvZHzp1n18dNc9R9223AiFKo99+Ek8+vStPO9nzqj2/eETH8mPPngz37rnMN+4+xA7v3Q7O790bIux//nZj+HJP3baMR2bSKwVkkBOJBKJxIKEKXl37NjRZyB+2ZN/mKc95iGUJYw1zILuBJvGcvZPzTHdLshdAqOJZsYD020ATphoMuUsy2MNaxVu5YZDM21m2jbraLssMSJsGW/QKWxEkzwztIuSTqEUpVKqsqGVsXWiycHpNg1j2DLeYHKuQ1EoItDKDQen28x2Ss44eQOFKpta+XG5RGRGOOsh1k3oxY8/kxc//sxqwelsp+DAVJutEw3ufmCaydkOuTEoSlnCxjEb23imXXB4psPGVs7UXIczTt7g7ke/+0RmhAvOOo0LzrLC9q79Rzg0Y6/paDnjpA3HfN2JxFphNQnkS1a6AcdAanNiIUbxfqc2ry++Bzws+P5Qt+2oaGSGH33wUfmNc+rmo5/GP+UYjvGcvLFVfd4yEWXBO456F4sX3K0840FbrMh9+LaNS3KuuggbiUUxis+S1OYlQNLq70QikVi/iEgO/DfwBKwwvg74TVX9xqBjduzYoddff/0ytTCxGhCRr652n9FEYpisJgtyIpFIJJYZVe2IyIuBjwMZsHM+cZxIJBLrgSSQE4lEYp2jqlcBV610OxKJRGK1sOKJQoYVoH6pEZE7RORmEfmaiFzvtp0oIp8UkVvc7/68o8vfzp0isldEvh5sq22nWP6Xu/e7ROQxK9fytUfq20NtY+rXiURiyUjP66G3c+Sf2Svqg+wC1P83QYB64FlHG6B+ORCRO4Adqrov2PZGYL+qvt79QZ2gqi9bqTa6Nj0Om5zinap61nztFJGnAC8BnoIN6/QWVe0L75Q4elLfHnobU79eRYjIfcDuml2rKfj/UrFer/EHVHXbSjRmqUnP6+GzFp7ZK+1iMZwA9SvHU4Hz3ed/BT4HrGinVNWrRWR7tHlQO5+K7bwKXCMiW0XkNFU9+gCdiZjUt4dI6teri0FCSUYg+P/xkq5xTZKe10NmLTyzV9rFoi5A/UNWqC0LocAnROSrYgPmA5wa/AN+Hzh1ZZq2IIPaOUr3f9QYpXs7qn079etEIjEMRumZMarPaxixZ/ZKW5BHiZ9R1e+JyCnAJ0Xk2+FOVVURWfUx80alnYllZeT79ii0MZFIJIbAyD+vYTTaudIW5KEEqF8OVPV77vde4ArslMy9InIagPu9d+VaOC+D2jky938EGZl7O8J9O/Xr1ceqD/4/BNI1rj1G5pkxws9rGLFn9koL5OuAM0XkDBFpAr8BXLnCbepDRDaIyCb/GXgS8HVsW5/jij0H+PDKtHBBBrXzSuC33ArSnwQOrrTPzxoi9e2lJ/XrVYZLR72mSde4JknP6+VhpJ7ZK+piMUIB6k8FrhCbJjQH3q2q/yUi1wHvF5HnYVd0//oKthEAEXkP1gn+ZBHZA/wF8Hrq23kVdtXorcAR4LeXvcFrlNS3h0vq14lEYqlIz+vhsxae2SnVdCKRSCQWjYhcALwFKyQuVdXXR/tbwDuBs4H7gWeq6h3L3c7jZRHX+VzgTXSngv9RVS9d1kYeByKyE7gQ2OvDcEX7BXv9T8GKlueq6g3L28pEYuVYaReLRCKRSIwILl7sPwFPBn4EeJaI/EhU7HnAAVV9BPBm4A3L28rjZ5HXCfA+VX20+xkZcey4DLhgnv1PBs50PxcB/7wMbUokVg1JICcSiURisVTxYlV1DvDxYkOeio1xCvAB4AnOGjlKLOY6RxpVvRrYP0+RKjatql4DbPULrBKJ9UASyIlEIpFYLIuJV1qVUdUOcBA4aVlaNzwWG5f16WJT435ARB5Ws3+UWZWxaROJ5SIJ5EQikUgkjp6PANtV9ceBT9K1micSiTVAEsiJRCKRWCyLiVdalRGRHNiCXaw3Six4nap6v6rOuq+XYhclriVWZWzaRGK5SAI5kUgkEotlMfFiw1invwZ8RkcvXNKC1xn54/4y8K1lbN9ysCpj0yYSy0VKNZ1IJBKJRTEoXqyI/CVwvapeCbwduFxEbsUuAvuNlWvxsbHI6/x9EflloIO9zueuWIOPgQFxahsAqvovrNLYtInEcpHiICcSiUQikUgkEgHJxSKRSCQSiUQikQhIAjmRSCQSiUQikQhIAjmRSCQSiUQikQhIAjmRSCQSiUQikQhIAjmRSCQSiUQikQhIAjmRSCQSiUUiIpeJyK8tYf2vEZGXLlX9iURicSSBnEgkEomRw2XpSyQSiSUhCeREIpFIrCpE5FUi8h0R+aKIvMdbVEXkcyLyDyJyPfAHIvJLInKtiNwoIp8SkVNFxIjILSKyzR1jRORWEdkmIs8Qka+LyE0icrXbn4nI37rtu0TkJW77q0XkOrf9EhGRmnaeLSKfF5GvisjHo+x6iMgWEdktIsZ93yAid4lIQ0Se7+q/SUQ+KCITNfV/TkR2uM8ni8gdQZvf5I7fJSIvGOb9TyQSSSAnEolEYhUhIucATwceBTwZ2BEVaarqDlX9O+CLwE+q6k8A7wX+VFVL4N+AZ7vyTwRuUtX7gFcDv6Cqj8Kmhwa4CNgOPFpVfxx4l9v+j6p6jqqeBYwDF0btbAAXA7+mqmcDO4HXhWVU9SDwNeBn3aYLgY+rahv4D1f/o7Bpqp93FLfpedjUz+cA5wDPF5EzjuL4RCKxAGmKKpFIJBKriZ8GPqyqM8CMiHwk2v++4PNDgfc5y20TuN1t3wl8GPgH4HeAd7jtXwIuE5H3A//htj0R+BdV7QCo6n63/edE5E+BCeBE4BtA2JYfAs4CPumMyxlwT831vA94JvBZbNrt/+22nyUifwVsBTZi01ovlicBPx74Qm8BzgyuP5FIHCdJICcSiURilJgKPl8M/L2qXiki5wOvAVDVu0TkXhF5PHAuzpqsqr8rIucBvwh8VUTOrjuBiIxhhewOV9drgLG4GPANVX3sAu29EvhrETkROBv4jNt+GfArqnqTiDwXOL/m2A7dmd7w/AK8RFWPRlQnEomjILlYJBKJRGI18SXgl0RkTEQ2Erk2RGwBvuc+PyfadynW1eLfVbUAEJEfVNVrVfXVwH3Aw4BPAi/wi/6ckPVidJ9rQ13Uiu8A20Tkse64hoj8aFxIVSeB64C3AP/p2wJsAu5xrhrPjo9z3IEV1URt+Djwe+5YROSRIrJhQB2JROIYSAI5kUgkEqsGVb0Oa3XdBXwMuBk4OKD4a4B/F5GvAvuifVdiXRfeEWx7k4jcLCJfB74M3IQV0ncCu0TkJuA3VfUB4G3A17Fi9Lqads5hResb3HFfA35qQDvfB/w/9LqHvAq4FvtC8O0Bx/0tVgjfCJwcbL8U+CZwg7uWt5JmhBOJoSKqutJtSCQSiUSiQkQ2quqki+xwNXCRqt5wlHXsAN6sqv9zSRqZSCTWNOmNM5FIJBKrjUtE5Eewrg7/egzi+OXA7zHYdSGRSCTmJVmQE4lEIpFIJBKJgOSDnEgkEolEIpFIBCSBnEgkEolEIpFIBCSBnEgkEolEIpFIBCSBnEgkEolEIpFIBCSBnEgkEolEIpFIBCSBnEgkEolEIpFIBPxffnPDeweJFe8AAAAASUVORK5CYII=\n",
                  "text/plain": "<Figure size 720x720 with 4 Axes>"
                },
                "metadata": {
                  "needs_background": "light"
                }
              }
            ],
            "_view_module": "@jupyter-widgets/output",
            "_model_module_version": "1.0.0",
            "_view_count": null,
            "_view_module_version": "1.0.0",
            "layout": "IPY_MODEL_f3cef45c758c495b80b152a93e2ffe65",
            "_model_module": "@jupyter-widgets/output"
          }
        },
        "b11e23b77fbd419da8ad574594ee0ede": {
          "model_module": "@jupyter-widgets/controls",
          "model_name": "ToggleButtonsStyleModel",
          "model_module_version": "1.5.0",
          "state": {
            "_view_name": "StyleView",
            "button_width": "",
            "_model_name": "ToggleButtonsStyleModel",
            "description_width": "",
            "_view_module": "@jupyter-widgets/base",
            "_model_module_version": "1.5.0",
            "_view_count": null,
            "font_weight": "",
            "_view_module_version": "1.2.0",
            "_model_module": "@jupyter-widgets/controls"
          }
        },
        "f8b474ca66ad42caa71430464556378a": {
          "model_module": "@jupyter-widgets/base",
          "model_name": "LayoutModel",
          "model_module_version": "1.2.0",
          "state": {
            "_view_name": "LayoutView",
            "grid_template_rows": null,
            "right": null,
            "justify_content": null,
            "_view_module": "@jupyter-widgets/base",
            "overflow": null,
            "_model_module_version": "1.2.0",
            "_view_count": null,
            "flex_flow": null,
            "width": null,
            "min_width": null,
            "border": null,
            "align_items": null,
            "bottom": null,
            "_model_module": "@jupyter-widgets/base",
            "top": null,
            "grid_column": null,
            "overflow_y": null,
            "overflow_x": null,
            "grid_auto_flow": null,
            "grid_area": null,
            "grid_template_columns": null,
            "flex": null,
            "_model_name": "LayoutModel",
            "justify_items": null,
            "grid_row": null,
            "max_height": null,
            "align_content": null,
            "visibility": null,
            "align_self": null,
            "height": null,
            "min_height": null,
            "padding": null,
            "grid_auto_rows": null,
            "grid_gap": null,
            "max_width": null,
            "order": null,
            "_view_module_version": "1.2.0",
            "grid_template_areas": null,
            "object_position": null,
            "object_fit": null,
            "grid_auto_columns": null,
            "margin": null,
            "display": null,
            "left": null
          }
        },
        "afa7d76b6575499688a7a2af9b3371c6": {
          "model_module": "@jupyter-widgets/controls",
          "model_name": "SliderStyleModel",
          "model_module_version": "1.5.0",
          "state": {
            "_view_name": "StyleView",
            "handle_color": null,
            "_model_name": "SliderStyleModel",
            "description_width": "",
            "_view_module": "@jupyter-widgets/base",
            "_model_module_version": "1.5.0",
            "_view_count": null,
            "_view_module_version": "1.2.0",
            "_model_module": "@jupyter-widgets/controls"
          }
        },
        "3b7a10431ac444dea7f22264e8e640f1": {
          "model_module": "@jupyter-widgets/base",
          "model_name": "LayoutModel",
          "model_module_version": "1.2.0",
          "state": {
            "_view_name": "LayoutView",
            "grid_template_rows": null,
            "right": null,
            "justify_content": null,
            "_view_module": "@jupyter-widgets/base",
            "overflow": null,
            "_model_module_version": "1.2.0",
            "_view_count": null,
            "flex_flow": null,
            "width": null,
            "min_width": null,
            "border": null,
            "align_items": null,
            "bottom": null,
            "_model_module": "@jupyter-widgets/base",
            "top": null,
            "grid_column": null,
            "overflow_y": null,
            "overflow_x": null,
            "grid_auto_flow": null,
            "grid_area": null,
            "grid_template_columns": null,
            "flex": null,
            "_model_name": "LayoutModel",
            "justify_items": null,
            "grid_row": null,
            "max_height": null,
            "align_content": null,
            "visibility": null,
            "align_self": null,
            "height": null,
            "min_height": null,
            "padding": null,
            "grid_auto_rows": null,
            "grid_gap": null,
            "max_width": null,
            "order": null,
            "_view_module_version": "1.2.0",
            "grid_template_areas": null,
            "object_position": null,
            "object_fit": null,
            "grid_auto_columns": null,
            "margin": null,
            "display": null,
            "left": null
          }
        },
        "f3cef45c758c495b80b152a93e2ffe65": {
          "model_module": "@jupyter-widgets/base",
          "model_name": "LayoutModel",
          "model_module_version": "1.2.0",
          "state": {
            "_view_name": "LayoutView",
            "grid_template_rows": null,
            "right": null,
            "justify_content": null,
            "_view_module": "@jupyter-widgets/base",
            "overflow": null,
            "_model_module_version": "1.2.0",
            "_view_count": null,
            "flex_flow": null,
            "width": null,
            "min_width": null,
            "border": null,
            "align_items": null,
            "bottom": null,
            "_model_module": "@jupyter-widgets/base",
            "top": null,
            "grid_column": null,
            "overflow_y": null,
            "overflow_x": null,
            "grid_auto_flow": null,
            "grid_area": null,
            "grid_template_columns": null,
            "flex": null,
            "_model_name": "LayoutModel",
            "justify_items": null,
            "grid_row": null,
            "max_height": null,
            "align_content": null,
            "visibility": null,
            "align_self": null,
            "height": null,
            "min_height": null,
            "padding": null,
            "grid_auto_rows": null,
            "grid_gap": null,
            "max_width": null,
            "order": null,
            "_view_module_version": "1.2.0",
            "grid_template_areas": null,
            "object_position": null,
            "object_fit": null,
            "grid_auto_columns": null,
            "margin": null,
            "display": null,
            "left": null
          }
        }
      }
    }
  },
  "cells": [
    {
      "cell_type": "markdown",
      "metadata": {
        "id": "view-in-github",
        "colab_type": "text"
      },
      "source": [
        "<a href=\"https://colab.research.google.com/github/UttaraKet1607/Malarial-Cell-Image-Segmentation/blob/main/Segmentation_hist_itk.ipynb\" target=\"_parent\"><img src=\"https://colab.research.google.com/assets/colab-badge.svg\" alt=\"Open In Colab\"/></a>"
      ]
    },
    {
      "cell_type": "markdown",
      "source": [
        "# Comparative study of segmentation of malarial cell images using multiple pathways"
      ],
      "metadata": {
        "id": "suIURX-z5qIZ"
      }
    },
    {
      "cell_type": "markdown",
      "source": [
        "### 1. Download the dataset from kaggle using colab commands or directly from [kaggle datasets](https://www.kaggle.com/iarunava/cell-images-for-detecting-malaria)"
      ],
      "metadata": {
        "id": "-yJFBFhI5JkE"
      }
    },
    {
      "cell_type": "code",
      "execution_count": 1,
      "metadata": {
        "id": "IHbzVgg-f7oe"
      },
      "outputs": [],
      "source": [
        "! pip install kaggle\n",
        "! mkdir ~/.kaggle\n",
        "! cp kaggle.json ~/.kaggle/\n",
        "! chmod 600 ~/.kaggle/kaggle.json"
      ]
    },
    {
      "cell_type": "code",
      "source": [
        "! kaggle datasets download iarunava/cell-images-for-detecting-malaria\n",
        "! unzip cell-images-for-detecting-malaria.zip"
      ],
      "metadata": {
        "id": "5n_xKi7pgfaW"
      },
      "execution_count": null,
      "outputs": []
    },
    {
      "cell_type": "markdown",
      "source": [
        "### 2. Import required libraries or modules"
      ],
      "metadata": {
        "id": "kwQZbmjj5KO3"
      }
    },
    {
      "cell_type": "code",
      "source": [
        "import numpy as np # linear algebra\n",
        "import pandas as pd # data processing, CSV file I/O (e.g. pd.read_csv)\n",
        "import os\n",
        "print(os.listdir(\"/content/cell_images\"))"
      ],
      "metadata": {
        "colab": {
          "base_uri": "https://localhost:8080/"
        },
        "id": "GhbXqdkygygq",
        "outputId": "81fafb5f-6315-4a12-9625-099b1d6465f1"
      },
      "execution_count": 85,
      "outputs": [
        {
          "output_type": "stream",
          "name": "stdout",
          "text": [
            "['Uninfected_segmented', 'Parasitized_segmented', 'Parasitized', 'cell_images', 'Uninfected']\n"
          ]
        }
      ]
    },
    {
      "cell_type": "code",
      "source": [
        "import cv2\n",
        "import matplotlib.pyplot as plt \n",
        "import seaborn as sns\n",
        "import os\n",
        "from PIL import Image\n",
        "from keras.preprocessing.image import img_to_array\n",
        "from keras.preprocessing.image import load_img\n",
        "from keras.utils import np_utils"
      ],
      "metadata": {
        "id": "dn_8XxfghM68"
      },
      "execution_count": 86,
      "outputs": []
    },
    {
      "cell_type": "markdown",
      "source": [
        "### 3. Understand the data"
      ],
      "metadata": {
        "id": "pDHco-1z5LEm"
      }
    },
    {
      "cell_type": "markdown",
      "source": [
        "#### 3.1 Visualize a few samples of the data"
      ],
      "metadata": {
        "id": "XlRJE6LM5dK-"
      }
    },
    {
      "cell_type": "code",
      "source": [
        "parasitized_data = os.listdir('/content/cell_images/Parasitized')\n",
        "print(parasitized_data[:10]) #the output we get are the .png files\n",
        "\n",
        "uninfected_data = os.listdir('/content/cell_images/Uninfected/')\n",
        "print('\\n')\n",
        "print(uninfected_data[:10])"
      ],
      "metadata": {
        "colab": {
          "base_uri": "https://localhost:8080/"
        },
        "id": "hsZ5a-uMhOq1",
        "outputId": "19bc49ec-2c23-4008-9372-e81a36bed18a"
      },
      "execution_count": 87,
      "outputs": [
        {
          "output_type": "stream",
          "name": "stdout",
          "text": [
            "['C33P1thinF_IMG_20150619_121503a_cell_158.png', 'C139P100ThinF_IMG_20151005_182410_cell_173.png', 'C70P31_ThinF_IMG_20150819_142744_cell_99.png', 'C167P128ReThinF_IMG_20151201_105354_cell_248.png', 'C129P90ThinF_IMG_20151004_134944_cell_19.png', 'C166P127ThinF_IMG_20151117_193931_cell_210.png', 'C91P52ThinF_IMG_20150821_124739_cell_181.png', 'C167P128ReThinF_IMG_20151201_105102_cell_247.png', 'C168P129ThinF_IMG_20151118_161940_cell_156.png', 'C182P143NThinF_IMG_20151201_171950_cell_157.png']\n",
            "\n",
            "\n",
            "['C161P122ThinF_IMG_20151116_101210_cell_119.png', 'C136P97ThinF_IMG_20151005_143329_cell_26.png', 'C170P131ThinF_IMG_20151119_120111_cell_160.png', 'C93P54ThinF_IMG_20150821_162901_cell_144.png', 'C117P78ThinF_IMG_20150930_221927_cell_28.png', 'C56P17thinF_IMG_20150728_160256_cell_59.png', 'C99P60ThinF_IMG_20150918_140900_cell_91.png', 'C7NthinF_IMG_20150611_104824_cell_145.png', 'C230ThinF_IMG_20151112_150621_cell_142.png', 'C236ThinF_IMG_20151127_102546_cell_199.png']\n"
          ]
        }
      ]
    },
    {
      "cell_type": "code",
      "source": [
        "len(parasitized_data), len(uninfected_data)"
      ],
      "metadata": {
        "colab": {
          "base_uri": "https://localhost:8080/"
        },
        "id": "x9VydlwO7INd",
        "outputId": "dd9f6876-3612-48f8-ff45-71c3240904c5"
      },
      "execution_count": 88,
      "outputs": [
        {
          "output_type": "execute_result",
          "data": {
            "text/plain": [
              "(13780, 13780)"
            ]
          },
          "metadata": {},
          "execution_count": 88
        }
      ]
    },
    {
      "cell_type": "code",
      "source": [
        "plt.figure(figsize = (12,12))\n",
        "for i in range(4):\n",
        "    plt.subplot(1, 4, i+1)\n",
        "    img = cv2.imread('/content/cell_images/Parasitized' + \"/\" + parasitized_data[i])\n",
        "    plt.imshow(img)\n",
        "    plt.title('PARASITIZED : 1')\n",
        "    plt.tight_layout()\n",
        "plt.show()"
      ],
      "metadata": {
        "colab": {
          "base_uri": "https://localhost:8080/",
          "height": 228
        },
        "id": "SBcGUpgOhYKo",
        "outputId": "6c835a50-d563-48c0-8e3a-185a760af602"
      },
      "execution_count": 89,
      "outputs": [
        {
          "output_type": "display_data",
          "data": {
            "image/png": "[encoded data removed]",
            "text/plain": [
              "<Figure size 864x864 with 4 Axes>"
            ]
          },
          "metadata": {
            "needs_background": "light"
          }
        }
      ]
    },
    {
      "cell_type": "markdown",
      "source": [
        "#### 3.2 Resize all images and save image data as numpy array along with labels [0,1] "
      ],
      "metadata": {
        "id": "l2ned3VE5bzy"
      }
    },
    {
      "cell_type": "code",
      "source": [
        "data = []\n",
        "labels = []\n",
        "for img in parasitized_data:\n",
        "    try:\n",
        "        img_read = plt.imread('/content/cell_images/Parasitized' + \"/\" + img)\n",
        "        img_resize = cv2.resize(img_read, (50, 50))\n",
        "        img_array = img_to_array(img_resize)\n",
        "        data.append(img_array)\n",
        "        labels.append(1)\n",
        "    except:\n",
        "        None\n",
        "        \n",
        "for img in uninfected_data:\n",
        "    try:\n",
        "        img_read = plt.imread('/content/cell_images/Uninfected' + \"/\" + img)\n",
        "        img_resize = cv2.resize(img_read, (50, 50))\n",
        "        img_array = img_to_array(img_resize)\n",
        "        data.append(img_array)\n",
        "        labels.append(0)\n",
        "    except:\n",
        "        None"
      ],
      "metadata": {
        "id": "JrwNhE0uhbg9"
      },
      "execution_count": 90,
      "outputs": []
    },
    {
      "cell_type": "code",
      "source": [
        "plt.imshow(data[0])\n",
        "plt.show()"
      ],
      "metadata": {
        "colab": {
          "base_uri": "https://localhost:8080/",
          "height": 267
        },
        "id": "xpINiGsDiwzp",
        "outputId": "3123ead3-5b60-4a23-ecc3-57fcab9cc3ad"
      },
      "execution_count": 91,
      "outputs": [
        {
          "output_type": "display_data",
          "data": {
            "image/png": "[encoded data removed]",
            "text/plain": [
              "<Figure size 432x288 with 1 Axes>"
            ]
          },
          "metadata": {
            "needs_background": "light"
          }
        }
      ]
    },
    {
      "cell_type": "code",
      "source": [
        "image_data = np.array(data)\n",
        "labels = np.array(labels)"
      ],
      "metadata": {
        "id": "TLjrM7zjjQ3x"
      },
      "execution_count": 92,
      "outputs": []
    },
    {
      "cell_type": "code",
      "source": [
        "idx = np.arange(image_data.shape[0])\n",
        "image_data = image_data[idx]\n",
        "labels = labels[idx]"
      ],
      "metadata": {
        "id": "RiyB09m1jUmZ"
      },
      "execution_count": 93,
      "outputs": []
    },
    {
      "cell_type": "code",
      "source": [
        "image_data.shape, labels.shape"
      ],
      "metadata": {
        "colab": {
          "base_uri": "https://localhost:8080/"
        },
        "id": "ET2pUfQajXsm",
        "outputId": "518c6f82-4c04-4d19-f9d8-346c6316a684"
      },
      "execution_count": 94,
      "outputs": [
        {
          "output_type": "execute_result",
          "data": {
            "text/plain": [
              "((27558, 50, 50, 3), (27558,))"
            ]
          },
          "metadata": {},
          "execution_count": 94
        }
      ]
    },
    {
      "cell_type": "markdown",
      "source": [
        "### 4. Image segmentation (Parasitized)"
      ],
      "metadata": {
        "id": "ZPA-eEx55atu"
      }
    },
    {
      "cell_type": "markdown",
      "source": [
        "#### 4.1 Implement traditional segmentation technique (using thresholding) on a single image "
      ],
      "metadata": {
        "id": "GD2eSacV5Z4v"
      }
    },
    {
      "cell_type": "code",
      "source": [
        "imgpath1 =  \"/content/cell_images/Parasitized/C100P61ThinF_IMG_20150918_144104_cell_162.png\"\n",
        "img = cv2.imread(imgpath1, 0)\n",
        "th = 0\n",
        "max_val = 255\n",
        "    \n",
        "ret, o1 = cv2.threshold(img, th, max_val, cv2.THRESH_BINARY + cv2.THRESH_OTSU )\n",
        "ret, o2 = cv2.threshold(img, th, max_val, cv2.THRESH_BINARY_INV + cv2.THRESH_OTSU )\n",
        "ret, o3 = cv2.threshold(img, th, max_val, cv2.THRESH_TOZERO + cv2.THRESH_OTSU )\n",
        "ret, o4 = cv2.threshold(img, th, max_val, cv2.THRESH_TOZERO_INV + cv2.THRESH_OTSU )\n",
        "ret, o5 = cv2.threshold(img, th, max_val, cv2.THRESH_TRUNC + cv2.THRESH_OTSU )\n",
        "    \n",
        "output = [img, o1, o2, o3, o4, o5]\n",
        "    \n",
        "titles = ['Original', 'Binary', 'Binary Inv',\n",
        "              'Zero', 'Zero Inv', 'Trunc']\n",
        "    \n",
        "for i in range(6):\n",
        "        plt.subplot(2, 3, i+1)\n",
        "        plt.imshow(output[i], cmap='gray')\n",
        "        plt.title(titles[i])\n",
        "        plt.xticks([])\n",
        "        plt.yticks([])\n",
        "\n",
        "plt.show()"
      ],
      "metadata": {
        "colab": {
          "base_uri": "https://localhost:8080/",
          "height": 268
        },
        "id": "WtqjTijb67ok",
        "outputId": "28b32c9f-c5c2-4942-dac5-9541629203a8"
      },
      "execution_count": 95,
      "outputs": [
        {
          "output_type": "display_data",
          "data": {
            "image/png": "[encoded data removed]",
            "text/plain": [
              "<Figure size 432x288 with 6 Axes>"
            ]
          },
          "metadata": {}
        }
      ]
    },
    {
      "cell_type": "markdown",
      "source": [
        "#### 4.2 Implement traditional image segmentation on multiple images and generate a segmented mask "
      ],
      "metadata": {
        "id": "hpoA0O0h5fV-"
      }
    },
    {
      "cell_type": "code",
      "source": [
        "!pip install itk\n",
        "!pip install itkwidgets"
      ],
      "metadata": {
        "id": "_kXt6regltQz"
      },
      "execution_count": null,
      "outputs": []
    },
    {
      "cell_type": "code",
      "source": [
        "import nibabel as nib\n",
        "import itk\n",
        "import itkwidgets\n",
        "from ipywidgets import interact, interactive, IntSlider, ToggleButtons"
      ],
      "metadata": {
        "id": "fdg-JHG6ltOA"
      },
      "execution_count": 97,
      "outputs": []
    },
    {
      "cell_type": "code",
      "source": [
        "def histo(layer):\n",
        "  histogram, bin_edges = np.histogram(image_data[layer], bins=256, range=(0, 1))\n",
        "  plt.title(\"Grayscale Histogram\")\n",
        "  plt.xlabel(\"grayscale value\")\n",
        "  plt.ylabel(\"pixel count\")\n",
        "  plt.plot(bin_edges[0:-1], histogram)  # <- or here"
      ],
      "metadata": {
        "id": "J0dB3Zj25Sgc"
      },
      "execution_count": 106,
      "outputs": []
    },
    {
      "cell_type": "markdown",
      "source": [
        "##### 4.2.1 Segmentation mask using `cv2.THRESH_TOZERO_INV+cv2.THRESH_OTSU`"
      ],
      "metadata": {
        "id": "g7U1VZB7_eUV"
      }
    },
    {
      "cell_type": "code",
      "source": [
        "def zero_inv_otsu(layer):\n",
        "  plt.figure(figsize = (10,10))\n",
        "  plt.subplot(4,4,1)\n",
        "  image1 = cv2.imread('/content/cell_images/Parasitized' + \"/\" + parasitized_data[layer])\n",
        "  plt.imshow(image1, cmap='gray')\n",
        "  plt.title('original image')\n",
        "  image = cv2.imread('/content/cell_images/Parasitized' + \"/\" + parasitized_data[layer],0)\n",
        "  plt.subplot(4,4,2)\n",
        "  plt.imshow(image, cmap='gray')\n",
        "  plt.title('gray scale')\n",
        "  plt.tight_layout()\n",
        "  plt.subplot(4,4,3)\n",
        "  histo(layer)\n",
        "  kernel = np.array([[-1,-1,-1], [-1,9,-1], [-1,-1,-1]])\n",
        "  img = cv2.filter2D(image, ddepth=-1, kernel=kernel)\n",
        "  ret, thresh = cv2.threshold(img,0,255,cv2.THRESH_TOZERO_INV+cv2.THRESH_OTSU)\n",
        "  output1 = cv2.bitwise_and(image1, image1, mask = thresh)\n",
        "  plt.subplot(4,4,4)\n",
        "  plt.imshow(output1, cmap='gray')\n",
        "  plt.title('zero-inv + otsu')"
      ],
      "metadata": {
        "id": "0TzPdgqWo3cg"
      },
      "execution_count": 107,
      "outputs": []
    },
    {
      "cell_type": "markdown",
      "source": [
        "##### 4.2.2 Segmentation mask using watershed algorithm on top of `cv2.THRESH_TOZERO_INV+cv2.THRESH_OTSU`"
      ],
      "metadata": {
        "id": "G9GDYItG_mE0"
      }
    },
    {
      "cell_type": "code",
      "source": [
        "def watershed(layer):\n",
        "  plt.figure(figsize = (10,10))\n",
        "  plt.subplot(4,4,1)\n",
        "  image1 = cv2.imread('/content/cell_images/Parasitized' + \"/\" + parasitized_data[layer])\n",
        "  plt.imshow(image1, cmap='gray')\n",
        "  plt.title('original image')\n",
        "  image = cv2.imread('/content/cell_images/Parasitized' + \"/\" + parasitized_data[layer],0)\n",
        "  plt.subplot(4,4,2)\n",
        "  plt.imshow(image, cmap='gray')\n",
        "  plt.title('gray scale')\n",
        "  plt.tight_layout()\n",
        "  plt.subplot(4,4,3)\n",
        "  histo(layer)\n",
        "  kernel = np.array([[-1,-1,-1], [-1,9,-1], [-1,-1,-1]])\n",
        "  img = cv2.filter2D(image, ddepth=-1, kernel=kernel)\n",
        "  ret, thresh = cv2.threshold(img,0,255,cv2.THRESH_TOZERO_INV+cv2.THRESH_OTSU)\n",
        "  # noise removal\n",
        "  kernel = np.ones((3,3),np.uint8)\n",
        "  #opening = cv2.morphologyEx(thresh,cv2.MORPH_OPEN,kernel, iterations = 2)\n",
        "  closing = cv2.morphologyEx(thresh,cv2.MORPH_CLOSE,kernel, iterations = 2)\n",
        "  # sure background area\n",
        "  sure_bg = cv2.dilate(closing,kernel,iterations=4)\n",
        "  output1 = cv2.bitwise_and(image1, image1, mask = sure_bg)\n",
        "  medianBlur = cv2.medianBlur(output1, 3)\n",
        "  plt.subplot(4,4,4)\n",
        "  plt.imshow(medianBlur, cmap='gray')\n",
        "  plt.title('watershed')\n",
        "  plt.tight_layout()\n",
        "  "
      ],
      "metadata": {
        "id": "E_E9en1Z1_TO"
      },
      "execution_count": 108,
      "outputs": []
    },
    {
      "cell_type": "markdown",
      "source": [
        "##### 4.2.3 Segmentation using k-means algorithm"
      ],
      "metadata": {
        "id": "MGOVcJ19Fl9g"
      }
    },
    {
      "cell_type": "code",
      "source": [
        "def k_means(layer):\n",
        "  plt.figure(figsize = (10,10))\n",
        "  plt.subplot(4,4,1)\n",
        "  image1 = cv2.imread('/content/cell_images/Parasitized' + \"/\" + parasitized_data[layer])\n",
        "  plt.imshow(image1, cmap='gray')\n",
        "  plt.title('original image')\n",
        "  image = cv2.imread('/content/cell_images/Parasitized' + \"/\" + parasitized_data[layer],0)\n",
        "  plt.subplot(4,4,2)\n",
        "  plt.imshow(image, cmap='gray')\n",
        "  plt.title('gray scale')\n",
        "  plt.tight_layout()\n",
        "  plt.subplot(4,4,3)\n",
        "  histo(layer)\n",
        "  image1 = cv2.cvtColor(image1, cv2.COLOR_BGR2RGB)\n",
        "  # Reshaping the image into a 2D array of pixels and 3 color values (RGB)\n",
        "  pixel_vals = image1.reshape((-1,3))\n",
        "  # Convert to float type\n",
        "  pixel_vals = np.float32(pixel_vals)   \n",
        "  #the below line of code defines the criteria for the algorithm to stop running, which will happen is 100 iterations are run or the epsilon (which is the required accuracy) becomes 85%\n",
        "  criteria = (cv2.TERM_CRITERIA_EPS + cv2.TERM_CRITERIA_MAX_ITER, 100, 0.95)\n",
        "  k = 3\n",
        "  retval, labels, centers = cv2.kmeans(pixel_vals, k, None, criteria, 10, cv2.KMEANS_RANDOM_CENTERS)\n",
        "  # convert data into 8-bit values\n",
        "  centers = np.uint8(centers)\n",
        "  segmented_data = centers[labels.flatten()]\n",
        "  # reshape data into the original image dimensions\n",
        "  segmented_image = segmented_data.reshape((image1.shape))\n",
        "  plt.subplot(4,4,4)  \n",
        "  plt.imshow(segmented_image, cmap='gray')\n",
        "  plt.title('k-means')\n",
        "  plt.tight_layout()\n"
      ],
      "metadata": {
        "id": "D-Ebp_ym1_JN"
      },
      "execution_count": 121,
      "outputs": []
    },
    {
      "cell_type": "markdown",
      "source": [
        "##### 4.2.4 Segmentation using Adaptive thresholding"
      ],
      "metadata": {
        "id": "OnZXv3L0Z4Fs"
      }
    },
    {
      "cell_type": "code",
      "source": [
        "def adaptive_t(layer):\n",
        "  plt.figure(figsize = (10,10))\n",
        "  plt.subplot(4,4,1)\n",
        "  image1 = cv2.imread('/content/cell_images/Parasitized' + \"/\" + parasitized_data[layer])\n",
        "  plt.imshow(image1, cmap='gray')\n",
        "  plt.title('original image')\n",
        "  image = cv2.imread('/content/cell_images/Parasitized' + \"/\" + parasitized_data[layer],0)\n",
        "  plt.subplot(4,4,2)\n",
        "  plt.imshow(image, cmap='gray')\n",
        "  plt.title('gray scale')\n",
        "  plt.tight_layout()\n",
        "  plt.subplot(4,4,3)\n",
        "  histo(layer)\n",
        "  gray = cv2.cvtColor(image1, cv2.COLOR_BGR2GRAY)\n",
        "  blurred = cv2.GaussianBlur(gray, (7, 7), 0)\n",
        "  thresh = cv2.adaptiveThreshold(blurred, 255,cv2.ADAPTIVE_THRESH_MEAN_C, cv2.THRESH_BINARY_INV, 17,10)\n",
        "  output1 = cv2.bitwise_and(image1, image1, mask = thresh)\n",
        "  plt.subplot(4,4,4)\n",
        "  plt.imshow(output1, cmap='gray')\n",
        "  plt.title('adaptive thresh')\n",
        "  plt.tight_layout() "
      ],
      "metadata": {
        "id": "3G6TjQUq1_B6"
      },
      "execution_count": 110,
      "outputs": []
    },
    {
      "cell_type": "code",
      "source": [
        "# Create button values\n",
        "select_class = ToggleButtons(\n",
        "    options=['zero-inv + otsu','watershed', 'k-means', 'adaptive thresh'],\n",
        "    description='Select Class:',\n",
        "    disabled=False,\n",
        "    button_style='info', \n",
        ")\n",
        "# Create layer slider\n",
        "select_layer = IntSlider(min=0, max=len(parasitized_data)-1, description='Select Image Number', continuous_update=False)\n",
        "    \n",
        "# Define a function for plotting images\n",
        "def plot_image(seg_class, layer):\n",
        "    if seg_class == 'zero-inv + otsu':\n",
        "        zero_inv_otsu(layer)\n",
        "    elif seg_class == 'watershed':\n",
        "        watershed(layer)\n",
        "    elif seg_class == 'k-means': \n",
        "        k_means(layer)  \n",
        "    elif seg_class == 'adaptive thresh':  \n",
        "        adaptive_t(layer)\n",
        "# Use the interactive() tool to create the visualization\n",
        "interactive(plot_image, seg_class=select_class, layer=select_layer)"
      ],
      "metadata": {
        "id": "7gt8lAfxlI0Z",
        "outputId": "f55e9998-8283-472a-fd2d-d18a99d044cf",
        "colab": {
          "base_uri": "https://localhost:8080/",
          "height": 281,
          "referenced_widgets": [
            "9ecae517c6284d01bfa319b6c7fa418d",
            "e7b374caa3fd47fd851dd8ee4b707208",
            "10f1c8d67bc04bb5a2f3adcbfd7d754f",
            "71f6a332339c41f39be3845e806592e3",
            "38b9f3956e3d4fb689d7195990814095",
            "b11e23b77fbd419da8ad574594ee0ede",
            "f8b474ca66ad42caa71430464556378a",
            "afa7d76b6575499688a7a2af9b3371c6",
            "3b7a10431ac444dea7f22264e8e640f1",
            "f3cef45c758c495b80b152a93e2ffe65"
          ]
        }
      },
      "execution_count": 122,
      "outputs": [
        {
          "output_type": "display_data",
          "data": {
            "application/vnd.jupyter.widget-view+json": {
              "model_id": "9ecae517c6284d01bfa319b6c7fa418d",
              "version_minor": 0,
              "version_major": 2
            },
            "text/plain": [
              "interactive(children=(ToggleButtons(button_style='info', description='Select Class:', options=('zero-inv + ots…"
            ]
          },
          "metadata": {}
        }
      ]
    },
    {
      "cell_type": "markdown",
      "source": [
        "### 5. Generate segmented data for all image samples in the dataset"
      ],
      "metadata": {
        "id": "JppgS4aJ5g4Q"
      }
    },
    {
      "cell_type": "markdown",
      "source": [
        "#### 5.1 Watershed algorithm on top of `cv2.THRESH_TOZERO_INV+cv2.THRESH_OTSU`"
      ],
      "metadata": {
        "id": "_F5tGEsq5hoL"
      }
    },
    {
      "cell_type": "code",
      "source": [
        "import os \n",
        "infected_dir = \"/content/cell_images/Parasitized_segmented\"\n",
        "os.mkdir(infected_dir) \n",
        "uninfected_dir = \"/content/cell_images/Uninfected_segmented\"\n",
        "os.mkdir(uninfected_dir) "
      ],
      "metadata": {
        "id": "kLysGfJKEb0I"
      },
      "execution_count": 69,
      "outputs": []
    },
    {
      "cell_type": "code",
      "source": [
        "for images in parasitized_data:\n",
        "  try:\n",
        "    image1 = cv2.imread('/content/cell_images/Parasitized' + \"/\" + images)\n",
        "    image = cv2.imread('/content/cell_images/Parasitized' + \"/\" + images,0)\n",
        "    kernel = np.array([[-1,-1,-1], [-1,9,-1], [-1,-1,-1]])\n",
        "    img = cv2.filter2D(image, ddepth=-1, kernel=kernel)\n",
        "    ret, thresh = cv2.threshold(img,0,255,cv2.THRESH_TOZERO_INV+cv2.THRESH_OTSU)\n",
        "    # noise removal\n",
        "    kernel = np.ones((3,3),np.uint8)\n",
        "    #opening = cv2.morphologyEx(thresh,cv2.MORPH_OPEN,kernel, iterations = 2)\n",
        "    closing = cv2.morphologyEx(thresh,cv2.MORPH_CLOSE,kernel, iterations = 2)\n",
        "    # sure background area\n",
        "    sure_bg = cv2.dilate(closing,kernel,iterations=4)\n",
        "    output1 = cv2.bitwise_and(image1, image1, mask = sure_bg)\n",
        "    isWritten = cv2.imwrite('/content/cell_images/Parasitized_segmented' + \"/\" + images, output1)        \n",
        "    if isWritten:\n",
        "\t        print('Image is successfully saved as file.')\n",
        "  except:\n",
        "    None"
      ],
      "metadata": {
        "id": "-ya_LF4LEbg_"
      },
      "execution_count": null,
      "outputs": []
    },
    {
      "cell_type": "code",
      "source": [
        "for images in uninfected_data:\n",
        "  try:\n",
        "    image1 = cv2.imread('/content/cell_images/Uninfected' + \"/\" + images)\n",
        "    image = cv2.imread('/content/cell_images/Uninfected' + \"/\" + images,0)\n",
        "    kernel = np.array([[-1,-1,-1], [-1,9,-1], [-1,-1,-1]])\n",
        "    img = cv2.filter2D(image, ddepth=-1, kernel=kernel)\n",
        "    ret, thresh = cv2.threshold(img,0,255,cv2.THRESH_TOZERO_INV+cv2.THRESH_OTSU)\n",
        "    # noise removal\n",
        "    kernel = np.ones((3,3),np.uint8)\n",
        "    #opening = cv2.morphologyEx(thresh,cv2.MORPH_OPEN,kernel, iterations = 2)\n",
        "    closing = cv2.morphologyEx(thresh,cv2.MORPH_CLOSE,kernel, iterations = 2)\n",
        "    # sure background area\n",
        "    sure_bg = cv2.dilate(closing,kernel,iterations=4)\n",
        "    output1 = cv2.bitwise_and(image1, image1, mask = sure_bg)\n",
        "    isWritten = cv2.imwrite('/content/cell_images/Uninfected_segmented' + \"/\" + images, output1)        \n",
        "    if isWritten:\n",
        "\t        print('Image is successfully saved as file.')\n",
        "  except:\n",
        "    None"
      ],
      "metadata": {
        "id": "0WMUlwFcLYWX"
      },
      "execution_count": null,
      "outputs": []
    },
    {
      "cell_type": "code",
      "source": [
        "#!zip -r /content/cell_images.zip /content/cell_images/"
      ],
      "metadata": {
        "id": "-UQA2G2wMTXR"
      },
      "execution_count": 72,
      "outputs": []
    },
    {
      "cell_type": "markdown",
      "source": [
        "#### 5.2 Cross check if all image files are saved successfully "
      ],
      "metadata": {
        "id": "oGx_DEyOLUJA"
      }
    },
    {
      "cell_type": "code",
      "source": [
        "import os\n",
        "\n",
        "list = os.listdir('/content/cell_images/Parasitized') # dir is your directory path\n",
        "number_files = len(list)\n",
        "list = os.listdir('/content/cell_images/Parasitized_segmented') # dir is your directory path\n",
        "number_files = len(list)\n",
        "print(number_files)\n",
        "print(len(parasitized_data))"
      ],
      "metadata": {
        "colab": {
          "base_uri": "https://localhost:8080/"
        },
        "id": "OcawW6DRK12f",
        "outputId": "5df81ebb-ab56-4857-a32b-095b6a99c8ee"
      },
      "execution_count": 73,
      "outputs": [
        {
          "output_type": "stream",
          "name": "stdout",
          "text": [
            "13779\n",
            "13780\n"
          ]
        }
      ]
    },
    {
      "cell_type": "code",
      "source": [
        "list = os.listdir('/content/cell_images/Uninfected') # dir is your directory path\n",
        "number_files = len(list)\n",
        "list = os.listdir('/content/cell_images/Uninfected_segmented') # dir is your directory path\n",
        "number_files = len(list)\n",
        "print(number_files)\n",
        "print(len(uninfected_data))"
      ],
      "metadata": {
        "outputId": "9ef9d515-c939-407c-8667-a72717517de8",
        "colab": {
          "base_uri": "https://localhost:8080/"
        },
        "id": "JZoGiiU_Lw34"
      },
      "execution_count": 74,
      "outputs": [
        {
          "output_type": "stream",
          "name": "stdout",
          "text": [
            "13779\n",
            "13780\n"
          ]
        }
      ]
    },
    {
      "cell_type": "code",
      "source": [
        "seg_parasitized_data = os.listdir('/content/cell_images/Parasitized_segmented')\n",
        "print(seg_parasitized_data[:10]) #the output we get are the .png files\n",
        "\n",
        "seg_uninfected_data = os.listdir('/content/cell_images/Uninfected_segmented/')\n",
        "print('\\n')\n",
        "print(seg_uninfected_data[:10])"
      ],
      "metadata": {
        "id": "O6-A80q-c2EC",
        "outputId": "7c5d2bdb-361a-44dd-9f03-d893349969ad",
        "colab": {
          "base_uri": "https://localhost:8080/"
        }
      },
      "execution_count": 75,
      "outputs": [
        {
          "output_type": "stream",
          "name": "stdout",
          "text": [
            "['C33P1thinF_IMG_20150619_121503a_cell_158.png', 'C139P100ThinF_IMG_20151005_182410_cell_173.png', 'C70P31_ThinF_IMG_20150819_142744_cell_99.png', 'C167P128ReThinF_IMG_20151201_105354_cell_248.png', 'C129P90ThinF_IMG_20151004_134944_cell_19.png', 'C166P127ThinF_IMG_20151117_193931_cell_210.png', 'C91P52ThinF_IMG_20150821_124739_cell_181.png', 'C167P128ReThinF_IMG_20151201_105102_cell_247.png', 'C168P129ThinF_IMG_20151118_161940_cell_156.png', 'C182P143NThinF_IMG_20151201_171950_cell_157.png']\n",
            "\n",
            "\n",
            "['C161P122ThinF_IMG_20151116_101210_cell_119.png', 'C136P97ThinF_IMG_20151005_143329_cell_26.png', 'C170P131ThinF_IMG_20151119_120111_cell_160.png', 'C93P54ThinF_IMG_20150821_162901_cell_144.png', 'C117P78ThinF_IMG_20150930_221927_cell_28.png', 'C56P17thinF_IMG_20150728_160256_cell_59.png', 'C99P60ThinF_IMG_20150918_140900_cell_91.png', 'C7NthinF_IMG_20150611_104824_cell_145.png', 'C230ThinF_IMG_20151112_150621_cell_142.png', 'C236ThinF_IMG_20151127_102546_cell_199.png']\n"
          ]
        }
      ]
    },
    {
      "cell_type": "code",
      "source": [
        "data = []\n",
        "labels = []\n",
        "for img in seg_parasitized_data:\n",
        "    try:\n",
        "        img_read = plt.imread('/content/cell_images/Parasitized_segmented' + \"/\" + img)\n",
        "        img_resize = cv2.resize(img_read, (50, 50))\n",
        "        img_array = img_to_array(img_resize)\n",
        "        data.append(img_array)\n",
        "        labels.append(1)\n",
        "    except:\n",
        "        None\n",
        "        \n",
        "for img in seg_uninfected_data:\n",
        "    try:\n",
        "        img_read = plt.imread('/content/cell_images/Uninfected_segmented' + \"/\" + img)\n",
        "        img_resize = cv2.resize(img_read, (50, 50))\n",
        "        img_array = img_to_array(img_resize)\n",
        "        data.append(img_array)\n",
        "        labels.append(0)\n",
        "    except:\n",
        "        None"
      ],
      "metadata": {
        "id": "JPqE4iwmcozN"
      },
      "execution_count": 76,
      "outputs": []
    },
    {
      "cell_type": "code",
      "source": [
        "image_data = np.array(data)\n",
        "labels = np.array(labels)"
      ],
      "metadata": {
        "id": "7mGyC6p2dBh3"
      },
      "execution_count": 77,
      "outputs": []
    },
    {
      "cell_type": "code",
      "source": [
        "idx = np.arange(image_data.shape[0])\n",
        "image_data = image_data[idx]\n",
        "labels = labels[idx]"
      ],
      "metadata": {
        "id": "7iAfQH_7dBfP"
      },
      "execution_count": 78,
      "outputs": []
    },
    {
      "cell_type": "code",
      "source": [
        "image_data.shape, labels.shape"
      ],
      "metadata": {
        "id": "3K-Mi_SkdHhk",
        "outputId": "aa738c8f-30b0-4a6c-96fb-917d1600561d",
        "colab": {
          "base_uri": "https://localhost:8080/"
        }
      },
      "execution_count": 79,
      "outputs": [
        {
          "output_type": "execute_result",
          "data": {
            "text/plain": [
              "((27558, 50, 50, 3), (27558,))"
            ]
          },
          "metadata": {},
          "execution_count": 79
        }
      ]
    },
    {
      "cell_type": "code",
      "source": [
        "percent_cell=[]\n",
        "for images in range(0,13779):\n",
        "  try:\n",
        "    image1 = image_data[images]\n",
        "    rows,cols,_ = image1.shape\n",
        "    sum = 0\n",
        "    print(image1.shape)\n",
        "    for i in range(rows):\n",
        "        for j in range(cols):\n",
        "          k = image1[i,j]\n",
        "          for u in k:\n",
        "                if u != 0: sum = sum + 1\n",
        "    percent_cell.append((sum/7500)*100) \n",
        "  except:\n",
        "    None"
      ],
      "metadata": {
        "id": "wxzn8lMKfPUI"
      },
      "execution_count": null,
      "outputs": []
    },
    {
      "cell_type": "code",
      "source": [
        "print(len(percent_cell), min(percent_cell), max(percent_cell))"
      ],
      "metadata": {
        "id": "hLSUBvUhg2ZC",
        "colab": {
          "base_uri": "https://localhost:8080/"
        },
        "outputId": "6b3a4023-c7c9-43e5-f7a8-6a0a1aa5c934"
      },
      "execution_count": 81,
      "outputs": [
        {
          "output_type": "stream",
          "name": "stdout",
          "text": [
            "13779 0.0 63.74666666666666\n"
          ]
        }
      ]
    },
    {
      "cell_type": "code",
      "source": [
        "plt.figure(figsize = (8,8))\n",
        "plt.hist(percent_cell, 50)\n",
        "plt.show()"
      ],
      "metadata": {
        "id": "BkqPPbadhkIS",
        "colab": {
          "base_uri": "https://localhost:8080/",
          "height": 483
        },
        "outputId": "33200d30-6825-4338-bcc8-238508a2a0df"
      },
      "execution_count": 82,
      "outputs": [
        {
          "output_type": "display_data",
          "data": {
            "image/png": "[encoded data removed]",
            "text/plain": [
              "<Figure size 576x576 with 1 Axes>"
            ]
          },
          "metadata": {
            "needs_background": "light"
          }
        }
      ]
    },
    {
      "cell_type": "code",
      "source": [
        ""
      ],
      "metadata": {
        "id": "tDWGB_YH7r0R"
      },
      "execution_count": null,
      "outputs": []
    }
  ]
}