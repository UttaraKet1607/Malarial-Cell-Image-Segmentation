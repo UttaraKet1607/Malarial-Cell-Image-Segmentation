{
  "nbformat": 4,
  "nbformat_minor": 0,
  "metadata": {
    "colab": {
      "name": "Segmentation.ipynb",
      "provenance": [],
      "collapsed_sections": [],
      "authorship_tag": "ABX9TyNBgo6T2X5NJGgoCeF3bUhC",
      "include_colab_link": true
    },
    "kernelspec": {
      "name": "python3",
      "display_name": "Python 3"
    },
    "language_info": {
      "name": "python"
    },
    "widgets": {
      "application/vnd.jupyter.widget-state+json": {
        "396dd40b465844fb890eb38a6ed1a971": {
          "model_module": "@jupyter-widgets/controls",
          "model_name": "VBoxModel",
          "model_module_version": "1.5.0",
          "state": {
            "_view_name": "VBoxView",
            "_dom_classes": [
              "widget-interact"
            ],
            "_model_name": "VBoxModel",
            "_view_module": "@jupyter-widgets/controls",
            "_model_module_version": "1.5.0",
            "_view_count": null,
            "_view_module_version": "1.5.0",
            "box_style": "",
            "layout": "IPY_MODEL_6a389754380e44b3a2177600404ac2d8",
            "_model_module": "@jupyter-widgets/controls",
            "children": [
              "IPY_MODEL_6f23aae1832a474e8de5198f0f5ff897",
              "IPY_MODEL_30f6f21e23d44131b7e9fa431d1b1640",
              "IPY_MODEL_150375d4a09840dfb72183b4e4fc65fa"
            ]
          }
        },
        "6a389754380e44b3a2177600404ac2d8": {
          "model_module": "@jupyter-widgets/base",
          "model_name": "LayoutModel",
          "model_module_version": "1.2.0",
          "state": {
            "_view_name": "LayoutView",
            "grid_template_rows": null,
            "right": null,
            "justify_content": null,
            "_view_module": "@jupyter-widgets/base",
            "overflow": null,
            "_model_module_version": "1.2.0",
            "_view_count": null,
            "flex_flow": null,
            "width": null,
            "min_width": null,
            "border": null,
            "align_items": null,
            "bottom": null,
            "_model_module": "@jupyter-widgets/base",
            "top": null,
            "grid_column": null,
            "overflow_y": null,
            "overflow_x": null,
            "grid_auto_flow": null,
            "grid_area": null,
            "grid_template_columns": null,
            "flex": null,
            "_model_name": "LayoutModel",
            "justify_items": null,
            "grid_row": null,
            "max_height": null,
            "align_content": null,
            "visibility": null,
            "align_self": null,
            "height": null,
            "min_height": null,
            "padding": null,
            "grid_auto_rows": null,
            "grid_gap": null,
            "max_width": null,
            "order": null,
            "_view_module_version": "1.2.0",
            "grid_template_areas": null,
            "object_position": null,
            "object_fit": null,
            "grid_auto_columns": null,
            "margin": null,
            "display": null,
            "left": null
          }
        },
        "6f23aae1832a474e8de5198f0f5ff897": {
          "model_module": "@jupyter-widgets/controls",
          "model_name": "ToggleButtonsModel",
          "model_module_version": "1.5.0",
          "state": {
            "_options_labels": [
              "zero-inv + otsu",
              "watershed",
              "k-means",
              "adaptive thresh"
            ],
            "_view_name": "ToggleButtonsView",
            "style": "IPY_MODEL_7f0c49172d874fff8f547bfbc9ac7329",
            "_dom_classes": [],
            "description": "Select Class:",
            "_model_name": "ToggleButtonsModel",
            "tooltips": [],
            "index": 0,
            "button_style": "info",
            "_view_module": "@jupyter-widgets/controls",
            "_model_module_version": "1.5.0",
            "_view_count": null,
            "disabled": false,
            "_view_module_version": "1.5.0",
            "icons": [],
            "description_tooltip": null,
            "_model_module": "@jupyter-widgets/controls",
            "layout": "IPY_MODEL_40dd5a4a871244ea8daf20abe78be848"
          }
        },
        "30f6f21e23d44131b7e9fa431d1b1640": {
          "model_module": "@jupyter-widgets/controls",
          "model_name": "IntSliderModel",
          "model_module_version": "1.5.0",
          "state": {
            "_view_name": "IntSliderView",
            "style": "IPY_MODEL_4d4c494045f4492f9916051b7c211b01",
            "_dom_classes": [],
            "description": "Select Image Number",
            "step": 1,
            "_model_name": "IntSliderModel",
            "orientation": "horizontal",
            "max": 13779,
            "_view_module": "@jupyter-widgets/controls",
            "_model_module_version": "1.5.0",
            "value": 2445,
            "_view_count": null,
            "disabled": false,
            "_view_module_version": "1.5.0",
            "min": 0,
            "continuous_update": false,
            "readout_format": "d",
            "description_tooltip": null,
            "readout": true,
            "_model_module": "@jupyter-widgets/controls",
            "layout": "IPY_MODEL_43e912275937466f803b3b73b81f2914"
          }
        },
        "150375d4a09840dfb72183b4e4fc65fa": {
          "model_module": "@jupyter-widgets/output",
          "model_name": "OutputModel",
          "model_module_version": "1.0.0",
          "state": {
            "_view_name": "OutputView",
            "msg_id": "",
            "_dom_classes": [],
            "_model_name": "OutputModel",
            "outputs": [
              {
                "output_type": "display_data",
                "data": {
                  "image/png": "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\n",
                  "text/plain": "<Figure size 576x576 with 3 Axes>"
                },
                "metadata": {
                  "needs_background": "light"
                }
              }
            ],
            "_view_module": "@jupyter-widgets/output",
            "_model_module_version": "1.0.0",
            "_view_count": null,
            "_view_module_version": "1.0.0",
            "layout": "IPY_MODEL_eb803d99ba7a4e32847fcb60d06b474d",
            "_model_module": "@jupyter-widgets/output"
          }
        },
        "7f0c49172d874fff8f547bfbc9ac7329": {
          "model_module": "@jupyter-widgets/controls",
          "model_name": "ToggleButtonsStyleModel",
          "model_module_version": "1.5.0",
          "state": {
            "_view_name": "StyleView",
            "button_width": "",
            "_model_name": "ToggleButtonsStyleModel",
            "description_width": "",
            "_view_module": "@jupyter-widgets/base",
            "_model_module_version": "1.5.0",
            "_view_count": null,
            "font_weight": "",
            "_view_module_version": "1.2.0",
            "_model_module": "@jupyter-widgets/controls"
          }
        },
        "40dd5a4a871244ea8daf20abe78be848": {
          "model_module": "@jupyter-widgets/base",
          "model_name": "LayoutModel",
          "model_module_version": "1.2.0",
          "state": {
            "_view_name": "LayoutView",
            "grid_template_rows": null,
            "right": null,
            "justify_content": null,
            "_view_module": "@jupyter-widgets/base",
            "overflow": null,
            "_model_module_version": "1.2.0",
            "_view_count": null,
            "flex_flow": null,
            "width": null,
            "min_width": null,
            "border": null,
            "align_items": null,
            "bottom": null,
            "_model_module": "@jupyter-widgets/base",
            "top": null,
            "grid_column": null,
            "overflow_y": null,
            "overflow_x": null,
            "grid_auto_flow": null,
            "grid_area": null,
            "grid_template_columns": null,
            "flex": null,
            "_model_name": "LayoutModel",
            "justify_items": null,
            "grid_row": null,
            "max_height": null,
            "align_content": null,
            "visibility": null,
            "align_self": null,
            "height": null,
            "min_height": null,
            "padding": null,
            "grid_auto_rows": null,
            "grid_gap": null,
            "max_width": null,
            "order": null,
            "_view_module_version": "1.2.0",
            "grid_template_areas": null,
            "object_position": null,
            "object_fit": null,
            "grid_auto_columns": null,
            "margin": null,
            "display": null,
            "left": null
          }
        },
        "4d4c494045f4492f9916051b7c211b01": {
          "model_module": "@jupyter-widgets/controls",
          "model_name": "SliderStyleModel",
          "model_module_version": "1.5.0",
          "state": {
            "_view_name": "StyleView",
            "handle_color": null,
            "_model_name": "SliderStyleModel",
            "description_width": "",
            "_view_module": "@jupyter-widgets/base",
            "_model_module_version": "1.5.0",
            "_view_count": null,
            "_view_module_version": "1.2.0",
            "_model_module": "@jupyter-widgets/controls"
          }
        },
        "43e912275937466f803b3b73b81f2914": {
          "model_module": "@jupyter-widgets/base",
          "model_name": "LayoutModel",
          "model_module_version": "1.2.0",
          "state": {
            "_view_name": "LayoutView",
            "grid_template_rows": null,
            "right": null,
            "justify_content": null,
            "_view_module": "@jupyter-widgets/base",
            "overflow": null,
            "_model_module_version": "1.2.0",
            "_view_count": null,
            "flex_flow": null,
            "width": null,
            "min_width": null,
            "border": null,
            "align_items": null,
            "bottom": null,
            "_model_module": "@jupyter-widgets/base",
            "top": null,
            "grid_column": null,
            "overflow_y": null,
            "overflow_x": null,
            "grid_auto_flow": null,
            "grid_area": null,
            "grid_template_columns": null,
            "flex": null,
            "_model_name": "LayoutModel",
            "justify_items": null,
            "grid_row": null,
            "max_height": null,
            "align_content": null,
            "visibility": null,
            "align_self": null,
            "height": null,
            "min_height": null,
            "padding": null,
            "grid_auto_rows": null,
            "grid_gap": null,
            "max_width": null,
            "order": null,
            "_view_module_version": "1.2.0",
            "grid_template_areas": null,
            "object_position": null,
            "object_fit": null,
            "grid_auto_columns": null,
            "margin": null,
            "display": null,
            "left": null
          }
        },
        "eb803d99ba7a4e32847fcb60d06b474d": {
          "model_module": "@jupyter-widgets/base",
          "model_name": "LayoutModel",
          "model_module_version": "1.2.0",
          "state": {
            "_view_name": "LayoutView",
            "grid_template_rows": null,
            "right": null,
            "justify_content": null,
            "_view_module": "@jupyter-widgets/base",
            "overflow": null,
            "_model_module_version": "1.2.0",
            "_view_count": null,
            "flex_flow": null,
            "width": null,
            "min_width": null,
            "border": null,
            "align_items": null,
            "bottom": null,
            "_model_module": "@jupyter-widgets/base",
            "top": null,
            "grid_column": null,
            "overflow_y": null,
            "overflow_x": null,
            "grid_auto_flow": null,
            "grid_area": null,
            "grid_template_columns": null,
            "flex": null,
            "_model_name": "LayoutModel",
            "justify_items": null,
            "grid_row": null,
            "max_height": null,
            "align_content": null,
            "visibility": null,
            "align_self": null,
            "height": null,
            "min_height": null,
            "padding": null,
            "grid_auto_rows": null,
            "grid_gap": null,
            "max_width": null,
            "order": null,
            "_view_module_version": "1.2.0",
            "grid_template_areas": null,
            "object_position": null,
            "object_fit": null,
            "grid_auto_columns": null,
            "margin": null,
            "display": null,
            "left": null
          }
        }
      }
    }
  },
  "cells": [
    {
      "cell_type": "markdown",
      "metadata": {
        "id": "view-in-github",
        "colab_type": "text"
      },
      "source": [
        "<a href=\"https://colab.research.google.com/github/UttaraKet1607/Malarial-Cell-Image-Segmentation/blob/main/Segmentation_hist_itk.ipynb\" target=\"_parent\"><img src=\"https://colab.research.google.com/assets/colab-badge.svg\" alt=\"Open In Colab\"/></a>"
      ]
    },
    {
      "cell_type": "markdown",
      "source": [
        "# Comparative study of segmentation of malarial cell images using multiple pathways"
      ],
      "metadata": {
        "id": "suIURX-z5qIZ"
      }
    },
    {
      "cell_type": "markdown",
      "source": [
        "### 1. Download the dataset from kaggle using colab commands or directly from [kaggle datasets](https://www.kaggle.com/iarunava/cell-images-for-detecting-malaria)"
      ],
      "metadata": {
        "id": "-yJFBFhI5JkE"
      }
    },
    {
      "cell_type": "code",
      "execution_count": 1,
      "metadata": {
        "id": "IHbzVgg-f7oe"
      },
      "outputs": [],
      "source": [
        "! pip install kaggle\n",
        "! mkdir ~/.kaggle\n",
        "! cp kaggle.json ~/.kaggle/\n",
        "! chmod 600 ~/.kaggle/kaggle.json"
      ]
    },
    {
      "cell_type": "code",
      "source": [
        "! kaggle datasets download iarunava/cell-images-for-detecting-malaria\n",
        "! unzip cell-images-for-detecting-malaria.zip"
      ],
      "metadata": {
        "id": "5n_xKi7pgfaW"
      },
      "execution_count": null,
      "outputs": []
    },
    {
      "cell_type": "markdown",
      "source": [
        "### 2. Import required libraries or modules"
      ],
      "metadata": {
        "id": "kwQZbmjj5KO3"
      }
    },
    {
      "cell_type": "code",
      "source": [
        "import numpy as np # linear algebra\n",
        "import pandas as pd # data processing, CSV file I/O (e.g. pd.read_csv)\n",
        "import os\n",
        "print(os.listdir(\"/content/cell_images\"))"
      ],
      "metadata": {
        "colab": {
          "base_uri": "https://localhost:8080/"
        },
        "id": "GhbXqdkygygq",
        "outputId": "1a8ef9ea-15a1-4166-c759-c80e7c132595"
      },
      "execution_count": 3,
      "outputs": [
        {
          "output_type": "stream",
          "name": "stdout",
          "text": [
            "['Parasitized', 'cell_images', 'Uninfected']\n"
          ]
        }
      ]
    },
    {
      "cell_type": "code",
      "source": [
        "import cv2\n",
        "import matplotlib.pyplot as plt \n",
        "import seaborn as sns\n",
        "import os\n",
        "from PIL import Image\n",
        "from keras.preprocessing.image import img_to_array\n",
        "from keras.preprocessing.image import load_img\n",
        "from keras.utils import np_utils"
      ],
      "metadata": {
        "id": "dn_8XxfghM68"
      },
      "execution_count": 4,
      "outputs": []
    },
    {
      "cell_type": "markdown",
      "source": [
        "### 3. Understand the data"
      ],
      "metadata": {
        "id": "pDHco-1z5LEm"
      }
    },
    {
      "cell_type": "markdown",
      "source": [
        "#### 3.1 Visualize a few samples of the data"
      ],
      "metadata": {
        "id": "XlRJE6LM5dK-"
      }
    },
    {
      "cell_type": "code",
      "source": [
        "parasitized_data = os.listdir('/content/cell_images/Parasitized')\n",
        "print(parasitized_data[:10]) #the output we get are the .png files\n",
        "\n",
        "uninfected_data = os.listdir('/content/cell_images/Uninfected/')\n",
        "print('\\n')\n",
        "print(uninfected_data[:10])"
      ],
      "metadata": {
        "colab": {
          "base_uri": "https://localhost:8080/"
        },
        "id": "hsZ5a-uMhOq1",
        "outputId": "d24a2846-2d54-418d-afdd-6154422ee761"
      },
      "execution_count": 5,
      "outputs": [
        {
          "output_type": "stream",
          "name": "stdout",
          "text": [
            "['C33P1thinF_IMG_20150619_121503a_cell_158.png', 'C139P100ThinF_IMG_20151005_182410_cell_173.png', 'C70P31_ThinF_IMG_20150819_142744_cell_99.png', 'C167P128ReThinF_IMG_20151201_105354_cell_248.png', 'C129P90ThinF_IMG_20151004_134944_cell_19.png', 'C166P127ThinF_IMG_20151117_193931_cell_210.png', 'C91P52ThinF_IMG_20150821_124739_cell_181.png', 'C167P128ReThinF_IMG_20151201_105102_cell_247.png', 'C168P129ThinF_IMG_20151118_161940_cell_156.png', 'C182P143NThinF_IMG_20151201_171950_cell_157.png']\n",
            "\n",
            "\n",
            "['C161P122ThinF_IMG_20151116_101210_cell_119.png', 'C136P97ThinF_IMG_20151005_143329_cell_26.png', 'C170P131ThinF_IMG_20151119_120111_cell_160.png', 'C93P54ThinF_IMG_20150821_162901_cell_144.png', 'C117P78ThinF_IMG_20150930_221927_cell_28.png', 'C56P17thinF_IMG_20150728_160256_cell_59.png', 'C99P60ThinF_IMG_20150918_140900_cell_91.png', 'C7NthinF_IMG_20150611_104824_cell_145.png', 'C230ThinF_IMG_20151112_150621_cell_142.png', 'C236ThinF_IMG_20151127_102546_cell_199.png']\n"
          ]
        }
      ]
    },
    {
      "cell_type": "code",
      "source": [
        "len(parasitized_data), len(uninfected_data)"
      ],
      "metadata": {
        "id": "x9VydlwO7INd",
        "outputId": "3744b2d4-10b0-4f71-d672-c921628b2691",
        "colab": {
          "base_uri": "https://localhost:8080/"
        }
      },
      "execution_count": 64,
      "outputs": [
        {
          "output_type": "execute_result",
          "data": {
            "text/plain": [
              "(13780, 13780)"
            ]
          },
          "metadata": {},
          "execution_count": 64
        }
      ]
    },
    {
      "cell_type": "code",
      "source": [
        "plt.figure(figsize = (12,12))\n",
        "for i in range(4):\n",
        "    plt.subplot(1, 4, i+1)\n",
        "    img = cv2.imread('/content/cell_images/Parasitized' + \"/\" + parasitized_data[i])\n",
        "    plt.imshow(img)\n",
        "    plt.title('PARASITIZED : 1')\n",
        "    plt.tight_layout()\n",
        "plt.show()"
      ],
      "metadata": {
        "colab": {
          "base_uri": "https://localhost:8080/",
          "height": 228
        },
        "id": "SBcGUpgOhYKo",
        "outputId": "f4374863-5016-494b-88d8-53a6cf9793e5"
      },
      "execution_count": 6,
      "outputs": [
        {
          "output_type": "display_data",
          "data": {
            "image/png": "[encoded data removed]",
            "text/plain": [
              "<Figure size 864x864 with 4 Axes>"
            ]
          },
          "metadata": {
            "needs_background": "light"
          }
        }
      ]
    },
    {
      "cell_type": "markdown",
      "source": [
        "#### 3.2 Resize all images and save image data as numpy array along with labels [0,1] "
      ],
      "metadata": {
        "id": "l2ned3VE5bzy"
      }
    },
    {
      "cell_type": "code",
      "source": [
        "data = []\n",
        "labels = []\n",
        "for img in parasitized_data:\n",
        "    try:\n",
        "        img_read = plt.imread('/content/cell_images/Parasitized' + \"/\" + img)\n",
        "        img_resize = cv2.resize(img_read, (50, 50))\n",
        "        img_array = img_to_array(img_resize)\n",
        "        data.append(img_array)\n",
        "        labels.append(1)\n",
        "    except:\n",
        "        None\n",
        "        \n",
        "for img in uninfected_data:\n",
        "    try:\n",
        "        img_read = plt.imread('/content/cell_images/Uninfected' + \"/\" + img)\n",
        "        img_resize = cv2.resize(img_read, (50, 50))\n",
        "        img_array = img_to_array(img_resize)\n",
        "        data.append(img_array)\n",
        "        labels.append(0)\n",
        "    except:\n",
        "        None"
      ],
      "metadata": {
        "id": "JrwNhE0uhbg9"
      },
      "execution_count": 7,
      "outputs": []
    },
    {
      "cell_type": "code",
      "source": [
        "plt.imshow(data[0])\n",
        "plt.show()"
      ],
      "metadata": {
        "colab": {
          "base_uri": "https://localhost:8080/",
          "height": 267
        },
        "id": "xpINiGsDiwzp",
        "outputId": "6cc3f974-f0d8-4955-e493-2a9df015364c"
      },
      "execution_count": 8,
      "outputs": [
        {
          "output_type": "display_data",
          "data": {
            "image/png": "[encoded data removed]",
            "text/plain": [
              "<Figure size 432x288 with 1 Axes>"
            ]
          },
          "metadata": {
            "needs_background": "light"
          }
        }
      ]
    },
    {
      "cell_type": "code",
      "source": [
        "image_data = np.array(data)\n",
        "labels = np.array(labels)"
      ],
      "metadata": {
        "id": "TLjrM7zjjQ3x"
      },
      "execution_count": 9,
      "outputs": []
    },
    {
      "cell_type": "code",
      "source": [
        "idx = np.arange(image_data.shape[0])\n",
        "image_data = image_data[idx]\n",
        "labels = labels[idx]"
      ],
      "metadata": {
        "id": "RiyB09m1jUmZ"
      },
      "execution_count": 10,
      "outputs": []
    },
    {
      "cell_type": "code",
      "source": [
        "image_data.shape, labels.shape"
      ],
      "metadata": {
        "colab": {
          "base_uri": "https://localhost:8080/"
        },
        "id": "ET2pUfQajXsm",
        "outputId": "e388e2db-3395-4277-8ed3-395aeba115f4"
      },
      "execution_count": 11,
      "outputs": [
        {
          "output_type": "execute_result",
          "data": {
            "text/plain": [
              "((27558, 50, 50, 3), (27558,))"
            ]
          },
          "metadata": {},
          "execution_count": 11
        }
      ]
    },
    {
      "cell_type": "markdown",
      "source": [
        "### 4. Image segmentation (Parasitized)"
      ],
      "metadata": {
        "id": "ZPA-eEx55atu"
      }
    },
    {
      "cell_type": "markdown",
      "source": [
        "#### 4.1 Implement traditional segmentation technique (using thresholding) on a single image "
      ],
      "metadata": {
        "id": "GD2eSacV5Z4v"
      }
    },
    {
      "cell_type": "code",
      "source": [
        "imgpath1 =  \"/content/cell_images/Parasitized/C100P61ThinF_IMG_20150918_144104_cell_162.png\"\n",
        "img = cv2.imread(imgpath1, 0)\n",
        "th = 0\n",
        "max_val = 255\n",
        "    \n",
        "ret, o1 = cv2.threshold(img, th, max_val, cv2.THRESH_BINARY + cv2.THRESH_OTSU )\n",
        "ret, o2 = cv2.threshold(img, th, max_val, cv2.THRESH_BINARY_INV + cv2.THRESH_OTSU )\n",
        "ret, o3 = cv2.threshold(img, th, max_val, cv2.THRESH_TOZERO + cv2.THRESH_OTSU )\n",
        "ret, o4 = cv2.threshold(img, th, max_val, cv2.THRESH_TOZERO_INV + cv2.THRESH_OTSU )\n",
        "ret, o5 = cv2.threshold(img, th, max_val, cv2.THRESH_TRUNC + cv2.THRESH_OTSU )\n",
        "    \n",
        "output = [img, o1, o2, o3, o4, o5]\n",
        "    \n",
        "titles = ['Original', 'Binary', 'Binary Inv',\n",
        "              'Zero', 'Zero Inv', 'Trunc']\n",
        "    \n",
        "for i in range(6):\n",
        "        plt.subplot(2, 3, i+1)\n",
        "        plt.imshow(output[i], cmap='gray')\n",
        "        plt.title(titles[i])\n",
        "        plt.xticks([])\n",
        "        plt.yticks([])\n",
        "\n",
        "plt.show()"
      ],
      "metadata": {
        "id": "WtqjTijb67ok",
        "outputId": "c05b715f-8405-4899-a5cc-e71390f4b715",
        "colab": {
          "base_uri": "https://localhost:8080/",
          "height": 268
        }
      },
      "execution_count": 63,
      "outputs": [
        {
          "output_type": "display_data",
          "data": {
            "image/png": "[encoded data removed]",
            "text/plain": [
              "<Figure size 432x288 with 6 Axes>"
            ]
          },
          "metadata": {}
        }
      ]
    },
    {
      "cell_type": "markdown",
      "source": [
        "#### 4.2 Implement traditional image segmentation on multiple images and generate a segmented mask "
      ],
      "metadata": {
        "id": "hpoA0O0h5fV-"
      }
    },
    {
      "cell_type": "code",
      "source": [
        "!pip install itk\n",
        "!pip install itkwidgets"
      ],
      "metadata": {
        "id": "_kXt6regltQz"
      },
      "execution_count": null,
      "outputs": []
    },
    {
      "cell_type": "code",
      "source": [
        "import nibabel as nib\n",
        "import itk\n",
        "import itkwidgets\n",
        "from ipywidgets import interact, interactive, IntSlider, ToggleButtons"
      ],
      "metadata": {
        "id": "fdg-JHG6ltOA"
      },
      "execution_count": 25,
      "outputs": []
    },
    {
      "cell_type": "code",
      "source": [
        "def histo(layer):\n",
        "  histogram, bin_edges = np.histogram(image_data[layer], bins=256, range=(0, 1))\n",
        "  plt.title(\"Grayscale Histogram\")\n",
        "  plt.xlabel(\"grayscale value\")\n",
        "  plt.ylabel(\"pixel count\")\n",
        "  plt.plot(bin_edges[0:-1], histogram)  # <- or here"
      ],
      "metadata": {
        "id": "J0dB3Zj25Sgc"
      },
      "execution_count": 52,
      "outputs": []
    },
    {
      "cell_type": "markdown",
      "source": [
        "##### 4.2.1 Segmentation mask using `cv2.THRESH_TOZERO_INV+cv2.THRESH_OTSU`"
      ],
      "metadata": {
        "id": "g7U1VZB7_eUV"
      }
    },
    {
      "cell_type": "code",
      "source": [
        "def zero_inv_otsu(layer):\n",
        "  plt.figure(figsize = (8,8))\n",
        "  plt.subplot(3,3,1)\n",
        "  image1 = cv2.imread('/content/cell_images/Parasitized' + \"/\" + parasitized_data[layer])\n",
        "  plt.imshow(image1, cmap='gray')\n",
        "  plt.title('original image')\n",
        "  image = cv2.imread('/content/cell_images/Parasitized' + \"/\" + parasitized_data[layer],0)\n",
        "  kernel = np.array([[-1,-1,-1], [-1,9,-1], [-1,-1,-1]])\n",
        "  img = cv2.filter2D(image, ddepth=-1, kernel=kernel)\n",
        "  ret, thresh = cv2.threshold(img,0,255,cv2.THRESH_TOZERO_INV+cv2.THRESH_OTSU)\n",
        "  output1 = cv2.bitwise_and(image1, image1, mask = thresh)\n",
        "  plt.subplot(3,3,2)\n",
        "  plt.imshow(output1, cmap='gray')\n",
        "  plt.title('zero-inv + otsu')\n",
        "  plt.subplot(3,3,3)\n",
        "  histo(layer)"
      ],
      "metadata": {
        "id": "0TzPdgqWo3cg"
      },
      "execution_count": 58,
      "outputs": []
    },
    {
      "cell_type": "markdown",
      "source": [
        "##### 4.2.2 Segmentation mask using watershed algorithm on top of `cv2.THRESH_TOZERO_INV+cv2.THRESH_OTSU`"
      ],
      "metadata": {
        "id": "G9GDYItG_mE0"
      }
    },
    {
      "cell_type": "code",
      "source": [
        "def watershed(layer):\n",
        "  plt.figure(figsize = (8,8))\n",
        "  plt.subplot(3,3,1)\n",
        "  image1 = cv2.imread('/content/cell_images/Parasitized' + \"/\" + parasitized_data[layer])\n",
        "  plt.imshow(image1, cmap='gray')\n",
        "  plt.title('original image')\n",
        "  image = cv2.imread('/content/cell_images/Parasitized' + \"/\" + parasitized_data[layer],0)\n",
        "  kernel = np.array([[-1,-1,-1], [-1,9,-1], [-1,-1,-1]])\n",
        "  img = cv2.filter2D(image, ddepth=-1, kernel=kernel)\n",
        "  ret, thresh = cv2.threshold(img,0,255,cv2.THRESH_TOZERO_INV+cv2.THRESH_OTSU)\n",
        "  # noise removal\n",
        "  kernel = np.ones((3,3),np.uint8)\n",
        "  #opening = cv2.morphologyEx(thresh,cv2.MORPH_OPEN,kernel, iterations = 2)\n",
        "  closing = cv2.morphologyEx(thresh,cv2.MORPH_CLOSE,kernel, iterations = 2)\n",
        "  # sure background area\n",
        "  sure_bg = cv2.dilate(closing,kernel,iterations=4)\n",
        "  output1 = cv2.bitwise_and(image1, image1, mask = sure_bg)\n",
        "  medianBlur = cv2.medianBlur(output1, 3)\n",
        "  plt.subplot(3,3,2)\n",
        "  plt.imshow(medianBlur, cmap='gray')\n",
        "  plt.title('watershed')\n",
        "  plt.tight_layout()\n",
        "  plt.subplot(3,3,3)\n",
        "  histo(layer)"
      ],
      "metadata": {
        "id": "E_E9en1Z1_TO"
      },
      "execution_count": 59,
      "outputs": []
    },
    {
      "cell_type": "markdown",
      "source": [
        "##### 4.2.3 Segmentation using k-means algorithm"
      ],
      "metadata": {
        "id": "MGOVcJ19Fl9g"
      }
    },
    {
      "cell_type": "code",
      "source": [
        "def k_means(layer):\n",
        "  plt.figure(figsize = (8,8))\n",
        "  plt.subplot(3,3,1)\n",
        "  image1 = cv2.imread('/content/cell_images/Parasitized' + \"/\" + parasitized_data[layer])\n",
        "  plt.imshow(image1, cmap='gray')\n",
        "  plt.title('original image')\n",
        "  image1 = cv2.cvtColor(image1, cv2.COLOR_BGR2RGB)\n",
        "  # Reshaping the image into a 2D array of pixels and 3 color values (RGB)\n",
        "  pixel_vals = image1.reshape((-1,3))\n",
        "  # Convert to float type\n",
        "  pixel_vals = np.float32(pixel_vals)   \n",
        "  #the below line of code defines the criteria for the algorithm to stop running, which will happen is 100 iterations are run or the epsilon (which is the required accuracy) becomes 85%\n",
        "  criteria = (cv2.TERM_CRITERIA_EPS + cv2.TERM_CRITERIA_MAX_ITER, 100, 0.95)\n",
        "  # then perform k-means clustering wit h number of clusters defined as 3 also random centres are initially choosed for k-means clustering\n",
        "  k = 3\n",
        "  retval, labels, centers = cv2.kmeans(pixel_vals, k, None, criteria, 10, cv2.KMEANS_RANDOM_CENTERS)\n",
        "  # convert data into 8-bit values\n",
        "  centers = np.uint8(centers)\n",
        "  segmented_data = centers[labels.flatten()]\n",
        "  # reshape data into the original image dimensions\n",
        "  segmented_image = segmented_data.reshape((image.shape))\n",
        "  plt.subplot(3,3,2)  \n",
        "  plt.imshow(segmented_image, cmap='gray')\n",
        "  plt.title('k-means')\n",
        "  plt.tight_layout()\n",
        "  plt.subplot(3,3,3)\n",
        "  histo(layer)"
      ],
      "metadata": {
        "id": "D-Ebp_ym1_JN"
      },
      "execution_count": 60,
      "outputs": []
    },
    {
      "cell_type": "markdown",
      "source": [
        "##### 4.2.4 Segmentation using Adaptive thresholding"
      ],
      "metadata": {
        "id": "OnZXv3L0Z4Fs"
      }
    },
    {
      "cell_type": "code",
      "source": [
        "def adaptive_t(layer):\n",
        "  plt.figure(figsize = (8,8))\n",
        "  plt.subplot(3,3,1)\n",
        "  image1 = cv2.imread('/content/cell_images/Parasitized' + \"/\" + parasitized_data[layer])\n",
        "  plt.imshow(image1, cmap='gray')\n",
        "  plt.title('original image')\n",
        "  gray = cv2.cvtColor(image1, cv2.COLOR_BGR2GRAY)\n",
        "  blurred = cv2.GaussianBlur(gray, (7, 7), 0)\n",
        "  thresh = cv2.adaptiveThreshold(blurred, 255,cv2.ADAPTIVE_THRESH_MEAN_C, cv2.THRESH_BINARY_INV, 17,10)\n",
        "  output1 = cv2.bitwise_and(image1, image1, mask = thresh)\n",
        "  plt.subplot(3,3,2)\n",
        "  plt.imshow(output1, cmap='gray')\n",
        "  plt.title('adaptive thresh')\n",
        "  plt.tight_layout() \n",
        "  plt.subplot(3,3,3)\n",
        "  histo(layer)"
      ],
      "metadata": {
        "id": "3G6TjQUq1_B6"
      },
      "execution_count": 61,
      "outputs": []
    },
    {
      "cell_type": "code",
      "source": [
        "# Create button values\n",
        "select_class = ToggleButtons(\n",
        "    options=['zero-inv + otsu','watershed', 'k-means', 'adaptive thresh'],\n",
        "    description='Select Class:',\n",
        "    disabled=False,\n",
        "    button_style='info', \n",
        ")\n",
        "# Create layer slider\n",
        "select_layer = IntSlider(min=0, max=len(parasitized_data)-1, description='Select Image Number', continuous_update=False)\n",
        "    \n",
        "# Define a function for plotting images\n",
        "def plot_image(seg_class, layer):\n",
        "    if seg_class == 'zero-inv + otsu':\n",
        "        zero_inv_otsu(layer)\n",
        "    elif seg_class == 'watershed':\n",
        "        watershed(layer)\n",
        "    elif seg_class == 'k-means': \n",
        "        k_means(layer)  \n",
        "    elif seg_class == 'adaptive thresh':  \n",
        "        adaptive_t(layer)\n",
        "# Use the interactive() tool to create the visualization\n",
        "interactive(plot_image, seg_class=select_class, layer=select_layer)"
      ],
      "metadata": {
        "id": "7gt8lAfxlI0Z",
        "outputId": "78984346-7cb2-4137-d64d-53fcc6b122bf",
        "colab": {
          "base_uri": "https://localhost:8080/",
          "height": 270,
          "referenced_widgets": [
            "396dd40b465844fb890eb38a6ed1a971",
            "6a389754380e44b3a2177600404ac2d8",
            "6f23aae1832a474e8de5198f0f5ff897",
            "30f6f21e23d44131b7e9fa431d1b1640",
            "150375d4a09840dfb72183b4e4fc65fa",
            "7f0c49172d874fff8f547bfbc9ac7329",
            "40dd5a4a871244ea8daf20abe78be848",
            "4d4c494045f4492f9916051b7c211b01",
            "43e912275937466f803b3b73b81f2914",
            "eb803d99ba7a4e32847fcb60d06b474d"
          ]
        }
      },
      "execution_count": 68,
      "outputs": [
        {
          "output_type": "display_data",
          "data": {
            "application/vnd.jupyter.widget-view+json": {
              "model_id": "396dd40b465844fb890eb38a6ed1a971",
              "version_minor": 0,
              "version_major": 2
            },
            "text/plain": [
              "interactive(children=(ToggleButtons(button_style='info', description='Select Class:', options=('zero-inv + ots…"
            ]
          },
          "metadata": {}
        }
      ]
    },
    {
      "cell_type": "markdown",
      "source": [
        "### 5. Generate segmented data for all image samples in the dataset"
      ],
      "metadata": {
        "id": "JppgS4aJ5g4Q"
      }
    },
    {
      "cell_type": "markdown",
      "source": [
        "#### 5.1 Watershed algorithm on top of `cv2.THRESH_TOZERO_INV+cv2.THRESH_OTSU`"
      ],
      "metadata": {
        "id": "_F5tGEsq5hoL"
      }
    },
    {
      "cell_type": "code",
      "source": [
        "import os \n",
        "infected_dir = \"/content/cell_images/Parasitized_segmented\"\n",
        "os.mkdir(infected_dir) \n",
        "uninfected_dir = \"/content/cell_images/Uninfected_segmented\"\n",
        "os.mkdir(uninfected_dir) "
      ],
      "metadata": {
        "id": "kLysGfJKEb0I"
      },
      "execution_count": 69,
      "outputs": []
    },
    {
      "cell_type": "code",
      "source": [
        "for images in parasitized_data:\n",
        "  try:\n",
        "    image1 = cv2.imread('/content/cell_images/Parasitized' + \"/\" + images)\n",
        "    image = cv2.imread('/content/cell_images/Parasitized' + \"/\" + images,0)\n",
        "    kernel = np.array([[-1,-1,-1], [-1,9,-1], [-1,-1,-1]])\n",
        "    img = cv2.filter2D(image, ddepth=-1, kernel=kernel)\n",
        "    ret, thresh = cv2.threshold(img,0,255,cv2.THRESH_TOZERO_INV+cv2.THRESH_OTSU)\n",
        "    # noise removal\n",
        "    kernel = np.ones((3,3),np.uint8)\n",
        "    #opening = cv2.morphologyEx(thresh,cv2.MORPH_OPEN,kernel, iterations = 2)\n",
        "    closing = cv2.morphologyEx(thresh,cv2.MORPH_CLOSE,kernel, iterations = 2)\n",
        "    # sure background area\n",
        "    sure_bg = cv2.dilate(closing,kernel,iterations=4)\n",
        "    output1 = cv2.bitwise_and(image1, image1, mask = sure_bg)\n",
        "    isWritten = cv2.imwrite('/content/cell_images/Parasitized_segmented' + \"/\" + images, output1)        \n",
        "    if isWritten:\n",
        "\t        print('Image is successfully saved as file.')\n",
        "  except:\n",
        "    None"
      ],
      "metadata": {
        "id": "-ya_LF4LEbg_"
      },
      "execution_count": null,
      "outputs": []
    },
    {
      "cell_type": "code",
      "source": [
        "for images in uninfected_data:\n",
        "  try:\n",
        "    image1 = cv2.imread('/content/cell_images/Uninfected' + \"/\" + images)\n",
        "    image = cv2.imread('/content/cell_images/Uninfected' + \"/\" + images,0)\n",
        "    kernel = np.array([[-1,-1,-1], [-1,9,-1], [-1,-1,-1]])\n",
        "    img = cv2.filter2D(image, ddepth=-1, kernel=kernel)\n",
        "    ret, thresh = cv2.threshold(img,0,255,cv2.THRESH_TOZERO_INV+cv2.THRESH_OTSU)\n",
        "    # noise removal\n",
        "    kernel = np.ones((3,3),np.uint8)\n",
        "    #opening = cv2.morphologyEx(thresh,cv2.MORPH_OPEN,kernel, iterations = 2)\n",
        "    closing = cv2.morphologyEx(thresh,cv2.MORPH_CLOSE,kernel, iterations = 2)\n",
        "    # sure background area\n",
        "    sure_bg = cv2.dilate(closing,kernel,iterations=4)\n",
        "    output1 = cv2.bitwise_and(image1, image1, mask = sure_bg)\n",
        "    isWritten = cv2.imwrite('/content/cell_images/Uninfected_segmented' + \"/\" + images, output1)        \n",
        "    if isWritten:\n",
        "\t        print('Image is successfully saved as file.')\n",
        "  except:\n",
        "    None"
      ],
      "metadata": {
        "id": "0WMUlwFcLYWX"
      },
      "execution_count": null,
      "outputs": []
    },
    {
      "cell_type": "code",
      "source": [
        "#!zip -r /content/cell_images.zip /content/cell_images/"
      ],
      "metadata": {
        "id": "-UQA2G2wMTXR"
      },
      "execution_count": 72,
      "outputs": []
    },
    {
      "cell_type": "markdown",
      "source": [
        "#### 5.2 Cross check if all image files are saved successfully "
      ],
      "metadata": {
        "id": "oGx_DEyOLUJA"
      }
    },
    {
      "cell_type": "code",
      "source": [
        "import os\n",
        "\n",
        "list = os.listdir('/content/cell_images/Parasitized') # dir is your directory path\n",
        "number_files = len(list)\n",
        "list = os.listdir('/content/cell_images/Parasitized_segmented') # dir is your directory path\n",
        "number_files = len(list)\n",
        "print(number_files)\n",
        "print(len(parasitized_data))"
      ],
      "metadata": {
        "colab": {
          "base_uri": "https://localhost:8080/"
        },
        "id": "OcawW6DRK12f",
        "outputId": "5df81ebb-ab56-4857-a32b-095b6a99c8ee"
      },
      "execution_count": 73,
      "outputs": [
        {
          "output_type": "stream",
          "name": "stdout",
          "text": [
            "13779\n",
            "13780\n"
          ]
        }
      ]
    },
    {
      "cell_type": "code",
      "source": [
        "list = os.listdir('/content/cell_images/Uninfected') # dir is your directory path\n",
        "number_files = len(list)\n",
        "list = os.listdir('/content/cell_images/Uninfected_segmented') # dir is your directory path\n",
        "number_files = len(list)\n",
        "print(number_files)\n",
        "print(len(uninfected_data))"
      ],
      "metadata": {
        "outputId": "9ef9d515-c939-407c-8667-a72717517de8",
        "colab": {
          "base_uri": "https://localhost:8080/"
        },
        "id": "JZoGiiU_Lw34"
      },
      "execution_count": 74,
      "outputs": [
        {
          "output_type": "stream",
          "name": "stdout",
          "text": [
            "13779\n",
            "13780\n"
          ]
        }
      ]
    },
    {
      "cell_type": "code",
      "source": [
        "seg_parasitized_data = os.listdir('/content/cell_images/Parasitized_segmented')\n",
        "print(seg_parasitized_data[:10]) #the output we get are the .png files\n",
        "\n",
        "seg_uninfected_data = os.listdir('/content/cell_images/Uninfected_segmented/')\n",
        "print('\\n')\n",
        "print(seg_uninfected_data[:10])"
      ],
      "metadata": {
        "id": "O6-A80q-c2EC",
        "outputId": "7c5d2bdb-361a-44dd-9f03-d893349969ad",
        "colab": {
          "base_uri": "https://localhost:8080/"
        }
      },
      "execution_count": 75,
      "outputs": [
        {
          "output_type": "stream",
          "name": "stdout",
          "text": [
            "['C33P1thinF_IMG_20150619_121503a_cell_158.png', 'C139P100ThinF_IMG_20151005_182410_cell_173.png', 'C70P31_ThinF_IMG_20150819_142744_cell_99.png', 'C167P128ReThinF_IMG_20151201_105354_cell_248.png', 'C129P90ThinF_IMG_20151004_134944_cell_19.png', 'C166P127ThinF_IMG_20151117_193931_cell_210.png', 'C91P52ThinF_IMG_20150821_124739_cell_181.png', 'C167P128ReThinF_IMG_20151201_105102_cell_247.png', 'C168P129ThinF_IMG_20151118_161940_cell_156.png', 'C182P143NThinF_IMG_20151201_171950_cell_157.png']\n",
            "\n",
            "\n",
            "['C161P122ThinF_IMG_20151116_101210_cell_119.png', 'C136P97ThinF_IMG_20151005_143329_cell_26.png', 'C170P131ThinF_IMG_20151119_120111_cell_160.png', 'C93P54ThinF_IMG_20150821_162901_cell_144.png', 'C117P78ThinF_IMG_20150930_221927_cell_28.png', 'C56P17thinF_IMG_20150728_160256_cell_59.png', 'C99P60ThinF_IMG_20150918_140900_cell_91.png', 'C7NthinF_IMG_20150611_104824_cell_145.png', 'C230ThinF_IMG_20151112_150621_cell_142.png', 'C236ThinF_IMG_20151127_102546_cell_199.png']\n"
          ]
        }
      ]
    },
    {
      "cell_type": "code",
      "source": [
        "data = []\n",
        "labels = []\n",
        "for img in seg_parasitized_data:\n",
        "    try:\n",
        "        img_read = plt.imread('/content/cell_images/Parasitized_segmented' + \"/\" + img)\n",
        "        img_resize = cv2.resize(img_read, (50, 50))\n",
        "        img_array = img_to_array(img_resize)\n",
        "        data.append(img_array)\n",
        "        labels.append(1)\n",
        "    except:\n",
        "        None\n",
        "        \n",
        "for img in seg_uninfected_data:\n",
        "    try:\n",
        "        img_read = plt.imread('/content/cell_images/Uninfected_segmented' + \"/\" + img)\n",
        "        img_resize = cv2.resize(img_read, (50, 50))\n",
        "        img_array = img_to_array(img_resize)\n",
        "        data.append(img_array)\n",
        "        labels.append(0)\n",
        "    except:\n",
        "        None"
      ],
      "metadata": {
        "id": "JPqE4iwmcozN"
      },
      "execution_count": 76,
      "outputs": []
    },
    {
      "cell_type": "code",
      "source": [
        "image_data = np.array(data)\n",
        "labels = np.array(labels)"
      ],
      "metadata": {
        "id": "7mGyC6p2dBh3"
      },
      "execution_count": 77,
      "outputs": []
    },
    {
      "cell_type": "code",
      "source": [
        "idx = np.arange(image_data.shape[0])\n",
        "image_data = image_data[idx]\n",
        "labels = labels[idx]"
      ],
      "metadata": {
        "id": "7iAfQH_7dBfP"
      },
      "execution_count": 78,
      "outputs": []
    },
    {
      "cell_type": "code",
      "source": [
        "image_data.shape, labels.shape"
      ],
      "metadata": {
        "id": "3K-Mi_SkdHhk",
        "outputId": "aa738c8f-30b0-4a6c-96fb-917d1600561d",
        "colab": {
          "base_uri": "https://localhost:8080/"
        }
      },
      "execution_count": 79,
      "outputs": [
        {
          "output_type": "execute_result",
          "data": {
            "text/plain": [
              "((27558, 50, 50, 3), (27558,))"
            ]
          },
          "metadata": {},
          "execution_count": 79
        }
      ]
    },
    {
      "cell_type": "code",
      "source": [
        "percent_cell=[]\n",
        "for images in range(0,13779):\n",
        "  try:\n",
        "    image1 = image_data[images]\n",
        "    rows,cols,_ = image1.shape\n",
        "    sum = 0\n",
        "    print(image1.shape)\n",
        "    for i in range(rows):\n",
        "        for j in range(cols):\n",
        "          k = image1[i,j]\n",
        "          for u in k:\n",
        "                if u != 0: sum = sum + 1\n",
        "    percent_cell.append((sum/7500)*100) \n",
        "  except:\n",
        "    None"
      ],
      "metadata": {
        "id": "wxzn8lMKfPUI"
      },
      "execution_count": null,
      "outputs": []
    },
    {
      "cell_type": "code",
      "source": [
        "print(len(percent_cell), min(percent_cell), max(percent_cell))"
      ],
      "metadata": {
        "id": "hLSUBvUhg2ZC",
        "colab": {
          "base_uri": "https://localhost:8080/"
        },
        "outputId": "6b3a4023-c7c9-43e5-f7a8-6a0a1aa5c934"
      },
      "execution_count": 81,
      "outputs": [
        {
          "output_type": "stream",
          "name": "stdout",
          "text": [
            "13779 0.0 63.74666666666666\n"
          ]
        }
      ]
    },
    {
      "cell_type": "code",
      "source": [
        "plt.figure(figsize = (8,8))\n",
        "plt.hist(percent_cell, 50)\n",
        "plt.show()"
      ],
      "metadata": {
        "id": "BkqPPbadhkIS",
        "colab": {
          "base_uri": "https://localhost:8080/",
          "height": 483
        },
        "outputId": "33200d30-6825-4338-bcc8-238508a2a0df"
      },
      "execution_count": 82,
      "outputs": [
        {
          "output_type": "display_data",
          "data": {
            "image/png": "[encoded data removed]",
            "text/plain": [
              "<Figure size 576x576 with 1 Axes>"
            ]
          },
          "metadata": {
            "needs_background": "light"
          }
        }
      ]
    },
    {
      "cell_type": "code",
      "source": [
        ""
      ],
      "metadata": {
        "id": "tDWGB_YH7r0R"
      },
      "execution_count": null,
      "outputs": []
    }
  ]
}